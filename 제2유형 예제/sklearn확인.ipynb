{
 "cells": [
  {
   "cell_type": "markdown",
   "metadata": {
    "collapsed": true,
    "pycharm": {
     "name": "#%% md\n"
    }
   },
   "source": [
    "[참고원본사이트](https://www.datamanim.com/dataset/03_dataq/crawlingMain.html#)\n",
    "\n",
    "# 사이킷런 튜토리얼"
   ]
  },
  {
   "cell_type": "markdown",
   "source": [
    "**빅분기 문제 해결을 위한 사이킷런 모듈 정리**\n",
    "- url : https://scikit-learn.org/stable/modules/classes.html#module"
   ],
   "metadata": {
    "collapsed": false,
    "pycharm": {
     "name": "#%% md\n"
    }
   }
  },
  {
   "cell_type": "markdown",
   "source": [
    "- 모듈이용\n",
    "- from import를 이용하여 사용하고자 하는 모듈만 import 합니다"
   ],
   "metadata": {
    "collapsed": false
   }
  },
  {
   "cell_type": "code",
   "execution_count": 1,
   "outputs": [],
   "source": [
    "from sklearn.preprocessing import MinMaxScaler\n",
    "minmax_sc = MinMaxScaler()\n"
   ],
   "metadata": {
    "collapsed": false,
    "pycharm": {
     "name": "#%%\n"
    }
   }
  },
  {
   "cell_type": "markdown",
   "source": [
    "**세부 카테고리 검색**\n",
    "- 중간가지의 모듈들 정도는 암기하고 dir 함수를 이용하여 세부 카테고리는 검색해가며 사용하면 좋음"
   ],
   "metadata": {
    "collapsed": false,
    "pycharm": {
     "name": "#%% md\n"
    }
   }
  },
  {
   "cell_type": "code",
   "execution_count": 2,
   "outputs": [
    {
     "data": {
      "text/plain": "['BaseCrossValidator',\n 'BaseShuffleSplit',\n 'GridSearchCV',\n 'GroupKFold',\n 'GroupShuffleSplit',\n 'KFold',\n 'LeaveOneGroupOut',\n 'LeaveOneOut',\n 'LeavePGroupsOut',\n 'LeavePOut',\n 'ParameterGrid',\n 'ParameterSampler',\n 'PredefinedSplit',\n 'RandomizedSearchCV',\n 'RepeatedKFold',\n 'RepeatedStratifiedKFold',\n 'ShuffleSplit',\n 'StratifiedGroupKFold',\n 'StratifiedKFold',\n 'StratifiedShuffleSplit',\n 'TimeSeriesSplit',\n '__all__',\n '__builtins__',\n '__cached__',\n '__doc__',\n '__file__',\n '__loader__',\n '__name__',\n '__package__',\n '__path__',\n '__spec__',\n '_search',\n '_split',\n '_validation',\n 'check_cv',\n 'cross_val_predict',\n 'cross_val_score',\n 'cross_validate',\n 'learning_curve',\n 'permutation_test_score',\n 'train_test_split',\n 'typing',\n 'validation_curve']"
     },
     "execution_count": 2,
     "metadata": {},
     "output_type": "execute_result"
    }
   ],
   "source": [
    "import sklearn.model_selection\n",
    "dir(sklearn.model_selection)"
   ],
   "metadata": {
    "collapsed": false,
    "pycharm": {
     "name": "#%%\n"
    }
   }
  },
  {
   "cell_type": "markdown",
   "source": [
    "**__all__ 을 이용한 탐색**\n",
    "- import sklearn 만 진행한후 __all__을 이용해서 하위 모듈들을 확인할 수 있음"
   ],
   "metadata": {
    "collapsed": false,
    "pycharm": {
     "name": "#%% md\n"
    }
   }
  },
  {
   "cell_type": "code",
   "execution_count": 6,
   "outputs": [
    {
     "data": {
      "text/plain": "['calibration',\n 'cluster',\n 'covariance',\n 'cross_decomposition',\n 'datasets',\n 'decomposition',\n 'dummy',\n 'ensemble',\n 'exceptions',\n 'experimental']"
     },
     "execution_count": 6,
     "metadata": {},
     "output_type": "execute_result"
    }
   ],
   "source": [
    "import sklearn\n",
    "sklearn.__all__[:10]"
   ],
   "metadata": {
    "collapsed": false,
    "pycharm": {
     "name": "#%%\n"
    }
   }
  },
  {
   "cell_type": "markdown",
   "source": [
    "## 모듈리스트"
   ],
   "metadata": {
    "collapsed": false,
    "pycharm": {
     "name": "#%% md\n"
    }
   }
  },
  {
   "cell_type": "code",
   "execution_count": 7,
   "outputs": [
    {
     "name": "stdout",
     "output_type": "stream",
     "text": [
      "sklearn\n",
      "│\n",
      "├── 01 preprocessing (전처리)\n",
      "│   │\n",
      "│   ├── 스케일러\n",
      "│   │   ├── MinMaxScaler\n",
      "│   │   ├── RobustScaler\n",
      "│   │   └── StandardScaler\n",
      "│   │\n",
      "│   └── 인코더\n",
      "│       ├── LabelEncoder\n",
      "│       └── OneHotEncoder\n",
      "│\n",
      "├── 02 model_selection (모델링 전처리)\n",
      "│   │\n",
      "│   ├── 데이터셋 분리\n",
      "│   │   ├── KFold\n",
      "│   │   ├── StratifiedKFold\n",
      "│   │   └── train_test_split\n",
      "│   │\n",
      "│   └── 하이퍼파라미터 튜닝\n",
      "│       └── GridSearchCV\n",
      "│\n",
      "├── 03 모델학습\n",
      "│   │\n",
      "│   ├── ensemble\n",
      "│   │   ├── AdaBoostClassifier\n",
      "│   │   ├── GradientBoostingClassifier\n",
      "│   │   ├── RandomForestClassifier\n",
      "│   │   └── RandomForestRegressor\n",
      "│   │\n",
      "│   ├── linear_model\n",
      "│   │   ├── LogisticRegression\n",
      "│   │   └── RidgeClassifier\n",
      "│   │\n",
      "│   ├── neighbors\n",
      "│   │   └── KNeighborsClassifier\n",
      "│   │\n",
      "│   ├── svm\n",
      "│   │   ├── SVC\n",
      "│   │   └── SVR\n",
      "│   │\n",
      "│   └── tree\n",
      "│       ├── DecisionTreeClassifier\n",
      "│       ├── DecisionTreeRegressor\n",
      "│       ├── ExtraTreeClassifier\n",
      "│       └── ExtraTreeRegressor\n",
      "│\n",
      "├── 04 모델평가\n",
      "│   │\n",
      "│   ├── metrics\n",
      "│   │   ├── accuracy_score\n",
      "│   │   ├── classification_report\n",
      "│   │   ├── confusion_matrix\n",
      "│   │   ├── f1_score\n",
      "│   │   ├── log_loss\n",
      "│   │   ├── mean_absolute_error\n",
      "│   │   ├── mean_squared_error\n",
      "│   │   └── roc_auc_score\n",
      "│   │\n",
      "│   └── model (정의된 모델에서 추출)\n",
      "│       ├── predict\n",
      "│       └── predict_proba\n",
      "│\n",
      "└── 05 최종앙상블\n",
      "    │\n",
      "    └── ensemble\n",
      "        ├── StackingClassifier\n",
      "        ├── StackingRegressor\n",
      "        ├── VotingClassifier\n",
      "        └── VotingRegressor\n"
     ]
    }
   ],
   "source": [
    "sklearn='''sklearn\n",
    "│\n",
    "├── 01 preprocessing (전처리)\n",
    "│   │\n",
    "│   ├── 스케일러\n",
    "│   │   ├── MinMaxScaler\n",
    "│   │   ├── RobustScaler\n",
    "│   │   └── StandardScaler\n",
    "│   │\n",
    "│   └── 인코더\n",
    "│       ├── LabelEncoder\n",
    "│       └── OneHotEncoder\n",
    "│\n",
    "├── 02 model_selection (모델링 전처리)\n",
    "│   │\n",
    "│   ├── 데이터셋 분리\n",
    "│   │   ├── KFold\n",
    "│   │   ├── StratifiedKFold\n",
    "│   │   └── train_test_split\n",
    "│   │\n",
    "│   └── 하이퍼파라미터 튜닝\n",
    "│       └── GridSearchCV\n",
    "│\n",
    "├── 03 모델학습\n",
    "│   │\n",
    "│   ├── ensemble\n",
    "│   │   ├── AdaBoostClassifier\n",
    "│   │   ├── GradientBoostingClassifier\n",
    "│   │   ├── RandomForestClassifier\n",
    "│   │   └── RandomForestRegressor\n",
    "│   │\n",
    "│   ├── linear_model\n",
    "│   │   ├── LogisticRegression\n",
    "│   │   └── RidgeClassifier\n",
    "│   │\n",
    "│   ├── neighbors\n",
    "│   │   └── KNeighborsClassifier\n",
    "│   │\n",
    "│   ├── svm\n",
    "│   │   ├── SVC\n",
    "│   │   └── SVR\n",
    "│   │\n",
    "│   └── tree\n",
    "│       ├── DecisionTreeClassifier\n",
    "│       ├── DecisionTreeRegressor\n",
    "│       ├── ExtraTreeClassifier\n",
    "│       └── ExtraTreeRegressor\n",
    "│\n",
    "├── 04 모델평가\n",
    "│   │\n",
    "│   ├── metrics\n",
    "│   │   ├── accuracy_score\n",
    "│   │   ├── classification_report\n",
    "│   │   ├── confusion_matrix\n",
    "│   │   ├── f1_score\n",
    "│   │   ├── log_loss\n",
    "│   │   ├── mean_absolute_error\n",
    "│   │   ├── mean_squared_error\n",
    "│   │   └── roc_auc_score\n",
    "│   │\n",
    "│   └── model (정의된 모델에서 추출)\n",
    "│       ├── predict\n",
    "│       └── predict_proba\n",
    "│\n",
    "└── 05 최종앙상블\n",
    "    │\n",
    "    └── ensemble\n",
    "        ├── StackingClassifier\n",
    "        ├── StackingRegressor\n",
    "        ├── VotingClassifier\n",
    "        └── VotingRegressor'''\n",
    "print(sklearn)\n"
   ],
   "metadata": {
    "collapsed": false,
    "pycharm": {
     "name": "#%%\n"
    }
   }
  },
  {
   "cell_type": "code",
   "execution_count": null,
   "outputs": [],
   "source": [],
   "metadata": {
    "collapsed": false,
    "pycharm": {
     "name": "#%%\n"
    }
   }
  }
 ],
 "metadata": {
  "kernelspec": {
   "display_name": "Python 3",
   "language": "python",
   "name": "python3"
  },
  "language_info": {
   "codemirror_mode": {
    "name": "ipython",
    "version": 2
   },
   "file_extension": ".py",
   "mimetype": "text/x-python",
   "name": "python",
   "nbconvert_exporter": "python",
   "pygments_lexer": "ipython2",
   "version": "2.7.6"
  }
 },
 "nbformat": 4,
 "nbformat_minor": 0
}