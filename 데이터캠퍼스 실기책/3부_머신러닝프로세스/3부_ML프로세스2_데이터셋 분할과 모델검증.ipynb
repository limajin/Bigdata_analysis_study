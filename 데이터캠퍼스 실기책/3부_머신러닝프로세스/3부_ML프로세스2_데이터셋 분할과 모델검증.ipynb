{
 "cells": [
  {
   "cell_type": "markdown",
   "metadata": {
    "collapsed": true,
    "pycharm": {
     "name": "#%% md\n"
    }
   },
   "source": [
    "# 5. 머신러닝 프로세스2: 데이터셋 분할과 모델검증\n",
    "- 훈련데이터 및 테스트 데이터셋 분할\n",
    "- 홀드아웃과 교차검증"
   ]
  },
  {
   "cell_type": "markdown",
   "source": [
    "## 5-1. 특성치(X), 레이블(y) 나누기"
   ],
   "metadata": {
    "collapsed": false,
    "pycharm": {
     "name": "#%% md\n"
    }
   }
  },
  {
   "cell_type": "code",
   "execution_count": 2,
   "outputs": [
    {
     "data": {
      "text/plain": "   gender_female  gender_male  region_Chungcheung  region_Honam  \\\n0              0            1                   0             0   \n1              0            1                   0             0   \n2              0            1                   0             1   \n3              1            0                   0             0   \n4              0            1                   0             0   \n\n   region_Others  region_Sudo  region_Youngnam  edu  income  age  score_gov  \\\n0              0            0                1    3       3    3          2   \n1              1            0                0    2       3    3          2   \n2              0            0                0    1       2    4          1   \n3              0            1                0    2       1    3          5   \n4              0            1                0    1       2    4          4   \n\n   score_progress  score_intention  vote  parties  \n0               2              4.0     1        2  \n1               4              3.0     0        3  \n2               3              2.8     1        4  \n3               4              2.6     1        1  \n4               3              2.4     1        1  ",
      "text/html": "<div>\n<style scoped>\n    .dataframe tbody tr th:only-of-type {\n        vertical-align: middle;\n    }\n\n    .dataframe tbody tr th {\n        vertical-align: top;\n    }\n\n    .dataframe thead th {\n        text-align: right;\n    }\n</style>\n<table border=\"1\" class=\"dataframe\">\n  <thead>\n    <tr style=\"text-align: right;\">\n      <th></th>\n      <th>gender_female</th>\n      <th>gender_male</th>\n      <th>region_Chungcheung</th>\n      <th>region_Honam</th>\n      <th>region_Others</th>\n      <th>region_Sudo</th>\n      <th>region_Youngnam</th>\n      <th>edu</th>\n      <th>income</th>\n      <th>age</th>\n      <th>score_gov</th>\n      <th>score_progress</th>\n      <th>score_intention</th>\n      <th>vote</th>\n      <th>parties</th>\n    </tr>\n  </thead>\n  <tbody>\n    <tr>\n      <th>0</th>\n      <td>0</td>\n      <td>1</td>\n      <td>0</td>\n      <td>0</td>\n      <td>0</td>\n      <td>0</td>\n      <td>1</td>\n      <td>3</td>\n      <td>3</td>\n      <td>3</td>\n      <td>2</td>\n      <td>2</td>\n      <td>4.0</td>\n      <td>1</td>\n      <td>2</td>\n    </tr>\n    <tr>\n      <th>1</th>\n      <td>0</td>\n      <td>1</td>\n      <td>0</td>\n      <td>0</td>\n      <td>1</td>\n      <td>0</td>\n      <td>0</td>\n      <td>2</td>\n      <td>3</td>\n      <td>3</td>\n      <td>2</td>\n      <td>4</td>\n      <td>3.0</td>\n      <td>0</td>\n      <td>3</td>\n    </tr>\n    <tr>\n      <th>2</th>\n      <td>0</td>\n      <td>1</td>\n      <td>0</td>\n      <td>1</td>\n      <td>0</td>\n      <td>0</td>\n      <td>0</td>\n      <td>1</td>\n      <td>2</td>\n      <td>4</td>\n      <td>1</td>\n      <td>3</td>\n      <td>2.8</td>\n      <td>1</td>\n      <td>4</td>\n    </tr>\n    <tr>\n      <th>3</th>\n      <td>1</td>\n      <td>0</td>\n      <td>0</td>\n      <td>0</td>\n      <td>0</td>\n      <td>1</td>\n      <td>0</td>\n      <td>2</td>\n      <td>1</td>\n      <td>3</td>\n      <td>5</td>\n      <td>4</td>\n      <td>2.6</td>\n      <td>1</td>\n      <td>1</td>\n    </tr>\n    <tr>\n      <th>4</th>\n      <td>0</td>\n      <td>1</td>\n      <td>0</td>\n      <td>0</td>\n      <td>0</td>\n      <td>1</td>\n      <td>0</td>\n      <td>1</td>\n      <td>2</td>\n      <td>4</td>\n      <td>4</td>\n      <td>3</td>\n      <td>2.4</td>\n      <td>1</td>\n      <td>1</td>\n    </tr>\n  </tbody>\n</table>\n</div>"
     },
     "execution_count": 2,
     "metadata": {},
     "output_type": "execute_result"
    }
   ],
   "source": [
    "# 데이터셋 불러오기\n",
    "import warnings\n",
    "warnings.filterwarnings(\"ignore\")\n",
    "import pandas as pd\n",
    "data = pd.read_csv(\"../제공자료/Fvote.csv\", encoding='utf-8')\n",
    "data.head()"
   ],
   "metadata": {
    "collapsed": false,
    "pycharm": {
     "name": "#%%\n"
    }
   }
  },
  {
   "cell_type": "code",
   "execution_count": 5,
   "outputs": [],
   "source": [
    "# 특성변수 데이터셋 나누기\n",
    "# 방법1: 특성이름으로 데이터셋 나누기\n",
    "X=data[['gender_female', 'gender_male', 'region_Chungcheung', 'region_Honam',\n",
    "        'region_Others', 'region_Sudo', 'region_Youngnam', 'edu', 'income',\n",
    "        'age', 'score_gov', 'score_progress', 'score_intention']]\n",
    "# 방법2: 특성 위치값으로 데이터셋 나누기\n",
    "X=data[data.columns[1:14]]\n",
    "# 방법3: loc 함수로 데이터셋 나누기 (단, 불러올 특성이 연달아 있어야 함)\n",
    "X=data.loc[:, 'gender_female':'score_intention']\n"
   ],
   "metadata": {
    "collapsed": false,
    "pycharm": {
     "name": "#%%\n"
    }
   }
  },
  {
   "cell_type": "code",
   "execution_count": 6,
   "outputs": [],
   "source": [
    "# 레이블 변수중 vote(투표여부) 데이터셋 나누기\n",
    "y = data[['vote']]"
   ],
   "metadata": {
    "collapsed": false,
    "pycharm": {
     "name": "#%%\n"
    }
   }
  },
  {
   "cell_type": "markdown",
   "source": [
    "## 5-2. train-test 데이터셋 나누기\n"
   ],
   "metadata": {
    "collapsed": false
   }
  },
  {
   "cell_type": "code",
   "execution_count": 8,
   "outputs": [],
   "source": [
    "# 훈련데이터와 테스트 데이터 셋 나누기 및 데이터 확인\n",
    "from sklearn.model_selection import train_test_split\n",
    "X_train, X_test, y_train, y_test = train_test_split(X, y, stratify = y, random_state =42)"
   ],
   "metadata": {
    "collapsed": false,
    "pycharm": {
     "name": "#%%\n"
    }
   }
  },
  {
   "cell_type": "code",
   "execution_count": 10,
   "outputs": [
    {
     "name": "stdout",
     "output_type": "stream",
     "text": [
      "(158, 13)\n",
      "(53, 13)\n",
      "vote    0.708861\n",
      "dtype: float64\n",
      "vote    0.716981\n",
      "dtype: float64\n"
     ]
    }
   ],
   "source": [
    "# 데이터셋 행렬 구조 확인\n",
    "print(X_train.shape)\n",
    "print(X_test.shape)\n",
    "\n",
    "# 골고루 잘 나눠졌는지\n",
    "print(y_train.mean())\n",
    "print(y_test.mean())"
   ],
   "metadata": {
    "collapsed": false,
    "pycharm": {
     "name": "#%%\n"
    }
   }
  },
  {
   "cell_type": "markdown",
   "source": [
    "## 5-3. 모델 적용"
   ],
   "metadata": {
    "collapsed": false,
    "pycharm": {
     "name": "#%% md\n"
    }
   }
  },
  {
   "cell_type": "markdown",
   "source": [
    "### 가. 랜덤없는 교차검증: cross_val_score\n",
    "- train데이터를 한번에 사용하지 않고 5개 그룹으로 나누어 이 중 한 그룹을 빼고 4개 그룹만 훈련\n",
    "- 이렇게 5번 반복\n",
    "- 총 158개이므로 1그룹은 약 30개 한번에 (30x4그룹)120개로 훈련"
   ],
   "metadata": {
    "collapsed": false
   }
  },
  {
   "cell_type": "code",
   "execution_count": 11,
   "outputs": [],
   "source": [
    "# LogisticRegression 알고리즘 사용\n",
    "from sklearn.linear_model import LogisticRegression\n",
    "model = LogisticRegression()"
   ],
   "metadata": {
    "collapsed": false,
    "pycharm": {
     "name": "#%%\n"
    }
   }
  },
  {
   "cell_type": "code",
   "execution_count": 12,
   "outputs": [
    {
     "name": "stdout",
     "output_type": "stream",
     "text": [
      "5개 테스트 셋 정확도: [0.71875    0.6875     0.8125     0.58064516 0.80645161]\n",
      "정확도 평균: 0.7211693548387096\n"
     ]
    }
   ],
   "source": [
    "from sklearn.model_selection import cross_val_score\n",
    "scores = cross_val_score(model, X_train, y_train, cv =5)\n",
    "print(\"5개 테스트 셋 정확도:\",scores)\n",
    "print(\"정확도 평균:\", scores.mean())"
   ],
   "metadata": {
    "collapsed": false,
    "pycharm": {
     "name": "#%%\n"
    }
   }
  },
  {
   "cell_type": "markdown",
   "source": [
    "### 나. 랜덤 있는 교차검증: K-Fold"
   ],
   "metadata": {
    "collapsed": false,
    "pycharm": {
     "name": "#%% md\n"
    }
   },
   "execution_count": 12
  },
  {
   "cell_type": "code",
   "execution_count": 13,
   "outputs": [
    {
     "name": "stdout",
     "output_type": "stream",
     "text": [
      "5개 폴드 정확도: [0.71875    0.6875     0.625      0.70967742 0.77419355]\n"
     ]
    }
   ],
   "source": [
    "from sklearn.model_selection import cross_val_score\n",
    "from sklearn.model_selection import KFold\n",
    "kfold =KFold(n_splits=5, shuffle=True, random_state=42)\n",
    "score = cross_val_score(model, X_train, y_train, cv =kfold)\n",
    "print(\"5개 폴드 정확도:\", score)"
   ],
   "metadata": {
    "collapsed": false,
    "pycharm": {
     "name": "#%%\n"
    }
   }
  },
  {
   "cell_type": "markdown",
   "source": [
    "### 다. 임의분할 교차검증 (ShuffleSplit)\n",
    "- 훈련데이터와 테스트 데이터 구성할 때 다른 교차검증에 사용되었던 데이터도 랜덤으로 선택되게 하는 방법"
   ],
   "metadata": {
    "collapsed": false,
    "pycharm": {
     "name": "#%% md\n"
    }
   }
  },
  {
   "cell_type": "code",
   "execution_count": 14,
   "outputs": [
    {
     "name": "stdout",
     "output_type": "stream",
     "text": [
      "임의분할 교차검증 정확도: [0.73417722 0.69620253 0.70886076 0.73417722 0.65822785 0.67088608\n",
      " 0.72151899 0.65822785 0.69620253 0.70886076]\n"
     ]
    }
   ],
   "source": [
    "from sklearn.model_selection import ShuffleSplit\n",
    "shuffle_split = ShuffleSplit(test_size=0.5, train_size=0.5, random_state=42)\n",
    "score = cross_val_score(model, X_train, y_train, cv = shuffle_split)\n",
    "print(\"임의분할 교차검증 정확도:\",score)"
   ],
   "metadata": {
    "collapsed": false,
    "pycharm": {
     "name": "#%%\n"
    }
   }
  },
  {
   "cell_type": "markdown",
   "source": [
    "## 5-4. train-validity-test 분할과 교차검증"
   ],
   "metadata": {
    "collapsed": false,
    "pycharm": {
     "name": "#%% md\n"
    }
   }
  },
  {
   "cell_type": "code",
   "execution_count": 15,
   "outputs": [],
   "source": [
    "from sklearn.model_selection import train_test_split\n",
    "X_train_val, X_test, y_train_val, y_test = train_test_split(X,y,random_state=42)\n",
    "X_train, X_valid, y_train, y_valid = train_test_split(X_train_val,y_train_val, random_state= 42)"
   ],
   "metadata": {
    "collapsed": false,
    "pycharm": {
     "name": "#%%\n"
    }
   }
  },
  {
   "cell_type": "code",
   "execution_count": 16,
   "outputs": [
    {
     "name": "stdout",
     "output_type": "stream",
     "text": [
      "교차검증 정확도: [0.70833333 0.54166667 0.70833333 0.65217391 0.69565217]\n",
      "정확도 평균: 0.661231884057971\n"
     ]
    }
   ],
   "source": [
    "model.fit(X_train,y_train)\n",
    "scores = cross_val_score(model, X_train, y_train, cv =5)\n",
    "print(\"교차검증 정확도:\", scores)\n",
    "print(\"정확도 평균:\", scores.mean())"
   ],
   "metadata": {
    "collapsed": false,
    "pycharm": {
     "name": "#%%\n"
    }
   }
  },
  {
   "cell_type": "code",
   "execution_count": 17,
   "outputs": [
    {
     "data": {
      "text/plain": "0.725"
     },
     "execution_count": 17,
     "metadata": {},
     "output_type": "execute_result"
    }
   ],
   "source": [
    "# 검증데이터 정확도\n",
    "model.score(X_valid, y_valid)"
   ],
   "metadata": {
    "collapsed": false,
    "pycharm": {
     "name": "#%%\n"
    }
   }
  },
  {
   "cell_type": "code",
   "execution_count": 18,
   "outputs": [
    {
     "data": {
      "text/plain": "0.7735849056603774"
     },
     "execution_count": 18,
     "metadata": {},
     "output_type": "execute_result"
    }
   ],
   "source": [
    "model.score(X_test,y_test)"
   ],
   "metadata": {
    "collapsed": false,
    "pycharm": {
     "name": "#%%\n"
    }
   }
  },
  {
   "cell_type": "code",
   "execution_count": null,
   "outputs": [],
   "source": [],
   "metadata": {
    "collapsed": false,
    "pycharm": {
     "name": "#%%\n"
    }
   }
  }
 ],
 "metadata": {
  "kernelspec": {
   "display_name": "Python 3",
   "language": "python",
   "name": "python3"
  },
  "language_info": {
   "codemirror_mode": {
    "name": "ipython",
    "version": 2
   },
   "file_extension": ".py",
   "mimetype": "text/x-python",
   "name": "python",
   "nbconvert_exporter": "python",
   "pygments_lexer": "ipython2",
   "version": "2.7.6"
  }
 },
 "nbformat": 4,
 "nbformat_minor": 0
}