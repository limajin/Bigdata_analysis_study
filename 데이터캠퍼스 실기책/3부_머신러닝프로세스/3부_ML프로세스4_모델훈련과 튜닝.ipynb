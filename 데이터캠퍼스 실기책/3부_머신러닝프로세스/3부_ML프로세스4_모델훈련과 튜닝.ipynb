{
 "cells": [
  {
   "cell_type": "markdown",
   "metadata": {
    "collapsed": true,
    "pycharm": {
     "name": "#%% md\n"
    }
   },
   "source": [
    "# 7. 머신러닝 프로세스4: 모델훈련과 세부튜닝"
   ]
  },
  {
   "cell_type": "markdown",
   "source": [
    "## 7-1. 데이터 불러오기 및 데이터셋 분할"
   ],
   "metadata": {
    "collapsed": false
   }
  },
  {
   "cell_type": "markdown",
   "source": [
    "#### LogisticRegression 모델의 핵심 하이퍼파라미터 : C\n",
    "##### 하이퍼파라미터 찾는 방법\n",
    "1. 그리드 탐색 (Grid Search)\n",
    "2. 랜덤 탐색 (random Search)"
   ],
   "metadata": {
    "collapsed": false
   }
  },
  {
   "cell_type": "code",
   "execution_count": 2,
   "outputs": [
    {
     "data": {
      "text/plain": "     gender_female  gender_male  region_Chungcheung  region_Honam  \\\n0                0            1                   0             0   \n1                0            1                   0             0   \n2                0            1                   0             1   \n3                1            0                   0             0   \n4                0            1                   0             0   \n..             ...          ...                 ...           ...   \n206              0            1                   0             0   \n207              0            1                   0             0   \n208              0            1                   1             0   \n209              0            1                   0             0   \n210              1            0                   0             0   \n\n     region_Others  region_Sudo  region_Youngnam  edu  income  age  score_gov  \\\n0                0            0                1    3       3    3          2   \n1                1            0                0    2       3    3          2   \n2                0            0                0    1       2    4          1   \n3                0            1                0    2       1    3          5   \n4                0            1                0    1       2    4          4   \n..             ...          ...              ...  ...     ...  ...        ...   \n206              0            0                1    1       4    4          3   \n207              0            1                0    2       1    2          3   \n208              0            0                0    2       1    2          3   \n209              0            1                0    2       3    4          3   \n210              0            1                0    2       2    2          3   \n\n     score_progress  score_intention  vote  parties  \n0                 2              4.0     1        2  \n1                 4              3.0     0        3  \n2                 3              2.8     1        4  \n3                 4              2.6     1        1  \n4                 3              2.4     1        1  \n..              ...              ...   ...      ...  \n206               3              1.8     1        2  \n207               4              2.6     1        4  \n208               3              2.6     1        2  \n209               2              4.0     1        4  \n210               3              3.8     1        2  \n\n[211 rows x 15 columns]",
      "text/html": "<div>\n<style scoped>\n    .dataframe tbody tr th:only-of-type {\n        vertical-align: middle;\n    }\n\n    .dataframe tbody tr th {\n        vertical-align: top;\n    }\n\n    .dataframe thead th {\n        text-align: right;\n    }\n</style>\n<table border=\"1\" class=\"dataframe\">\n  <thead>\n    <tr style=\"text-align: right;\">\n      <th></th>\n      <th>gender_female</th>\n      <th>gender_male</th>\n      <th>region_Chungcheung</th>\n      <th>region_Honam</th>\n      <th>region_Others</th>\n      <th>region_Sudo</th>\n      <th>region_Youngnam</th>\n      <th>edu</th>\n      <th>income</th>\n      <th>age</th>\n      <th>score_gov</th>\n      <th>score_progress</th>\n      <th>score_intention</th>\n      <th>vote</th>\n      <th>parties</th>\n    </tr>\n  </thead>\n  <tbody>\n    <tr>\n      <th>0</th>\n      <td>0</td>\n      <td>1</td>\n      <td>0</td>\n      <td>0</td>\n      <td>0</td>\n      <td>0</td>\n      <td>1</td>\n      <td>3</td>\n      <td>3</td>\n      <td>3</td>\n      <td>2</td>\n      <td>2</td>\n      <td>4.0</td>\n      <td>1</td>\n      <td>2</td>\n    </tr>\n    <tr>\n      <th>1</th>\n      <td>0</td>\n      <td>1</td>\n      <td>0</td>\n      <td>0</td>\n      <td>1</td>\n      <td>0</td>\n      <td>0</td>\n      <td>2</td>\n      <td>3</td>\n      <td>3</td>\n      <td>2</td>\n      <td>4</td>\n      <td>3.0</td>\n      <td>0</td>\n      <td>3</td>\n    </tr>\n    <tr>\n      <th>2</th>\n      <td>0</td>\n      <td>1</td>\n      <td>0</td>\n      <td>1</td>\n      <td>0</td>\n      <td>0</td>\n      <td>0</td>\n      <td>1</td>\n      <td>2</td>\n      <td>4</td>\n      <td>1</td>\n      <td>3</td>\n      <td>2.8</td>\n      <td>1</td>\n      <td>4</td>\n    </tr>\n    <tr>\n      <th>3</th>\n      <td>1</td>\n      <td>0</td>\n      <td>0</td>\n      <td>0</td>\n      <td>0</td>\n      <td>1</td>\n      <td>0</td>\n      <td>2</td>\n      <td>1</td>\n      <td>3</td>\n      <td>5</td>\n      <td>4</td>\n      <td>2.6</td>\n      <td>1</td>\n      <td>1</td>\n    </tr>\n    <tr>\n      <th>4</th>\n      <td>0</td>\n      <td>1</td>\n      <td>0</td>\n      <td>0</td>\n      <td>0</td>\n      <td>1</td>\n      <td>0</td>\n      <td>1</td>\n      <td>2</td>\n      <td>4</td>\n      <td>4</td>\n      <td>3</td>\n      <td>2.4</td>\n      <td>1</td>\n      <td>1</td>\n    </tr>\n    <tr>\n      <th>...</th>\n      <td>...</td>\n      <td>...</td>\n      <td>...</td>\n      <td>...</td>\n      <td>...</td>\n      <td>...</td>\n      <td>...</td>\n      <td>...</td>\n      <td>...</td>\n      <td>...</td>\n      <td>...</td>\n      <td>...</td>\n      <td>...</td>\n      <td>...</td>\n      <td>...</td>\n    </tr>\n    <tr>\n      <th>206</th>\n      <td>0</td>\n      <td>1</td>\n      <td>0</td>\n      <td>0</td>\n      <td>0</td>\n      <td>0</td>\n      <td>1</td>\n      <td>1</td>\n      <td>4</td>\n      <td>4</td>\n      <td>3</td>\n      <td>3</td>\n      <td>1.8</td>\n      <td>1</td>\n      <td>2</td>\n    </tr>\n    <tr>\n      <th>207</th>\n      <td>0</td>\n      <td>1</td>\n      <td>0</td>\n      <td>0</td>\n      <td>0</td>\n      <td>1</td>\n      <td>0</td>\n      <td>2</td>\n      <td>1</td>\n      <td>2</td>\n      <td>3</td>\n      <td>4</td>\n      <td>2.6</td>\n      <td>1</td>\n      <td>4</td>\n    </tr>\n    <tr>\n      <th>208</th>\n      <td>0</td>\n      <td>1</td>\n      <td>1</td>\n      <td>0</td>\n      <td>0</td>\n      <td>0</td>\n      <td>0</td>\n      <td>2</td>\n      <td>1</td>\n      <td>2</td>\n      <td>3</td>\n      <td>3</td>\n      <td>2.6</td>\n      <td>1</td>\n      <td>2</td>\n    </tr>\n    <tr>\n      <th>209</th>\n      <td>0</td>\n      <td>1</td>\n      <td>0</td>\n      <td>0</td>\n      <td>0</td>\n      <td>1</td>\n      <td>0</td>\n      <td>2</td>\n      <td>3</td>\n      <td>4</td>\n      <td>3</td>\n      <td>2</td>\n      <td>4.0</td>\n      <td>1</td>\n      <td>4</td>\n    </tr>\n    <tr>\n      <th>210</th>\n      <td>1</td>\n      <td>0</td>\n      <td>0</td>\n      <td>0</td>\n      <td>0</td>\n      <td>1</td>\n      <td>0</td>\n      <td>2</td>\n      <td>2</td>\n      <td>2</td>\n      <td>3</td>\n      <td>3</td>\n      <td>3.8</td>\n      <td>1</td>\n      <td>2</td>\n    </tr>\n  </tbody>\n</table>\n<p>211 rows × 15 columns</p>\n</div>"
     },
     "execution_count": 2,
     "metadata": {},
     "output_type": "execute_result"
    }
   ],
   "source": [
    "#데이터 불러오기\n",
    "import warnings\n",
    "warnings.filterwarnings('ignore')\n",
    "import pandas as pd\n",
    "data = pd.read_csv(\"../제공자료/Fvote.csv\", encoding ='utf-8')\n",
    "data"
   ],
   "metadata": {
    "collapsed": false,
    "pycharm": {
     "name": "#%%\n"
    }
   }
  },
  {
   "cell_type": "code",
   "execution_count": 3,
   "outputs": [],
   "source": [
    "# 특성치와 레이블 데이터셋 구분\n",
    "X=data[data.columns[1:13]]\n",
    "y=data[['vote']]"
   ],
   "metadata": {
    "collapsed": false,
    "pycharm": {
     "name": "#%%\n"
    }
   }
  },
  {
   "cell_type": "code",
   "execution_count": 4,
   "outputs": [],
   "source": [
    "from sklearn.model_selection import train_test_split\n",
    "X_train, X_test, y_train, y_test=train_test_split(X, y, stratify=y, random_state=42 )"
   ],
   "metadata": {
    "collapsed": false,
    "pycharm": {
     "name": "#%%\n"
    }
   }
  },
  {
   "cell_type": "markdown",
   "source": [
    "## 7-2. Grid Search\n",
    ": 분석자가 하이퍼파라미터의 특정 값을 지정하고, 각각 모델에 적용해 모델적합도를 비교\n",
    "###### {'hyperparameter': [value_1, value_2, ... , value_n]}"
   ],
   "metadata": {
    "collapsed": false,
    "pycharm": {
     "name": "#%% md\n"
    }
   }
  },
  {
   "cell_type": "code",
   "execution_count": 5,
   "outputs": [],
   "source": [
    "# 그리드서치를 위한 라이브러리 및 탐색 하이퍼파라미터 설정\n",
    "from sklearn.model_selection import GridSearchCV\n",
    "param_grid ={'C': [0.001, 0.01, 0.1, 1, 10, 100]}"
   ],
   "metadata": {
    "collapsed": false,
    "pycharm": {
     "name": "#%%\n"
    }
   }
  },
  {
   "cell_type": "code",
   "execution_count": 6,
   "outputs": [],
   "source": [
    "# LogisticRegression 알고리즘 적용\n",
    "from sklearn.linear_model import LogisticRegression"
   ],
   "metadata": {
    "collapsed": false,
    "pycharm": {
     "name": "#%%\n"
    }
   }
  },
  {
   "cell_type": "markdown",
   "source": [
    "#### GridSearchCV(모델명(), param_grid, cv=5, return_train_score =True)\n",
    ": 교차검증 5로 설정하고 훈련데이터 결과 정확도 제시 True"
   ],
   "metadata": {
    "collapsed": false,
    "pycharm": {
     "name": "#%% md\n"
    }
   }
  },
  {
   "cell_type": "code",
   "execution_count": 7,
   "outputs": [
    {
     "data": {
      "text/plain": "GridSearchCV(cv=5, estimator=LogisticRegression(),\n             param_grid={'C': [0.001, 0.01, 0.1, 1, 10, 100]},\n             return_train_score=True)"
     },
     "execution_count": 7,
     "metadata": {},
     "output_type": "execute_result"
    }
   ],
   "source": [
    "# 그리드서치를 로지스틱 모델에 적용하여 훈련데이터 학습\n",
    "# 교차검증(cv) 5 설정, 훈련데이터 정확도 결과 제시하기(True)\n",
    "grid_search=GridSearchCV(LogisticRegression(), param_grid, cv=5, return_train_score=True)\n",
    "grid_search.fit(X_train, y_train)\n"
   ],
   "metadata": {
    "collapsed": false,
    "pycharm": {
     "name": "#%%\n"
    }
   }
  },
  {
   "cell_type": "markdown",
   "source": [
    "##### 정확도가 가장 높은 하이퍼파라미터 무엇인지 -> 'grid_search.best_params_'\n",
    "##### 정확도는 'grid_search.best_score_'"
   ],
   "metadata": {
    "collapsed": false,
    "pycharm": {
     "name": "#%% md\n"
    }
   }
  },
  {
   "cell_type": "code",
   "execution_count": 8,
   "outputs": [
    {
     "name": "stdout",
     "output_type": "stream",
     "text": [
      "Best parametrer: {'C': 10}\n",
      "BEst Cross_validity Score: 0.727\n"
     ]
    }
   ],
   "source": [
    "print(\"Best parametrer: {}\".format(grid_search.best_params_))\n",
    "print(\"BEst Cross_validity Score: {:.3f}\".format(grid_search.best_score_))"
   ],
   "metadata": {
    "collapsed": false,
    "pycharm": {
     "name": "#%%\n"
    }
   }
  },
  {
   "cell_type": "code",
   "execution_count": 9,
   "outputs": [
    {
     "name": "stdout",
     "output_type": "stream",
     "text": [
      "Test set Score: 0.679\n"
     ]
    }
   ],
   "source": [
    "# 테스트 데이터에 적용(C=10), 정확도 결과\n",
    "print(\"Test set Score: {:.3f}\".format(grid_search.score(X_test, y_test)))"
   ],
   "metadata": {
    "collapsed": false,
    "pycharm": {
     "name": "#%%\n"
    }
   }
  },
  {
   "cell_type": "code",
   "execution_count": 10,
   "outputs": [
    {
     "data": {
      "text/plain": "   mean_fit_time  std_fit_time  mean_score_time  std_score_time param_C  \\\n0       0.004840      0.001680         0.001200    3.998995e-04   0.001   \n1       0.004200      0.000400         0.001000    1.507891e-07    0.01   \n2       0.006394      0.000486         0.001001    2.780415e-07     0.1   \n3       0.008599      0.000800         0.001201    4.001141e-04       1   \n4       0.011199      0.001325         0.001000    2.336015e-07      10   \n5       0.014407      0.001209         0.001001    1.784161e-07     100   \n\n         params  split0_test_score  split1_test_score  split2_test_score  \\\n0  {'C': 0.001}            0.68750            0.71875            0.71875   \n1   {'C': 0.01}            0.68750            0.71875            0.71875   \n2    {'C': 0.1}            0.71875            0.71875            0.71875   \n3      {'C': 1}            0.71875            0.68750            0.78125   \n4     {'C': 10}            0.75000            0.68750            0.81250   \n5    {'C': 100}            0.75000            0.68750            0.81250   \n\n   split3_test_score  ...  mean_test_score  std_test_score  rank_test_score  \\\n0           0.709677  ...         0.708871        0.011430                5   \n1           0.709677  ...         0.708871        0.011430                5   \n2           0.677419  ...         0.721573        0.030797                3   \n3           0.580645  ...         0.714919        0.079466                4   \n4           0.580645  ...         0.727419        0.086175                1   \n5           0.580645  ...         0.727419        0.086175                1   \n\n   split0_train_score  split1_train_score  split2_train_score  \\\n0            0.714286            0.706349            0.706349   \n1            0.714286            0.706349            0.706349   \n2            0.738095            0.746032            0.738095   \n3            0.738095            0.793651            0.730159   \n4            0.746032            0.769841            0.730159   \n5            0.746032            0.769841            0.730159   \n\n   split3_train_score  split4_train_score  mean_train_score  std_train_score  \n0            0.708661            0.708661          0.708861         0.002903  \n1            0.708661            0.708661          0.708861         0.002903  \n2            0.740157            0.716535          0.735783         0.010053  \n3            0.763780            0.724409          0.750019         0.025634  \n4            0.779528            0.724409          0.749994         0.021586  \n5            0.771654            0.724409          0.748419         0.019567  \n\n[6 rows x 21 columns]",
      "text/html": "<div>\n<style scoped>\n    .dataframe tbody tr th:only-of-type {\n        vertical-align: middle;\n    }\n\n    .dataframe tbody tr th {\n        vertical-align: top;\n    }\n\n    .dataframe thead th {\n        text-align: right;\n    }\n</style>\n<table border=\"1\" class=\"dataframe\">\n  <thead>\n    <tr style=\"text-align: right;\">\n      <th></th>\n      <th>mean_fit_time</th>\n      <th>std_fit_time</th>\n      <th>mean_score_time</th>\n      <th>std_score_time</th>\n      <th>param_C</th>\n      <th>params</th>\n      <th>split0_test_score</th>\n      <th>split1_test_score</th>\n      <th>split2_test_score</th>\n      <th>split3_test_score</th>\n      <th>...</th>\n      <th>mean_test_score</th>\n      <th>std_test_score</th>\n      <th>rank_test_score</th>\n      <th>split0_train_score</th>\n      <th>split1_train_score</th>\n      <th>split2_train_score</th>\n      <th>split3_train_score</th>\n      <th>split4_train_score</th>\n      <th>mean_train_score</th>\n      <th>std_train_score</th>\n    </tr>\n  </thead>\n  <tbody>\n    <tr>\n      <th>0</th>\n      <td>0.004840</td>\n      <td>0.001680</td>\n      <td>0.001200</td>\n      <td>3.998995e-04</td>\n      <td>0.001</td>\n      <td>{'C': 0.001}</td>\n      <td>0.68750</td>\n      <td>0.71875</td>\n      <td>0.71875</td>\n      <td>0.709677</td>\n      <td>...</td>\n      <td>0.708871</td>\n      <td>0.011430</td>\n      <td>5</td>\n      <td>0.714286</td>\n      <td>0.706349</td>\n      <td>0.706349</td>\n      <td>0.708661</td>\n      <td>0.708661</td>\n      <td>0.708861</td>\n      <td>0.002903</td>\n    </tr>\n    <tr>\n      <th>1</th>\n      <td>0.004200</td>\n      <td>0.000400</td>\n      <td>0.001000</td>\n      <td>1.507891e-07</td>\n      <td>0.01</td>\n      <td>{'C': 0.01}</td>\n      <td>0.68750</td>\n      <td>0.71875</td>\n      <td>0.71875</td>\n      <td>0.709677</td>\n      <td>...</td>\n      <td>0.708871</td>\n      <td>0.011430</td>\n      <td>5</td>\n      <td>0.714286</td>\n      <td>0.706349</td>\n      <td>0.706349</td>\n      <td>0.708661</td>\n      <td>0.708661</td>\n      <td>0.708861</td>\n      <td>0.002903</td>\n    </tr>\n    <tr>\n      <th>2</th>\n      <td>0.006394</td>\n      <td>0.000486</td>\n      <td>0.001001</td>\n      <td>2.780415e-07</td>\n      <td>0.1</td>\n      <td>{'C': 0.1}</td>\n      <td>0.71875</td>\n      <td>0.71875</td>\n      <td>0.71875</td>\n      <td>0.677419</td>\n      <td>...</td>\n      <td>0.721573</td>\n      <td>0.030797</td>\n      <td>3</td>\n      <td>0.738095</td>\n      <td>0.746032</td>\n      <td>0.738095</td>\n      <td>0.740157</td>\n      <td>0.716535</td>\n      <td>0.735783</td>\n      <td>0.010053</td>\n    </tr>\n    <tr>\n      <th>3</th>\n      <td>0.008599</td>\n      <td>0.000800</td>\n      <td>0.001201</td>\n      <td>4.001141e-04</td>\n      <td>1</td>\n      <td>{'C': 1}</td>\n      <td>0.71875</td>\n      <td>0.68750</td>\n      <td>0.78125</td>\n      <td>0.580645</td>\n      <td>...</td>\n      <td>0.714919</td>\n      <td>0.079466</td>\n      <td>4</td>\n      <td>0.738095</td>\n      <td>0.793651</td>\n      <td>0.730159</td>\n      <td>0.763780</td>\n      <td>0.724409</td>\n      <td>0.750019</td>\n      <td>0.025634</td>\n    </tr>\n    <tr>\n      <th>4</th>\n      <td>0.011199</td>\n      <td>0.001325</td>\n      <td>0.001000</td>\n      <td>2.336015e-07</td>\n      <td>10</td>\n      <td>{'C': 10}</td>\n      <td>0.75000</td>\n      <td>0.68750</td>\n      <td>0.81250</td>\n      <td>0.580645</td>\n      <td>...</td>\n      <td>0.727419</td>\n      <td>0.086175</td>\n      <td>1</td>\n      <td>0.746032</td>\n      <td>0.769841</td>\n      <td>0.730159</td>\n      <td>0.779528</td>\n      <td>0.724409</td>\n      <td>0.749994</td>\n      <td>0.021586</td>\n    </tr>\n    <tr>\n      <th>5</th>\n      <td>0.014407</td>\n      <td>0.001209</td>\n      <td>0.001001</td>\n      <td>1.784161e-07</td>\n      <td>100</td>\n      <td>{'C': 100}</td>\n      <td>0.75000</td>\n      <td>0.68750</td>\n      <td>0.81250</td>\n      <td>0.580645</td>\n      <td>...</td>\n      <td>0.727419</td>\n      <td>0.086175</td>\n      <td>1</td>\n      <td>0.746032</td>\n      <td>0.769841</td>\n      <td>0.730159</td>\n      <td>0.771654</td>\n      <td>0.724409</td>\n      <td>0.748419</td>\n      <td>0.019567</td>\n    </tr>\n  </tbody>\n</table>\n<p>6 rows × 21 columns</p>\n</div>"
     },
     "execution_count": 10,
     "metadata": {},
     "output_type": "execute_result"
    }
   ],
   "source": [
    "# 그리드서치 하이퍼파라미터별 상세 결과값\n",
    "result_grid = pd.DataFrame(grid_search.cv_results_)\n",
    "result_grid"
   ],
   "metadata": {
    "collapsed": false,
    "pycharm": {
     "name": "#%%\n"
    }
   }
  },
  {
   "cell_type": "code",
   "execution_count": 11,
   "outputs": [
    {
     "data": {
      "text/plain": "<matplotlib.legend.Legend at 0x29609ff1ac0>"
     },
     "execution_count": 11,
     "metadata": {},
     "output_type": "execute_result"
    },
    {
     "data": {
      "text/plain": "<Figure size 432x288 with 1 Axes>",
      "image/png": "[encoded data removed]"
     },
     "metadata": {
      "needs_background": "light"
     },
     "output_type": "display_data"
    }
   ],
   "source": [
    "# 하이퍼파리미터(C)값에 따른 훈련데이터와 테스트데이터의 정확도(accuracy) 그래프\n",
    "import matplotlib.pyplot as plt\n",
    "plt.plot(result_grid['param_C'], result_grid['mean_train_score'], label=\"Train\")\n",
    "plt.plot(result_grid['param_C'], result_grid['mean_test_score'], label=\"Test\")\n",
    "plt.legend()"
   ],
   "metadata": {
    "collapsed": false,
    "pycharm": {
     "name": "#%%\n"
    }
   }
  },
  {
   "cell_type": "markdown",
   "source": [
    "## 7-3. Random Search"
   ],
   "metadata": {
    "collapsed": false,
    "pycharm": {
     "name": "#%% md\n"
    }
   }
  },
  {
   "cell_type": "code",
   "execution_count": 12,
   "outputs": [],
   "source": [
    "# 랜덤서치를 위한 라이브러리 및 탐색 하이퍼파라미터 설정\n",
    "from sklearn.model_selection import RandomizedSearchCV\n",
    "from scipy.stats import randint\n",
    "param_distribs={'C': randint(low=0.001, high=100)}"
   ],
   "metadata": {
    "collapsed": false,
    "pycharm": {
     "name": "#%%\n"
    }
   }
  },
  {
   "cell_type": "code",
   "execution_count": 13,
   "outputs": [],
   "source": [
    "# LogisticRegression 알고리즘 적용\n",
    "from sklearn.linear_model import LogisticRegression\n"
   ],
   "metadata": {
    "collapsed": false,
    "pycharm": {
     "name": "#%%\n"
    }
   }
  },
  {
   "cell_type": "code",
   "execution_count": 14,
   "outputs": [
    {
     "data": {
      "text/plain": "RandomizedSearchCV(cv=5, estimator=LogisticRegression(),\n                   param_distributions={'C': <scipy.stats._distn_infrastructure.rv_frozen object at 0x000002960A022C70>},\n                   return_train_score=True)"
     },
     "execution_count": 14,
     "metadata": {},
     "output_type": "execute_result"
    }
   ],
   "source": [
    "\n",
    "# 랜덤서치를 로지스틱 모델에 적용하여 훈련데이터 학습\n",
    "# 교차검증(cv) 5 설정, 훈련데이터 정확도 결과 제시하기(True)\n",
    "random_search=RandomizedSearchCV(LogisticRegression(),\n",
    "                                 param_distributions=param_distribs, cv=5,\n",
    "                                 # n_iter=100, 랜덤횟수 디폴트=10\n",
    "                                return_train_score=True)\n",
    "random_search.fit(X_train, y_train)"
   ],
   "metadata": {
    "collapsed": false,
    "pycharm": {
     "name": "#%%\n"
    }
   }
  },
  {
   "cell_type": "code",
   "execution_count": 15,
   "outputs": [
    {
     "name": "stdout",
     "output_type": "stream",
     "text": [
      "Best Parameter: {'C': 7}\n",
      "Best Cross-validity Score: 0.727\n"
     ]
    }
   ],
   "source": [
    "# 정확도가 가장 높은 하이퍼파라미터(C) 및 정확도 제시\n",
    "print(\"Best Parameter: {}\".format(random_search.best_params_))\n",
    "print(\"Best Cross-validity Score: {:.3f}\".format(random_search.best_score_))"
   ],
   "metadata": {
    "collapsed": false,
    "pycharm": {
     "name": "#%%\n"
    }
   }
  },
  {
   "cell_type": "code",
   "execution_count": 16,
   "outputs": [
    {
     "name": "stdout",
     "output_type": "stream",
     "text": [
      "Test set Score: 0.679\n"
     ]
    }
   ],
   "source": [
    "# 테스트 데이터에 최적 텀색 하이퍼 파라미터 적용 정확도 결과\n",
    "print(\"Test set Score: {:.3f}\".format(random_search.score(X_test, y_test)))"
   ],
   "metadata": {
    "collapsed": false,
    "pycharm": {
     "name": "#%%\n"
    }
   }
  },
  {
   "cell_type": "code",
   "execution_count": 17,
   "outputs": [
    {
     "data": {
      "text/plain": "   mean_fit_time  std_fit_time  mean_score_time  std_score_time param_C  \\\n0       0.021006      0.014053         0.001325        0.000415       7   \n1       0.013392      0.000801         0.001001        0.000002      57   \n2       0.013200      0.000981         0.001000        0.000002      67   \n3       0.010992      0.001405         0.001206        0.000413       4   \n4       0.012000      0.002098         0.000995        0.000011       2   \n5       0.012587      0.001020         0.000994        0.000013       6   \n6       0.012998      0.000632         0.000994        0.000013      42   \n7       0.013399      0.001200         0.001202        0.000402      89   \n8       0.013209      0.000976         0.001400        0.000492      16   \n9       0.013809      0.001934         0.001589        0.000480      25   \n\n      params  split0_test_score  split1_test_score  split2_test_score  \\\n0   {'C': 7}               0.75             0.6875             0.8125   \n1  {'C': 57}               0.75             0.6875             0.8125   \n2  {'C': 67}               0.75             0.6875             0.8125   \n3   {'C': 4}               0.75             0.6875             0.8125   \n4   {'C': 2}               0.75             0.6875             0.8125   \n5   {'C': 6}               0.75             0.6875             0.8125   \n6  {'C': 42}               0.75             0.6875             0.8125   \n7  {'C': 89}               0.75             0.6875             0.8125   \n8  {'C': 16}               0.75             0.6875             0.8125   \n9  {'C': 25}               0.75             0.6875             0.8125   \n\n   split3_test_score  ...  mean_test_score  std_test_score  rank_test_score  \\\n0           0.580645  ...         0.727419        0.086175                1   \n1           0.580645  ...         0.727419        0.086175                1   \n2           0.580645  ...         0.727419        0.086175                1   \n3           0.580645  ...         0.727419        0.086175                1   \n4           0.580645  ...         0.727419        0.086175                1   \n5           0.580645  ...         0.727419        0.086175                1   \n6           0.580645  ...         0.727419        0.086175                1   \n7           0.580645  ...         0.727419        0.086175                1   \n8           0.580645  ...         0.727419        0.086175                1   \n9           0.580645  ...         0.727419        0.086175                1   \n\n   split0_train_score  split1_train_score  split2_train_score  \\\n0            0.746032            0.777778            0.730159   \n1            0.746032            0.769841            0.730159   \n2            0.746032            0.769841            0.730159   \n3            0.746032            0.777778            0.730159   \n4            0.738095            0.769841            0.730159   \n5            0.746032            0.777778            0.730159   \n6            0.746032            0.769841            0.730159   \n7            0.746032            0.769841            0.730159   \n8            0.746032            0.769841            0.730159   \n9            0.746032            0.769841            0.730159   \n\n   split3_train_score  split4_train_score  mean_train_score  std_train_score  \n0            0.779528            0.724409          0.751581         0.023218  \n1            0.771654            0.724409          0.748419         0.019567  \n2            0.771654            0.724409          0.748419         0.019567  \n3            0.779528            0.724409          0.751581         0.023218  \n4            0.779528            0.724409          0.748406         0.022105  \n5            0.779528            0.724409          0.751581         0.023218  \n6            0.771654            0.724409          0.748419         0.019567  \n7            0.771654            0.724409          0.748419         0.019567  \n8            0.779528            0.724409          0.749994         0.021586  \n9            0.771654            0.724409          0.748419         0.019567  \n\n[10 rows x 21 columns]",
      "text/html": "<div>\n<style scoped>\n    .dataframe tbody tr th:only-of-type {\n        vertical-align: middle;\n    }\n\n    .dataframe tbody tr th {\n        vertical-align: top;\n    }\n\n    .dataframe thead th {\n        text-align: right;\n    }\n</style>\n<table border=\"1\" class=\"dataframe\">\n  <thead>\n    <tr style=\"text-align: right;\">\n      <th></th>\n      <th>mean_fit_time</th>\n      <th>std_fit_time</th>\n      <th>mean_score_time</th>\n      <th>std_score_time</th>\n      <th>param_C</th>\n      <th>params</th>\n      <th>split0_test_score</th>\n      <th>split1_test_score</th>\n      <th>split2_test_score</th>\n      <th>split3_test_score</th>\n      <th>...</th>\n      <th>mean_test_score</th>\n      <th>std_test_score</th>\n      <th>rank_test_score</th>\n      <th>split0_train_score</th>\n      <th>split1_train_score</th>\n      <th>split2_train_score</th>\n      <th>split3_train_score</th>\n      <th>split4_train_score</th>\n      <th>mean_train_score</th>\n      <th>std_train_score</th>\n    </tr>\n  </thead>\n  <tbody>\n    <tr>\n      <th>0</th>\n      <td>0.021006</td>\n      <td>0.014053</td>\n      <td>0.001325</td>\n      <td>0.000415</td>\n      <td>7</td>\n      <td>{'C': 7}</td>\n      <td>0.75</td>\n      <td>0.6875</td>\n      <td>0.8125</td>\n      <td>0.580645</td>\n      <td>...</td>\n      <td>0.727419</td>\n      <td>0.086175</td>\n      <td>1</td>\n      <td>0.746032</td>\n      <td>0.777778</td>\n      <td>0.730159</td>\n      <td>0.779528</td>\n      <td>0.724409</td>\n      <td>0.751581</td>\n      <td>0.023218</td>\n    </tr>\n    <tr>\n      <th>1</th>\n      <td>0.013392</td>\n      <td>0.000801</td>\n      <td>0.001001</td>\n      <td>0.000002</td>\n      <td>57</td>\n      <td>{'C': 57}</td>\n      <td>0.75</td>\n      <td>0.6875</td>\n      <td>0.8125</td>\n      <td>0.580645</td>\n      <td>...</td>\n      <td>0.727419</td>\n      <td>0.086175</td>\n      <td>1</td>\n      <td>0.746032</td>\n      <td>0.769841</td>\n      <td>0.730159</td>\n      <td>0.771654</td>\n      <td>0.724409</td>\n      <td>0.748419</td>\n      <td>0.019567</td>\n    </tr>\n    <tr>\n      <th>2</th>\n      <td>0.013200</td>\n      <td>0.000981</td>\n      <td>0.001000</td>\n      <td>0.000002</td>\n      <td>67</td>\n      <td>{'C': 67}</td>\n      <td>0.75</td>\n      <td>0.6875</td>\n      <td>0.8125</td>\n      <td>0.580645</td>\n      <td>...</td>\n      <td>0.727419</td>\n      <td>0.086175</td>\n      <td>1</td>\n      <td>0.746032</td>\n      <td>0.769841</td>\n      <td>0.730159</td>\n      <td>0.771654</td>\n      <td>0.724409</td>\n      <td>0.748419</td>\n      <td>0.019567</td>\n    </tr>\n    <tr>\n      <th>3</th>\n      <td>0.010992</td>\n      <td>0.001405</td>\n      <td>0.001206</td>\n      <td>0.000413</td>\n      <td>4</td>\n      <td>{'C': 4}</td>\n      <td>0.75</td>\n      <td>0.6875</td>\n      <td>0.8125</td>\n      <td>0.580645</td>\n      <td>...</td>\n      <td>0.727419</td>\n      <td>0.086175</td>\n      <td>1</td>\n      <td>0.746032</td>\n      <td>0.777778</td>\n      <td>0.730159</td>\n      <td>0.779528</td>\n      <td>0.724409</td>\n      <td>0.751581</td>\n      <td>0.023218</td>\n    </tr>\n    <tr>\n      <th>4</th>\n      <td>0.012000</td>\n      <td>0.002098</td>\n      <td>0.000995</td>\n      <td>0.000011</td>\n      <td>2</td>\n      <td>{'C': 2}</td>\n      <td>0.75</td>\n      <td>0.6875</td>\n      <td>0.8125</td>\n      <td>0.580645</td>\n      <td>...</td>\n      <td>0.727419</td>\n      <td>0.086175</td>\n      <td>1</td>\n      <td>0.738095</td>\n      <td>0.769841</td>\n      <td>0.730159</td>\n      <td>0.779528</td>\n      <td>0.724409</td>\n      <td>0.748406</td>\n      <td>0.022105</td>\n    </tr>\n    <tr>\n      <th>5</th>\n      <td>0.012587</td>\n      <td>0.001020</td>\n      <td>0.000994</td>\n      <td>0.000013</td>\n      <td>6</td>\n      <td>{'C': 6}</td>\n      <td>0.75</td>\n      <td>0.6875</td>\n      <td>0.8125</td>\n      <td>0.580645</td>\n      <td>...</td>\n      <td>0.727419</td>\n      <td>0.086175</td>\n      <td>1</td>\n      <td>0.746032</td>\n      <td>0.777778</td>\n      <td>0.730159</td>\n      <td>0.779528</td>\n      <td>0.724409</td>\n      <td>0.751581</td>\n      <td>0.023218</td>\n    </tr>\n    <tr>\n      <th>6</th>\n      <td>0.012998</td>\n      <td>0.000632</td>\n      <td>0.000994</td>\n      <td>0.000013</td>\n      <td>42</td>\n      <td>{'C': 42}</td>\n      <td>0.75</td>\n      <td>0.6875</td>\n      <td>0.8125</td>\n      <td>0.580645</td>\n      <td>...</td>\n      <td>0.727419</td>\n      <td>0.086175</td>\n      <td>1</td>\n      <td>0.746032</td>\n      <td>0.769841</td>\n      <td>0.730159</td>\n      <td>0.771654</td>\n      <td>0.724409</td>\n      <td>0.748419</td>\n      <td>0.019567</td>\n    </tr>\n    <tr>\n      <th>7</th>\n      <td>0.013399</td>\n      <td>0.001200</td>\n      <td>0.001202</td>\n      <td>0.000402</td>\n      <td>89</td>\n      <td>{'C': 89}</td>\n      <td>0.75</td>\n      <td>0.6875</td>\n      <td>0.8125</td>\n      <td>0.580645</td>\n      <td>...</td>\n      <td>0.727419</td>\n      <td>0.086175</td>\n      <td>1</td>\n      <td>0.746032</td>\n      <td>0.769841</td>\n      <td>0.730159</td>\n      <td>0.771654</td>\n      <td>0.724409</td>\n      <td>0.748419</td>\n      <td>0.019567</td>\n    </tr>\n    <tr>\n      <th>8</th>\n      <td>0.013209</td>\n      <td>0.000976</td>\n      <td>0.001400</td>\n      <td>0.000492</td>\n      <td>16</td>\n      <td>{'C': 16}</td>\n      <td>0.75</td>\n      <td>0.6875</td>\n      <td>0.8125</td>\n      <td>0.580645</td>\n      <td>...</td>\n      <td>0.727419</td>\n      <td>0.086175</td>\n      <td>1</td>\n      <td>0.746032</td>\n      <td>0.769841</td>\n      <td>0.730159</td>\n      <td>0.779528</td>\n      <td>0.724409</td>\n      <td>0.749994</td>\n      <td>0.021586</td>\n    </tr>\n    <tr>\n      <th>9</th>\n      <td>0.013809</td>\n      <td>0.001934</td>\n      <td>0.001589</td>\n      <td>0.000480</td>\n      <td>25</td>\n      <td>{'C': 25}</td>\n      <td>0.75</td>\n      <td>0.6875</td>\n      <td>0.8125</td>\n      <td>0.580645</td>\n      <td>...</td>\n      <td>0.727419</td>\n      <td>0.086175</td>\n      <td>1</td>\n      <td>0.746032</td>\n      <td>0.769841</td>\n      <td>0.730159</td>\n      <td>0.771654</td>\n      <td>0.724409</td>\n      <td>0.748419</td>\n      <td>0.019567</td>\n    </tr>\n  </tbody>\n</table>\n<p>10 rows × 21 columns</p>\n</div>"
     },
     "execution_count": 17,
     "metadata": {},
     "output_type": "execute_result"
    }
   ],
   "source": [
    "# 랜덤서치 하이퍼파라미터별 상세 결과값\n",
    "result_random = random_search.cv_results_\n",
    "result_random=pd.DataFrame(result_random)\n",
    "result_random"
   ],
   "metadata": {
    "collapsed": false,
    "pycharm": {
     "name": "#%%\n"
    }
   }
  },
  {
   "cell_type": "code",
   "execution_count": 18,
   "outputs": [
    {
     "data": {
      "text/plain": "<matplotlib.legend.Legend at 0x2960a121c40>"
     },
     "execution_count": 18,
     "metadata": {},
     "output_type": "execute_result"
    },
    {
     "data": {
      "text/plain": "<Figure size 432x288 with 1 Axes>",
      "image/png": "[encoded data removed]"
     },
     "metadata": {
      "needs_background": "light"
     },
     "output_type": "display_data"
    }
   ],
   "source": [
    "# 하이퍼파리미터(C)값에 따른 훈련데이터와 테스트데이터의 정확도(accuracy) 그래프\n",
    "import matplotlib.pyplot as plt\n",
    "\n",
    "plt.plot(result_random['param_C'], result_random['mean_train_score'], label=\"Train\")\n",
    "plt.plot(result_random['param_C'], result_random['mean_test_score'], label=\"Test\")\n",
    "plt.legend()\n",
    "\n"
   ],
   "metadata": {
    "collapsed": false,
    "pycharm": {
     "name": "#%%\n"
    }
   }
  }
 ],
 "metadata": {
  "kernelspec": {
   "display_name": "Python 3",
   "language": "python",
   "name": "python3"
  },
  "language_info": {
   "codemirror_mode": {
    "name": "ipython",
    "version": 2
   },
   "file_extension": ".py",
   "mimetype": "text/x-python",
   "name": "python",
   "nbconvert_exporter": "python",
   "pygments_lexer": "ipython2",
   "version": "2.7.6"
  }
 },
 "nbformat": 4,
 "nbformat_minor": 0
}