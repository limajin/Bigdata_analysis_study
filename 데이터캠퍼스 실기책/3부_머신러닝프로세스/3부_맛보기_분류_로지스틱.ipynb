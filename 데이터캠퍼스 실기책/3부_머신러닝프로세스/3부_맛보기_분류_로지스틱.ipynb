{
 "cells": [
  {
   "cell_type": "markdown",
   "source": [
    "# 2. 머신러닝 맛보기1: 분류문제"
   ],
   "metadata": {
    "collapsed": false
   }
  },
  {
   "cell_type": "markdown",
   "metadata": {
    "collapsed": true,
    "pycharm": {
     "name": "#%% md\n"
    }
   },
   "source": [
    "## 2-1. 분석 데이터 검토"
   ]
  },
  {
   "cell_type": "code",
   "execution_count": 120,
   "outputs": [
    {
     "data": {
      "text/plain": "      code  Clump_Thickness  Cell_Size  Cell_Shape  Marginal_Adhesion  \\\n0  1000025                5          1           1                  1   \n1  1002945                5          4           4                  5   \n2  1015425                3          1           1                  1   \n3  1016277                6          8           8                  1   \n4  1017023                4          1           1                  3   \n\n   Single_Epithelial_Cell_Size  Bare_Nuclei  Bland_Chromatin  Normal_Nucleoli  \\\n0                            2            1                3                1   \n1                            7           10                3                2   \n2                            2            2                3                1   \n3                            3            4                3                7   \n4                            2            1                3                1   \n\n   Mitoses  Class  \n0        1      0  \n1        1      0  \n2        1      0  \n3        1      0  \n4        1      0  ",
      "text/html": "<div>\n<style scoped>\n    .dataframe tbody tr th:only-of-type {\n        vertical-align: middle;\n    }\n\n    .dataframe tbody tr th {\n        vertical-align: top;\n    }\n\n    .dataframe thead th {\n        text-align: right;\n    }\n</style>\n<table border=\"1\" class=\"dataframe\">\n  <thead>\n    <tr style=\"text-align: right;\">\n      <th></th>\n      <th>code</th>\n      <th>Clump_Thickness</th>\n      <th>Cell_Size</th>\n      <th>Cell_Shape</th>\n      <th>Marginal_Adhesion</th>\n      <th>Single_Epithelial_Cell_Size</th>\n      <th>Bare_Nuclei</th>\n      <th>Bland_Chromatin</th>\n      <th>Normal_Nucleoli</th>\n      <th>Mitoses</th>\n      <th>Class</th>\n    </tr>\n  </thead>\n  <tbody>\n    <tr>\n      <th>0</th>\n      <td>1000025</td>\n      <td>5</td>\n      <td>1</td>\n      <td>1</td>\n      <td>1</td>\n      <td>2</td>\n      <td>1</td>\n      <td>3</td>\n      <td>1</td>\n      <td>1</td>\n      <td>0</td>\n    </tr>\n    <tr>\n      <th>1</th>\n      <td>1002945</td>\n      <td>5</td>\n      <td>4</td>\n      <td>4</td>\n      <td>5</td>\n      <td>7</td>\n      <td>10</td>\n      <td>3</td>\n      <td>2</td>\n      <td>1</td>\n      <td>0</td>\n    </tr>\n    <tr>\n      <th>2</th>\n      <td>1015425</td>\n      <td>3</td>\n      <td>1</td>\n      <td>1</td>\n      <td>1</td>\n      <td>2</td>\n      <td>2</td>\n      <td>3</td>\n      <td>1</td>\n      <td>1</td>\n      <td>0</td>\n    </tr>\n    <tr>\n      <th>3</th>\n      <td>1016277</td>\n      <td>6</td>\n      <td>8</td>\n      <td>8</td>\n      <td>1</td>\n      <td>3</td>\n      <td>4</td>\n      <td>3</td>\n      <td>7</td>\n      <td>1</td>\n      <td>0</td>\n    </tr>\n    <tr>\n      <th>4</th>\n      <td>1017023</td>\n      <td>4</td>\n      <td>1</td>\n      <td>1</td>\n      <td>3</td>\n      <td>2</td>\n      <td>1</td>\n      <td>3</td>\n      <td>1</td>\n      <td>1</td>\n      <td>0</td>\n    </tr>\n  </tbody>\n</table>\n</div>"
     },
     "execution_count": 120,
     "metadata": {},
     "output_type": "execute_result"
    }
   ],
   "source": [
    "# 분석데이터(유방암데이터) 불러와서 확인\n",
    "# Class변수: y값 정상(0), 유방암(1)\n",
    "import pandas as pd\n",
    "data = pd.read_csv(\"../제공자료/breast-cancer-wisconsin.csv\")\n",
    "data.head()"
   ],
   "metadata": {
    "collapsed": false,
    "pycharm": {
     "name": "#%%\n"
    }
   }
  },
  {
   "cell_type": "code",
   "execution_count": 121,
   "outputs": [
    {
     "data": {
      "text/plain": "0    444\n1    239\nName: Class, dtype: int64"
     },
     "execution_count": 121,
     "metadata": {},
     "output_type": "execute_result"
    }
   ],
   "source": [
    "# class 변수 비율 확인\n",
    "data['Class'].value_counts(sort=False)"
   ],
   "metadata": {
    "collapsed": false,
    "pycharm": {
     "name": "#%%\n"
    }
   }
  },
  {
   "cell_type": "code",
   "execution_count": 122,
   "outputs": [
    {
     "data": {
      "text/plain": "(683, 11)"
     },
     "execution_count": 122,
     "metadata": {},
     "output_type": "execute_result"
    }
   ],
   "source": [
    "# 행(케이스 수)와 열(컬럼수) 구조 확인\n",
    "# shape 괄호 X\n",
    "data.shape"
   ],
   "metadata": {
    "collapsed": false,
    "pycharm": {
     "name": "#%%\n"
    }
   }
  },
  {
   "cell_type": "markdown",
   "source": [
    "## 2-2. 특성(X)과 레이블(y) 나누기"
   ],
   "metadata": {
    "collapsed": false,
    "pycharm": {
     "name": "#%% md\n"
    }
   }
  },
  {
   "cell_type": "code",
   "execution_count": 123,
   "outputs": [],
   "source": [
    "# 특성과 레이블 데이터 나누기: 특성치 데이터셋을 나누는 방법은 다양함\n",
    "# 방법1: 특성이름으로 특성 데이터셋(X) 나누기\n",
    "# 컬럼확인\n",
    "data.columns\n",
    "X1=data[['Clump_Thickness', 'Cell_Size', 'Cell_Shape', 'Marginal_Adhesion', 'Single_Epithelial_Cell_Size', 'Bare_Nuclei', 'Bland_Chromatin', 'Normal_Nucleoli', 'Mitoses']]\n",
    "# 방법2: 특성 위치값으로 특성 데이터셋(X) 나누기\n",
    "X2=data[data.columns[1:10]]\n",
    "# 방법3: loc 함수로 특성 데이터셋(X) 나누기 (단, 불러올 특성이 연달아 있어야 함)\n",
    "X3=data.loc[:, 'Clump_Thickness':'Mitoses']\n",
    "# 방법4: iloc 사용\n",
    "X4 = data.iloc[:,1:10]"
   ],
   "metadata": {
    "collapsed": false,
    "pycharm": {
     "name": "#%%\n"
    }
   }
  },
  {
   "cell_type": "code",
   "execution_count": 124,
   "outputs": [
    {
     "name": "stdout",
     "output_type": "stream",
     "text": [
      "(683, 9)\n",
      "(683, 9)\n",
      "(683, 9)\n",
      "(683, 9)\n"
     ]
    }
   ],
   "source": [
    "# 방법 모두 동일한 특성치 데이터셋 나눠진 결과 확인\n",
    "print(X1.shape)\n",
    "print(X2.shape)\n",
    "print(X3.shape)\n",
    "print(X4.shape)"
   ],
   "metadata": {
    "collapsed": false,
    "pycharm": {
     "name": "#%%\n"
    }
   }
  },
  {
   "cell_type": "code",
   "execution_count": 125,
   "outputs": [],
   "source": [
    "# (정답) 레이블 데이터셋 나누기\n",
    "\n",
    "y = data[['Class']]"
   ],
   "metadata": {
    "collapsed": false,
    "pycharm": {
     "name": "#%%\n"
    }
   }
  },
  {
   "cell_type": "code",
   "execution_count": 126,
   "outputs": [
    {
     "name": "stdout",
     "output_type": "stream",
     "text": [
      "(683, 1)\n"
     ]
    }
   ],
   "source": [
    "# 레이블 데이터셋 행, 열 확인\n",
    "print(y.shape)\n",
    "\n"
   ],
   "metadata": {
    "collapsed": false,
    "pycharm": {
     "name": "#%%\n"
    }
   }
  },
  {
   "cell_type": "markdown",
   "source": [
    "## 2-3. train-test 데이터셋 나누기"
   ],
   "metadata": {
    "collapsed": false,
    "pycharm": {
     "name": "#%% md\n"
    }
   }
  },
  {
   "cell_type": "code",
   "execution_count": 127,
   "outputs": [],
   "source": [
    "# 학습용 데이터(train)와 테스트용 데이터(test) 구분을 위한 라이브러리 불러오기\n",
    "# 레이블이 범주형일 경우 straity 옵션 추천\n",
    "from sklearn.model_selection import train_test_split\n",
    "X_train, X_test, y_train, y_test=train_test_split(X1, y, stratify=y, random_state=42)"
   ],
   "metadata": {
    "collapsed": false,
    "pycharm": {
     "name": "#%%\n"
    }
   }
  },
  {
   "cell_type": "code",
   "execution_count": 128,
   "outputs": [
    {
     "name": "stdout",
     "output_type": "stream",
     "text": [
      "Class    0.349609\n",
      "dtype: float64\n",
      "Class    0.350877\n",
      "dtype: float64\n"
     ]
    }
   ],
   "source": [
    "# 학습데이터와 테스트데이터의 0/1 비율이 유사한지 평균으로 확인(stratity 옵션 적용시 유사)\n",
    "print(y_train.mean())\n",
    "print(y_test.mean())"
   ],
   "metadata": {
    "collapsed": false,
    "pycharm": {
     "name": "#%%\n"
    }
   }
  },
  {
   "cell_type": "markdown",
   "source": [
    "## 2-4. 정규화"
   ],
   "metadata": {
    "collapsed": false,
    "pycharm": {
     "name": "#%% md\n"
    }
   }
  },
  {
   "cell_type": "code",
   "execution_count": 129,
   "outputs": [],
   "source": [
    "# 아진 버전\n",
    "\n",
    "# 정규화 sklearn.preprocessing\n",
    "# 민맥스, 표준화\n",
    "from sklearn.preprocessing import minmax_scale\n",
    "from sklearn.preprocessing import StandardScaler\n",
    "\n",
    "X_scaled_minmax_train = minmax_scale(X_train)\n",
    "\n",
    "scaler_standard = StandardScaler()\n",
    "scaler_standard.fit(X_train)\n",
    "X_scaled_standard_train = scaler_standard.transform(X_train)"
   ],
   "metadata": {
    "collapsed": false,
    "pycharm": {
     "name": "#%%\n"
    }
   }
  },
  {
   "cell_type": "code",
   "execution_count": 130,
   "outputs": [
    {
     "name": "stdout",
     "output_type": "stream",
     "text": [
      "[[0.22222222 0.         0.         ... 0.11111111 0.11111111 0.        ]\n",
      " [0.         0.         0.         ... 0.22222222 0.         0.        ]\n",
      " [0.44444444 0.         0.         ... 0.22222222 0.         0.        ]\n",
      " ...\n",
      " [1.         0.         0.         ... 0.44444444 0.33333333 0.        ]\n",
      " [0.11111111 0.         0.         ... 0.11111111 0.         0.        ]\n",
      " [0.         0.         0.         ... 0.11111111 0.         0.        ]]\n"
     ]
    }
   ],
   "source": [
    "print(X_scaled_minmax_train)"
   ],
   "metadata": {
    "collapsed": false,
    "pycharm": {
     "name": "#%%\n"
    }
   }
  },
  {
   "cell_type": "markdown",
   "source": [
    "### 가. train data의 정규화"
   ],
   "metadata": {
    "collapsed": false
   }
  },
  {
   "cell_type": "code",
   "execution_count": 131,
   "outputs": [],
   "source": [
    "# 특성치(X)의 단위 정규화를 위한 라이브러리 블러오기(min-max, standard 2가지 비교)\n",
    "from sklearn.preprocessing import MinMaxScaler\n",
    "from sklearn.preprocessing import StandardScaler\n",
    "scaler_minmax=MinMaxScaler()\n",
    "scaler_standard=StandardScaler()"
   ],
   "metadata": {
    "collapsed": false,
    "pycharm": {
     "name": "#%%\n"
    }
   }
  },
  {
   "cell_type": "code",
   "execution_count": 132,
   "outputs": [],
   "source": [
    "# min-max 방법으로 정규화\n",
    "# 주의!: fit은 학습데이터로 해야, 나중에 test 데이터 정규화시 train 데이터의 최대-최소 기준이 적용됨\n",
    "scaler_minmax.fit(X_train)\n",
    "X_scaled_minmax_train=scaler_minmax.transform(X_train)"
   ],
   "metadata": {
    "collapsed": false,
    "pycharm": {
     "name": "#%%\n"
    }
   }
  },
  {
   "cell_type": "code",
   "execution_count": 133,
   "outputs": [],
   "source": [
    "# standard 방법으로 정규화\n",
    "# 주의!: fit은 학습데이터로 해야, 나중에 test 데이터 정규화시 train 데이터의 표준화(평균, 표준편차) 기준이 적용됨\n",
    "scaler_standard.fit(X_train)\n",
    "X_scaled_standard_train=scaler_standard.transform(X_train)"
   ],
   "metadata": {
    "collapsed": false,
    "pycharm": {
     "name": "#%%\n"
    }
   }
  },
  {
   "cell_type": "code",
   "execution_count": 134,
   "outputs": [
    {
     "data": {
      "text/plain": "                0           1           2           3           4           5  \\\ncount  512.000000  512.000000  512.000000  512.000000  512.000000  512.000000   \nmean     0.372830    0.231988    0.242839    0.205078    0.241319    0.285590   \nstd      0.317836    0.334781    0.332112    0.319561    0.242541    0.404890   \nmin      0.000000    0.000000    0.000000    0.000000    0.000000    0.000000   \n25%      0.111111    0.000000    0.000000    0.000000    0.111111    0.000000   \n50%      0.333333    0.000000    0.000000    0.000000    0.111111    0.000000   \n75%      0.555556    0.361111    0.444444    0.333333    0.333333    0.583333   \nmax      1.000000    1.000000    1.000000    1.000000    1.000000    1.000000   \n\n                6           7           8  \ncount  512.000000  512.000000  512.000000  \nmean     0.269314    0.199002    0.067491  \nstd      0.265289    0.331503    0.190373  \nmin      0.000000    0.000000    0.000000  \n25%      0.111111    0.000000    0.000000  \n50%      0.222222    0.000000    0.000000  \n75%      0.444444    0.222222    0.000000  \nmax      1.000000    1.000000    1.000000  ",
      "text/html": "<div>\n<style scoped>\n    .dataframe tbody tr th:only-of-type {\n        vertical-align: middle;\n    }\n\n    .dataframe tbody tr th {\n        vertical-align: top;\n    }\n\n    .dataframe thead th {\n        text-align: right;\n    }\n</style>\n<table border=\"1\" class=\"dataframe\">\n  <thead>\n    <tr style=\"text-align: right;\">\n      <th></th>\n      <th>0</th>\n      <th>1</th>\n      <th>2</th>\n      <th>3</th>\n      <th>4</th>\n      <th>5</th>\n      <th>6</th>\n      <th>7</th>\n      <th>8</th>\n    </tr>\n  </thead>\n  <tbody>\n    <tr>\n      <th>count</th>\n      <td>512.000000</td>\n      <td>512.000000</td>\n      <td>512.000000</td>\n      <td>512.000000</td>\n      <td>512.000000</td>\n      <td>512.000000</td>\n      <td>512.000000</td>\n      <td>512.000000</td>\n      <td>512.000000</td>\n    </tr>\n    <tr>\n      <th>mean</th>\n      <td>0.372830</td>\n      <td>0.231988</td>\n      <td>0.242839</td>\n      <td>0.205078</td>\n      <td>0.241319</td>\n      <td>0.285590</td>\n      <td>0.269314</td>\n      <td>0.199002</td>\n      <td>0.067491</td>\n    </tr>\n    <tr>\n      <th>std</th>\n      <td>0.317836</td>\n      <td>0.334781</td>\n      <td>0.332112</td>\n      <td>0.319561</td>\n      <td>0.242541</td>\n      <td>0.404890</td>\n      <td>0.265289</td>\n      <td>0.331503</td>\n      <td>0.190373</td>\n    </tr>\n    <tr>\n      <th>min</th>\n      <td>0.000000</td>\n      <td>0.000000</td>\n      <td>0.000000</td>\n      <td>0.000000</td>\n      <td>0.000000</td>\n      <td>0.000000</td>\n      <td>0.000000</td>\n      <td>0.000000</td>\n      <td>0.000000</td>\n    </tr>\n    <tr>\n      <th>25%</th>\n      <td>0.111111</td>\n      <td>0.000000</td>\n      <td>0.000000</td>\n      <td>0.000000</td>\n      <td>0.111111</td>\n      <td>0.000000</td>\n      <td>0.111111</td>\n      <td>0.000000</td>\n      <td>0.000000</td>\n    </tr>\n    <tr>\n      <th>50%</th>\n      <td>0.333333</td>\n      <td>0.000000</td>\n      <td>0.000000</td>\n      <td>0.000000</td>\n      <td>0.111111</td>\n      <td>0.000000</td>\n      <td>0.222222</td>\n      <td>0.000000</td>\n      <td>0.000000</td>\n    </tr>\n    <tr>\n      <th>75%</th>\n      <td>0.555556</td>\n      <td>0.361111</td>\n      <td>0.444444</td>\n      <td>0.333333</td>\n      <td>0.333333</td>\n      <td>0.583333</td>\n      <td>0.444444</td>\n      <td>0.222222</td>\n      <td>0.000000</td>\n    </tr>\n    <tr>\n      <th>max</th>\n      <td>1.000000</td>\n      <td>1.000000</td>\n      <td>1.000000</td>\n      <td>1.000000</td>\n      <td>1.000000</td>\n      <td>1.000000</td>\n      <td>1.000000</td>\n      <td>1.000000</td>\n      <td>1.000000</td>\n    </tr>\n  </tbody>\n</table>\n</div>"
     },
     "execution_count": 134,
     "metadata": {},
     "output_type": "execute_result"
    }
   ],
   "source": [
    "# min-max 방법으로 정규화한 데이터의 기술통계량 확인\n",
    "pd.DataFrame(X_scaled_minmax_train).describe()"
   ],
   "metadata": {
    "collapsed": false,
    "pycharm": {
     "name": "#%%\n"
    }
   }
  },
  {
   "cell_type": "code",
   "execution_count": 135,
   "outputs": [
    {
     "data": {
      "text/plain": "                  0             1             2             3             4  \\\ncount  5.120000e+02  5.120000e+02  5.120000e+02  5.120000e+02  5.120000e+02   \nmean   6.938894e-18  6.938894e-18 -2.775558e-17 -2.775558e-17 -4.857226e-17   \nstd    1.000978e+00  1.000978e+00  1.000978e+00  1.000978e+00  1.000978e+00   \nmin   -1.174173e+00 -6.936309e-01 -7.319088e-01 -6.423777e-01 -9.959361e-01   \n25%   -8.242452e-01 -6.936309e-01 -7.319088e-01 -6.423777e-01 -5.373756e-01   \n50%   -1.243886e-01 -6.936309e-01 -7.319088e-01 -6.423777e-01 -5.373756e-01   \n75%    5.754680e-01  3.860715e-01  6.076347e-01  4.017410e-01  3.797454e-01   \nmax    1.975181e+00  2.296314e+00  2.282064e+00  2.489978e+00  3.131108e+00   \n\n                  5             6             7             8  \ncount  5.120000e+02  5.120000e+02  5.120000e+02  5.120000e+02  \nmean   6.938894e-18 -2.081668e-17 -2.775558e-17 -1.734723e-18  \nstd    1.000978e+00  1.000978e+00  1.000978e+00  1.000978e+00  \nmin   -7.060427e-01 -1.016165e+00 -6.008881e-01 -3.548677e-01  \n25%   -7.060427e-01 -5.969255e-01 -6.008881e-01 -3.548677e-01  \n50%   -7.060427e-01 -1.776856e-01 -6.008881e-01 -3.548677e-01  \n75%    7.360871e-01  6.607941e-01  7.011454e-02 -3.548677e-01  \nmax    1.766180e+00  2.756993e+00  2.418624e+00  4.903108e+00  ",
      "text/html": "<div>\n<style scoped>\n    .dataframe tbody tr th:only-of-type {\n        vertical-align: middle;\n    }\n\n    .dataframe tbody tr th {\n        vertical-align: top;\n    }\n\n    .dataframe thead th {\n        text-align: right;\n    }\n</style>\n<table border=\"1\" class=\"dataframe\">\n  <thead>\n    <tr style=\"text-align: right;\">\n      <th></th>\n      <th>0</th>\n      <th>1</th>\n      <th>2</th>\n      <th>3</th>\n      <th>4</th>\n      <th>5</th>\n      <th>6</th>\n      <th>7</th>\n      <th>8</th>\n    </tr>\n  </thead>\n  <tbody>\n    <tr>\n      <th>count</th>\n      <td>5.120000e+02</td>\n      <td>5.120000e+02</td>\n      <td>5.120000e+02</td>\n      <td>5.120000e+02</td>\n      <td>5.120000e+02</td>\n      <td>5.120000e+02</td>\n      <td>5.120000e+02</td>\n      <td>5.120000e+02</td>\n      <td>5.120000e+02</td>\n    </tr>\n    <tr>\n      <th>mean</th>\n      <td>6.938894e-18</td>\n      <td>6.938894e-18</td>\n      <td>-2.775558e-17</td>\n      <td>-2.775558e-17</td>\n      <td>-4.857226e-17</td>\n      <td>6.938894e-18</td>\n      <td>-2.081668e-17</td>\n      <td>-2.775558e-17</td>\n      <td>-1.734723e-18</td>\n    </tr>\n    <tr>\n      <th>std</th>\n      <td>1.000978e+00</td>\n      <td>1.000978e+00</td>\n      <td>1.000978e+00</td>\n      <td>1.000978e+00</td>\n      <td>1.000978e+00</td>\n      <td>1.000978e+00</td>\n      <td>1.000978e+00</td>\n      <td>1.000978e+00</td>\n      <td>1.000978e+00</td>\n    </tr>\n    <tr>\n      <th>min</th>\n      <td>-1.174173e+00</td>\n      <td>-6.936309e-01</td>\n      <td>-7.319088e-01</td>\n      <td>-6.423777e-01</td>\n      <td>-9.959361e-01</td>\n      <td>-7.060427e-01</td>\n      <td>-1.016165e+00</td>\n      <td>-6.008881e-01</td>\n      <td>-3.548677e-01</td>\n    </tr>\n    <tr>\n      <th>25%</th>\n      <td>-8.242452e-01</td>\n      <td>-6.936309e-01</td>\n      <td>-7.319088e-01</td>\n      <td>-6.423777e-01</td>\n      <td>-5.373756e-01</td>\n      <td>-7.060427e-01</td>\n      <td>-5.969255e-01</td>\n      <td>-6.008881e-01</td>\n      <td>-3.548677e-01</td>\n    </tr>\n    <tr>\n      <th>50%</th>\n      <td>-1.243886e-01</td>\n      <td>-6.936309e-01</td>\n      <td>-7.319088e-01</td>\n      <td>-6.423777e-01</td>\n      <td>-5.373756e-01</td>\n      <td>-7.060427e-01</td>\n      <td>-1.776856e-01</td>\n      <td>-6.008881e-01</td>\n      <td>-3.548677e-01</td>\n    </tr>\n    <tr>\n      <th>75%</th>\n      <td>5.754680e-01</td>\n      <td>3.860715e-01</td>\n      <td>6.076347e-01</td>\n      <td>4.017410e-01</td>\n      <td>3.797454e-01</td>\n      <td>7.360871e-01</td>\n      <td>6.607941e-01</td>\n      <td>7.011454e-02</td>\n      <td>-3.548677e-01</td>\n    </tr>\n    <tr>\n      <th>max</th>\n      <td>1.975181e+00</td>\n      <td>2.296314e+00</td>\n      <td>2.282064e+00</td>\n      <td>2.489978e+00</td>\n      <td>3.131108e+00</td>\n      <td>1.766180e+00</td>\n      <td>2.756993e+00</td>\n      <td>2.418624e+00</td>\n      <td>4.903108e+00</td>\n    </tr>\n  </tbody>\n</table>\n</div>"
     },
     "execution_count": 135,
     "metadata": {},
     "output_type": "execute_result"
    }
   ],
   "source": [
    "# standard 방법으로 정규화한 데이터의 기술통계량 확인\n",
    "pd.DataFrame(X_scaled_standard_train).describe()\n"
   ],
   "metadata": {
    "collapsed": false,
    "pycharm": {
     "name": "#%%\n"
    }
   }
  },
  {
   "cell_type": "markdown",
   "source": [
    "- 민맥스로 정규화 : 최소0 최대 1\n",
    "- 표준화로 졍규화 : 평균이 0 표준편차 1\n"
   ],
   "metadata": {
    "collapsed": false,
    "pycharm": {
     "name": "#%% md\n"
    }
   }
  },
  {
   "cell_type": "markdown",
   "source": [
    "### 나. test data의 정규화"
   ],
   "metadata": {
    "collapsed": false,
    "pycharm": {
     "name": "#%% md\n"
    }
   }
  },
  {
   "cell_type": "code",
   "execution_count": 136,
   "outputs": [
    {
     "data": {
      "text/plain": "                0           1           2           3           4           5  \\\ncount  171.000000  171.000000  171.000000  171.000000  171.000000  171.000000   \nmean     0.411306    0.259909    0.256010    0.198181    0.269006    0.274204   \nstd      0.298847    0.357544    0.332700    0.315307    0.259557    0.405891   \nmin      0.000000    0.000000    0.000000    0.000000    0.000000    0.000000   \n25%      0.222222    0.000000    0.000000    0.000000    0.111111    0.000000   \n50%      0.444444    0.000000    0.111111    0.000000    0.111111    0.000000   \n75%      0.555556    0.444444    0.444444    0.222222    0.388889    0.444444   \nmax      1.000000    1.000000    1.000000    1.000000    1.000000    1.000000   \n\n                6           7           8  \ncount  171.000000  171.000000  171.000000  \nmean     0.278752    0.233918    0.065627  \nstd      0.292578    0.360958    0.199372  \nmin      0.000000    0.000000    0.000000  \n25%      0.000000    0.000000    0.000000  \n50%      0.222222    0.000000    0.000000  \n75%      0.444444    0.388889    0.000000  \nmax      1.000000    1.000000    1.000000  ",
      "text/html": "<div>\n<style scoped>\n    .dataframe tbody tr th:only-of-type {\n        vertical-align: middle;\n    }\n\n    .dataframe tbody tr th {\n        vertical-align: top;\n    }\n\n    .dataframe thead th {\n        text-align: right;\n    }\n</style>\n<table border=\"1\" class=\"dataframe\">\n  <thead>\n    <tr style=\"text-align: right;\">\n      <th></th>\n      <th>0</th>\n      <th>1</th>\n      <th>2</th>\n      <th>3</th>\n      <th>4</th>\n      <th>5</th>\n      <th>6</th>\n      <th>7</th>\n      <th>8</th>\n    </tr>\n  </thead>\n  <tbody>\n    <tr>\n      <th>count</th>\n      <td>171.000000</td>\n      <td>171.000000</td>\n      <td>171.000000</td>\n      <td>171.000000</td>\n      <td>171.000000</td>\n      <td>171.000000</td>\n      <td>171.000000</td>\n      <td>171.000000</td>\n      <td>171.000000</td>\n    </tr>\n    <tr>\n      <th>mean</th>\n      <td>0.411306</td>\n      <td>0.259909</td>\n      <td>0.256010</td>\n      <td>0.198181</td>\n      <td>0.269006</td>\n      <td>0.274204</td>\n      <td>0.278752</td>\n      <td>0.233918</td>\n      <td>0.065627</td>\n    </tr>\n    <tr>\n      <th>std</th>\n      <td>0.298847</td>\n      <td>0.357544</td>\n      <td>0.332700</td>\n      <td>0.315307</td>\n      <td>0.259557</td>\n      <td>0.405891</td>\n      <td>0.292578</td>\n      <td>0.360958</td>\n      <td>0.199372</td>\n    </tr>\n    <tr>\n      <th>min</th>\n      <td>0.000000</td>\n      <td>0.000000</td>\n      <td>0.000000</td>\n      <td>0.000000</td>\n      <td>0.000000</td>\n      <td>0.000000</td>\n      <td>0.000000</td>\n      <td>0.000000</td>\n      <td>0.000000</td>\n    </tr>\n    <tr>\n      <th>25%</th>\n      <td>0.222222</td>\n      <td>0.000000</td>\n      <td>0.000000</td>\n      <td>0.000000</td>\n      <td>0.111111</td>\n      <td>0.000000</td>\n      <td>0.000000</td>\n      <td>0.000000</td>\n      <td>0.000000</td>\n    </tr>\n    <tr>\n      <th>50%</th>\n      <td>0.444444</td>\n      <td>0.000000</td>\n      <td>0.111111</td>\n      <td>0.000000</td>\n      <td>0.111111</td>\n      <td>0.000000</td>\n      <td>0.222222</td>\n      <td>0.000000</td>\n      <td>0.000000</td>\n    </tr>\n    <tr>\n      <th>75%</th>\n      <td>0.555556</td>\n      <td>0.444444</td>\n      <td>0.444444</td>\n      <td>0.222222</td>\n      <td>0.388889</td>\n      <td>0.444444</td>\n      <td>0.444444</td>\n      <td>0.388889</td>\n      <td>0.000000</td>\n    </tr>\n    <tr>\n      <th>max</th>\n      <td>1.000000</td>\n      <td>1.000000</td>\n      <td>1.000000</td>\n      <td>1.000000</td>\n      <td>1.000000</td>\n      <td>1.000000</td>\n      <td>1.000000</td>\n      <td>1.000000</td>\n      <td>1.000000</td>\n    </tr>\n  </tbody>\n</table>\n</div>"
     },
     "execution_count": 136,
     "metadata": {},
     "output_type": "execute_result"
    }
   ],
   "source": [
    "# test 데이터에도 정규화 적용 및 데이터 확인: min-max 방법\n",
    "X_scaled_minmax_test=scaler_minmax.transform(X_test)\n",
    "pd.DataFrame(X_scaled_minmax_test).describe()\n"
   ],
   "metadata": {
    "collapsed": false,
    "pycharm": {
     "name": "#%%\n"
    }
   }
  },
  {
   "cell_type": "code",
   "execution_count": 137,
   "outputs": [
    {
     "data": {
      "text/plain": "                0           1           2           3           4           5  \\\ncount  171.000000  171.000000  171.000000  171.000000  171.000000  171.000000   \nmean     0.121175    0.083483    0.039700   -0.021605    0.114263   -0.028149   \nstd      0.941174    1.069038    1.002747    0.987654    1.071204    1.003453   \nmin     -1.174173   -0.693631   -0.731909   -0.642378   -0.995936   -0.706043   \n25%     -0.474317   -0.693631   -0.731909   -0.642378   -0.537376   -0.706043   \n50%      0.225540   -0.693631   -0.397023   -0.642378   -0.537376   -0.706043   \n75%      0.575468    0.635234    0.607635    0.053701    0.609026    0.392723   \nmax      1.975181    2.296314    2.282064    2.489978    3.131108    1.766180   \n\n                6           7           8  \ncount  171.000000  171.000000  171.000000  \nmean     0.035612    0.105430   -0.009802  \nstd      1.103943    1.089918    1.048292  \nmin     -1.016165   -0.600888   -0.354868  \n25%     -1.016165   -0.600888   -0.354868  \n50%     -0.177686   -0.600888   -0.354868  \n75%      0.660794    0.573367   -0.354868  \nmax      2.756993    2.418624    4.903108  ",
      "text/html": "<div>\n<style scoped>\n    .dataframe tbody tr th:only-of-type {\n        vertical-align: middle;\n    }\n\n    .dataframe tbody tr th {\n        vertical-align: top;\n    }\n\n    .dataframe thead th {\n        text-align: right;\n    }\n</style>\n<table border=\"1\" class=\"dataframe\">\n  <thead>\n    <tr style=\"text-align: right;\">\n      <th></th>\n      <th>0</th>\n      <th>1</th>\n      <th>2</th>\n      <th>3</th>\n      <th>4</th>\n      <th>5</th>\n      <th>6</th>\n      <th>7</th>\n      <th>8</th>\n    </tr>\n  </thead>\n  <tbody>\n    <tr>\n      <th>count</th>\n      <td>171.000000</td>\n      <td>171.000000</td>\n      <td>171.000000</td>\n      <td>171.000000</td>\n      <td>171.000000</td>\n      <td>171.000000</td>\n      <td>171.000000</td>\n      <td>171.000000</td>\n      <td>171.000000</td>\n    </tr>\n    <tr>\n      <th>mean</th>\n      <td>0.121175</td>\n      <td>0.083483</td>\n      <td>0.039700</td>\n      <td>-0.021605</td>\n      <td>0.114263</td>\n      <td>-0.028149</td>\n      <td>0.035612</td>\n      <td>0.105430</td>\n      <td>-0.009802</td>\n    </tr>\n    <tr>\n      <th>std</th>\n      <td>0.941174</td>\n      <td>1.069038</td>\n      <td>1.002747</td>\n      <td>0.987654</td>\n      <td>1.071204</td>\n      <td>1.003453</td>\n      <td>1.103943</td>\n      <td>1.089918</td>\n      <td>1.048292</td>\n    </tr>\n    <tr>\n      <th>min</th>\n      <td>-1.174173</td>\n      <td>-0.693631</td>\n      <td>-0.731909</td>\n      <td>-0.642378</td>\n      <td>-0.995936</td>\n      <td>-0.706043</td>\n      <td>-1.016165</td>\n      <td>-0.600888</td>\n      <td>-0.354868</td>\n    </tr>\n    <tr>\n      <th>25%</th>\n      <td>-0.474317</td>\n      <td>-0.693631</td>\n      <td>-0.731909</td>\n      <td>-0.642378</td>\n      <td>-0.537376</td>\n      <td>-0.706043</td>\n      <td>-1.016165</td>\n      <td>-0.600888</td>\n      <td>-0.354868</td>\n    </tr>\n    <tr>\n      <th>50%</th>\n      <td>0.225540</td>\n      <td>-0.693631</td>\n      <td>-0.397023</td>\n      <td>-0.642378</td>\n      <td>-0.537376</td>\n      <td>-0.706043</td>\n      <td>-0.177686</td>\n      <td>-0.600888</td>\n      <td>-0.354868</td>\n    </tr>\n    <tr>\n      <th>75%</th>\n      <td>0.575468</td>\n      <td>0.635234</td>\n      <td>0.607635</td>\n      <td>0.053701</td>\n      <td>0.609026</td>\n      <td>0.392723</td>\n      <td>0.660794</td>\n      <td>0.573367</td>\n      <td>-0.354868</td>\n    </tr>\n    <tr>\n      <th>max</th>\n      <td>1.975181</td>\n      <td>2.296314</td>\n      <td>2.282064</td>\n      <td>2.489978</td>\n      <td>3.131108</td>\n      <td>1.766180</td>\n      <td>2.756993</td>\n      <td>2.418624</td>\n      <td>4.903108</td>\n    </tr>\n  </tbody>\n</table>\n</div>"
     },
     "execution_count": 137,
     "metadata": {},
     "output_type": "execute_result"
    }
   ],
   "source": [
    "# test 데이터에도 정규화 적용 및 데이터 확인: standard 방법\n",
    "X_scaled_standard_test=scaler_standard.transform(X_test)\n",
    "pd.DataFrame(X_scaled_standard_test).describe()"
   ],
   "metadata": {
    "collapsed": false,
    "pycharm": {
     "name": "#%%\n"
    }
   }
  },
  {
   "cell_type": "markdown",
   "source": [
    "## 2-5. 모델 학습"
   ],
   "metadata": {
    "collapsed": false,
    "pycharm": {
     "name": "#%% md\n"
    }
   }
  },
  {
   "cell_type": "code",
   "execution_count": 138,
   "outputs": [
    {
     "name": "stderr",
     "output_type": "stream",
     "text": [
      "C:\\Users\\aj878\\anaconda3\\envs\\r_web_crawling\\lib\\site-packages\\sklearn\\utils\\validation.py:985: DataConversionWarning: A column-vector y was passed when a 1d array was expected. Please change the shape of y to (n_samples, ), for example using ravel().\n",
      "  y = column_or_1d(y, warn=True)\n"
     ]
    },
    {
     "data": {
      "text/plain": "LogisticRegression()"
     },
     "execution_count": 138,
     "metadata": {},
     "output_type": "execute_result"
    }
   ],
   "source": [
    "# 모델 부를 때 sklearn.모델종류 헷갈리지말자\n",
    "\n",
    "# ML 알고리즘 모듈 불러오기 및 학습데이터에 적용(LogisticRegression)\n",
    "# 여기서는 min-max 정규화 데이터로 분석\n",
    "from sklearn.linear_model import LogisticRegression\n",
    "model=LogisticRegression()\n",
    "model.fit(X_scaled_minmax_train, y_train)"
   ],
   "metadata": {
    "collapsed": false,
    "pycharm": {
     "name": "#%%\n"
    }
   }
  },
  {
   "cell_type": "code",
   "execution_count": 139,
   "outputs": [
    {
     "data": {
      "text/plain": "0.97265625"
     },
     "execution_count": 139,
     "metadata": {},
     "output_type": "execute_result"
    }
   ],
   "source": [
    "# 분류 예측 결과(0,1)을 'pred_train'에 저장(할당), score로 정확도(accuracy) 확인\n",
    "pred_train=model.predict(X_scaled_minmax_train)\n",
    "model.score(X_scaled_minmax_train, y_train)"
   ],
   "metadata": {
    "collapsed": false,
    "pycharm": {
     "name": "#%%\n"
    }
   }
  },
  {
   "cell_type": "code",
   "execution_count": 140,
   "outputs": [
    {
     "data": {
      "text/plain": "0.9590643274853801"
     },
     "execution_count": 140,
     "metadata": {},
     "output_type": "execute_result"
    }
   ],
   "source": [
    "# 테스트 데이터에 학습데이터의 모델 적용, 'pred_test'에 저장(할당), score로 정확도(accuracy) 확인\n",
    "pred_test=model.predict(X_scaled_minmax_test)\n",
    "model.score(X_scaled_minmax_test, y_test)"
   ],
   "metadata": {
    "collapsed": false,
    "pycharm": {
     "name": "#%%\n"
    }
   }
  },
  {
   "cell_type": "code",
   "execution_count": 141,
   "outputs": [
    {
     "name": "stdout",
     "output_type": "stream",
     "text": [
      "훈련데이터 오차행렬:\n",
      " [[328   5]\n",
      " [  9 170]]\n"
     ]
    }
   ],
   "source": [
    "# 학습데이터의 혼동행렬 보기(정분류, 오분류 교차표)\n",
    "from sklearn.metrics import confusion_matrix\n",
    "confusion_train=confusion_matrix(y_train, pred_train)\n",
    "print(\"훈련데이터 오차행렬:\\n\", confusion_train)"
   ],
   "metadata": {
    "collapsed": false,
    "pycharm": {
     "name": "#%%\n"
    }
   }
  },
  {
   "cell_type": "code",
   "execution_count": 142,
   "outputs": [
    {
     "name": "stdout",
     "output_type": "stream",
     "text": [
      "분류예측 레포트:\n",
      "               precision    recall  f1-score   support\n",
      "\n",
      "           0       0.97      0.98      0.98       333\n",
      "           1       0.97      0.95      0.96       179\n",
      "\n",
      "    accuracy                           0.97       512\n",
      "   macro avg       0.97      0.97      0.97       512\n",
      "weighted avg       0.97      0.97      0.97       512\n",
      "\n"
     ]
    }
   ],
   "source": [
    "# 훈련 데이터의 평가지표 상세 확인\n",
    "from sklearn.metrics import classification_report\n",
    "cfreport_train=classification_report(y_train, pred_train)\n",
    "print(\"분류예측 레포트:\\n\", cfreport_train)"
   ],
   "metadata": {
    "collapsed": false,
    "pycharm": {
     "name": "#%%\n"
    }
   }
  },
  {
   "cell_type": "code",
   "execution_count": 143,
   "outputs": [
    {
     "name": "stdout",
     "output_type": "stream",
     "text": [
      "분류예측 레포트:\n",
      "               precision    recall  f1-score   support\n",
      "\n",
      "           0       0.98      0.95      0.97       111\n",
      "           1       0.92      0.97      0.94        60\n",
      "\n",
      "    accuracy                           0.96       171\n",
      "   macro avg       0.95      0.96      0.96       171\n",
      "weighted avg       0.96      0.96      0.96       171\n",
      "\n"
     ]
    }
   ],
   "source": [
    "# 테스트 데이터의 평가지표 상세 확인\n",
    "from sklearn.metrics import classification_report\n",
    "cfreport_test=classification_report(y_test, pred_test)\n",
    "print(\"분류예측 레포트:\\n\", cfreport_test)"
   ],
   "metadata": {
    "collapsed": false,
    "pycharm": {
     "name": "#%%\n"
    }
   }
  },
  {
   "cell_type": "code",
   "execution_count": 144,
   "outputs": [
    {
     "data": {
      "text/plain": "0.9923423423423423"
     },
     "execution_count": 144,
     "metadata": {},
     "output_type": "execute_result"
    }
   ],
   "source": [
    "\n",
    "# ROC 지표 산출을 위한 라이브러리 및 산식\n",
    "# 테스트 데이터를 이용해 구한다.\n",
    "from sklearn.metrics import roc_curve, auc\n",
    "from sklearn import metrics\n",
    "false_positive_rate, true_positive_rate, thresholds = roc_curve(y_test, model.decision_function(X_scaled_minmax_test))\n",
    "roc_auc = metrics.roc_auc_score(y_test, model.decision_function(X_scaled_minmax_test))\n",
    "roc_auc"
   ],
   "metadata": {
    "collapsed": false,
    "pycharm": {
     "name": "#%%\n"
    }
   }
  },
  {
   "cell_type": "code",
   "execution_count": 145,
   "outputs": [
    {
     "data": {
      "text/plain": "<Figure size 432x288 with 1 Axes>",
      "image/png": "[encoded data removed]"
     },
     "metadata": {
      "needs_background": "light"
     },
     "output_type": "display_data"
    }
   ],
   "source": [
    "# ROC Curve 그리기\n",
    "import matplotlib.pyplot as plt\n",
    "plt.title('Receiver Operating Characteristic')\n",
    "plt.xlabel('False Positive Rate(1 - Specificity)')\n",
    "plt.ylabel('True Positive Rate(Sensitivity)')\n",
    "\n",
    "plt.plot(false_positive_rate, true_positive_rate, 'b', label='Model (AUC = %0.2f)'% roc_auc)\n",
    "plt.plot([0,1],[1,1],'y--')\n",
    "plt.plot([0,1],[0,1],'r--')\n",
    "\n",
    "plt.legend(loc='lower right')\n",
    "plt.show()\n",
    "\n",
    "# 직선과 ROC 사이 면적이 넓을수록 좋은 예측모델"
   ],
   "metadata": {
    "collapsed": false,
    "pycharm": {
     "name": "#%%\n"
    }
   }
  },
  {
   "cell_type": "markdown",
   "source": [
    "## 2-6. 예측값 병합 및 저장"
   ],
   "metadata": {
    "collapsed": false,
    "pycharm": {
     "name": "#%% md\n"
    }
   }
  },
  {
   "cell_type": "code",
   "execution_count": 147,
   "outputs": [
    {
     "data": {
      "text/plain": "     Class  y_pred   y_prob0   y_prob1\n131      0       0  0.981014  0.018986\n6        0       0  0.768191  0.231809\n0        0       0  0.966431  0.033569\n269      0       0  0.988880  0.011120\n56       1       1  0.203161  0.796839\n..     ...     ...       ...       ...\n515      1       1  0.021270  0.978730\n216      1       0  0.895961  0.104039\n312      1       1  0.113440  0.886560\n11       0       0  0.987405  0.012595\n268      0       0  0.990470  0.009530\n\n[512 rows x 4 columns]",
      "text/html": "<div>\n<style scoped>\n    .dataframe tbody tr th:only-of-type {\n        vertical-align: middle;\n    }\n\n    .dataframe tbody tr th {\n        vertical-align: top;\n    }\n\n    .dataframe thead th {\n        text-align: right;\n    }\n</style>\n<table border=\"1\" class=\"dataframe\">\n  <thead>\n    <tr style=\"text-align: right;\">\n      <th></th>\n      <th>Class</th>\n      <th>y_pred</th>\n      <th>y_prob0</th>\n      <th>y_prob1</th>\n    </tr>\n  </thead>\n  <tbody>\n    <tr>\n      <th>131</th>\n      <td>0</td>\n      <td>0</td>\n      <td>0.981014</td>\n      <td>0.018986</td>\n    </tr>\n    <tr>\n      <th>6</th>\n      <td>0</td>\n      <td>0</td>\n      <td>0.768191</td>\n      <td>0.231809</td>\n    </tr>\n    <tr>\n      <th>0</th>\n      <td>0</td>\n      <td>0</td>\n      <td>0.966431</td>\n      <td>0.033569</td>\n    </tr>\n    <tr>\n      <th>269</th>\n      <td>0</td>\n      <td>0</td>\n      <td>0.988880</td>\n      <td>0.011120</td>\n    </tr>\n    <tr>\n      <th>56</th>\n      <td>1</td>\n      <td>1</td>\n      <td>0.203161</td>\n      <td>0.796839</td>\n    </tr>\n    <tr>\n      <th>...</th>\n      <td>...</td>\n      <td>...</td>\n      <td>...</td>\n      <td>...</td>\n    </tr>\n    <tr>\n      <th>515</th>\n      <td>1</td>\n      <td>1</td>\n      <td>0.021270</td>\n      <td>0.978730</td>\n    </tr>\n    <tr>\n      <th>216</th>\n      <td>1</td>\n      <td>0</td>\n      <td>0.895961</td>\n      <td>0.104039</td>\n    </tr>\n    <tr>\n      <th>312</th>\n      <td>1</td>\n      <td>1</td>\n      <td>0.113440</td>\n      <td>0.886560</td>\n    </tr>\n    <tr>\n      <th>11</th>\n      <td>0</td>\n      <td>0</td>\n      <td>0.987405</td>\n      <td>0.012595</td>\n    </tr>\n    <tr>\n      <th>268</th>\n      <td>0</td>\n      <td>0</td>\n      <td>0.990470</td>\n      <td>0.009530</td>\n    </tr>\n  </tbody>\n</table>\n<p>512 rows × 4 columns</p>\n</div>"
     },
     "execution_count": 147,
     "metadata": {},
     "output_type": "execute_result"
    }
   ],
   "source": [
    "# 학습데이터의 예측범주, 예측확률 컬럼을 생성하여 'y_train' 데이터셋에 추가\n",
    "prob_train=model.predict_proba(X_scaled_minmax_train)\n",
    "y_train['y_pred']=pred_train\n",
    "y_train[['y_prob0', 'y_prob1']]=prob_train\n",
    "y_train"
   ],
   "metadata": {
    "collapsed": false,
    "pycharm": {
     "name": "#%%\n"
    }
   }
  },
  {
   "cell_type": "code",
   "execution_count": 149,
   "outputs": [
    {
     "data": {
      "text/plain": "     Class  y_pred   y_prob0   y_prob1\n541      0       0  0.955893  0.044107\n549      0       0  0.970887  0.029113\n318      0       0  0.943572  0.056428\n183      0       0  0.979370  0.020630\n478      1       1  0.001305  0.998695\n..     ...     ...       ...       ...\n425      1       1  0.006201  0.993799\n314      1       1  0.067440  0.932560\n15       1       1  0.436887  0.563113\n510      0       0  0.983410  0.016590\n351      0       0  0.987405  0.012595\n\n[171 rows x 4 columns]",
      "text/html": "<div>\n<style scoped>\n    .dataframe tbody tr th:only-of-type {\n        vertical-align: middle;\n    }\n\n    .dataframe tbody tr th {\n        vertical-align: top;\n    }\n\n    .dataframe thead th {\n        text-align: right;\n    }\n</style>\n<table border=\"1\" class=\"dataframe\">\n  <thead>\n    <tr style=\"text-align: right;\">\n      <th></th>\n      <th>Class</th>\n      <th>y_pred</th>\n      <th>y_prob0</th>\n      <th>y_prob1</th>\n    </tr>\n  </thead>\n  <tbody>\n    <tr>\n      <th>541</th>\n      <td>0</td>\n      <td>0</td>\n      <td>0.955893</td>\n      <td>0.044107</td>\n    </tr>\n    <tr>\n      <th>549</th>\n      <td>0</td>\n      <td>0</td>\n      <td>0.970887</td>\n      <td>0.029113</td>\n    </tr>\n    <tr>\n      <th>318</th>\n      <td>0</td>\n      <td>0</td>\n      <td>0.943572</td>\n      <td>0.056428</td>\n    </tr>\n    <tr>\n      <th>183</th>\n      <td>0</td>\n      <td>0</td>\n      <td>0.979370</td>\n      <td>0.020630</td>\n    </tr>\n    <tr>\n      <th>478</th>\n      <td>1</td>\n      <td>1</td>\n      <td>0.001305</td>\n      <td>0.998695</td>\n    </tr>\n    <tr>\n      <th>...</th>\n      <td>...</td>\n      <td>...</td>\n      <td>...</td>\n      <td>...</td>\n    </tr>\n    <tr>\n      <th>425</th>\n      <td>1</td>\n      <td>1</td>\n      <td>0.006201</td>\n      <td>0.993799</td>\n    </tr>\n    <tr>\n      <th>314</th>\n      <td>1</td>\n      <td>1</td>\n      <td>0.067440</td>\n      <td>0.932560</td>\n    </tr>\n    <tr>\n      <th>15</th>\n      <td>1</td>\n      <td>1</td>\n      <td>0.436887</td>\n      <td>0.563113</td>\n    </tr>\n    <tr>\n      <th>510</th>\n      <td>0</td>\n      <td>0</td>\n      <td>0.983410</td>\n      <td>0.016590</td>\n    </tr>\n    <tr>\n      <th>351</th>\n      <td>0</td>\n      <td>0</td>\n      <td>0.987405</td>\n      <td>0.012595</td>\n    </tr>\n  </tbody>\n</table>\n<p>171 rows × 4 columns</p>\n</div>"
     },
     "execution_count": 149,
     "metadata": {},
     "output_type": "execute_result"
    }
   ],
   "source": [
    "# 테스트 데이터의 예측범주, 예측확률 컬럼을 생성하여 'y_test' 데이터셋에 추가\n",
    "prob_test=model.predict_proba(X_scaled_minmax_test)\n",
    "y_test['y_pred']=pred_test\n",
    "y_test[['y_prob0', 'y_prob1']]=prob_test\n",
    "y_test"
   ],
   "metadata": {
    "collapsed": false,
    "pycharm": {
     "name": "#%%\n"
    }
   }
  },
  {
   "cell_type": "code",
   "execution_count": 156,
   "outputs": [
    {
     "data": {
      "text/plain": "     Clump_Thickness  Cell_Size  Cell_Shape  Marginal_Adhesion  \\\n541                5          2           2                  2   \n549                4          1           1                  1   \n318                5          2           2                  2   \n183                1          2           3                  1   \n478                5         10          10                 10   \n..               ...        ...         ...                ...   \n425               10          4           3                 10   \n314                8         10           3                  2   \n15                 7          4           6                  4   \n510                3          1           1                  2   \n351                2          1           1                  1   \n\n     Single_Epithelial_Cell_Size  Bare_Nuclei  Bland_Chromatin  \\\n541                            1            1                2   \n549                            2            1                3   \n318                            2            1                2   \n183                            2            1                3   \n478                            6           10                6   \n..                           ...          ...              ...   \n425                            4           10               10   \n314                            6            4                3   \n15                             6            1                4   \n510                            2            1                1   \n351                            2            1                2   \n\n     Normal_Nucleoli  Mitoses  Class  y_pred   y_prob0   y_prob1  \n541                1        1      0       0  0.955893  0.044107  \n549                2        1      0       0  0.970887  0.029113  \n318                2        1      0       0  0.943572  0.056428  \n183                1        1      0       0  0.979370  0.020630  \n478                5        2      1       1  0.001305  0.998695  \n..               ...      ...    ...     ...       ...       ...  \n425                1        1      1       1  0.006201  0.993799  \n314               10        1      1       1  0.067440  0.932560  \n15                 3        1      1       1  0.436887  0.563113  \n510                1        1      0       0  0.983410  0.016590  \n351                1        1      0       0  0.987405  0.012595  \n\n[171 rows x 13 columns]",
      "text/html": "<div>\n<style scoped>\n    .dataframe tbody tr th:only-of-type {\n        vertical-align: middle;\n    }\n\n    .dataframe tbody tr th {\n        vertical-align: top;\n    }\n\n    .dataframe thead th {\n        text-align: right;\n    }\n</style>\n<table border=\"1\" class=\"dataframe\">\n  <thead>\n    <tr style=\"text-align: right;\">\n      <th></th>\n      <th>Clump_Thickness</th>\n      <th>Cell_Size</th>\n      <th>Cell_Shape</th>\n      <th>Marginal_Adhesion</th>\n      <th>Single_Epithelial_Cell_Size</th>\n      <th>Bare_Nuclei</th>\n      <th>Bland_Chromatin</th>\n      <th>Normal_Nucleoli</th>\n      <th>Mitoses</th>\n      <th>Class</th>\n      <th>y_pred</th>\n      <th>y_prob0</th>\n      <th>y_prob1</th>\n    </tr>\n  </thead>\n  <tbody>\n    <tr>\n      <th>541</th>\n      <td>5</td>\n      <td>2</td>\n      <td>2</td>\n      <td>2</td>\n      <td>1</td>\n      <td>1</td>\n      <td>2</td>\n      <td>1</td>\n      <td>1</td>\n      <td>0</td>\n      <td>0</td>\n      <td>0.955893</td>\n      <td>0.044107</td>\n    </tr>\n    <tr>\n      <th>549</th>\n      <td>4</td>\n      <td>1</td>\n      <td>1</td>\n      <td>1</td>\n      <td>2</td>\n      <td>1</td>\n      <td>3</td>\n      <td>2</td>\n      <td>1</td>\n      <td>0</td>\n      <td>0</td>\n      <td>0.970887</td>\n      <td>0.029113</td>\n    </tr>\n    <tr>\n      <th>318</th>\n      <td>5</td>\n      <td>2</td>\n      <td>2</td>\n      <td>2</td>\n      <td>2</td>\n      <td>1</td>\n      <td>2</td>\n      <td>2</td>\n      <td>1</td>\n      <td>0</td>\n      <td>0</td>\n      <td>0.943572</td>\n      <td>0.056428</td>\n    </tr>\n    <tr>\n      <th>183</th>\n      <td>1</td>\n      <td>2</td>\n      <td>3</td>\n      <td>1</td>\n      <td>2</td>\n      <td>1</td>\n      <td>3</td>\n      <td>1</td>\n      <td>1</td>\n      <td>0</td>\n      <td>0</td>\n      <td>0.979370</td>\n      <td>0.020630</td>\n    </tr>\n    <tr>\n      <th>478</th>\n      <td>5</td>\n      <td>10</td>\n      <td>10</td>\n      <td>10</td>\n      <td>6</td>\n      <td>10</td>\n      <td>6</td>\n      <td>5</td>\n      <td>2</td>\n      <td>1</td>\n      <td>1</td>\n      <td>0.001305</td>\n      <td>0.998695</td>\n    </tr>\n    <tr>\n      <th>...</th>\n      <td>...</td>\n      <td>...</td>\n      <td>...</td>\n      <td>...</td>\n      <td>...</td>\n      <td>...</td>\n      <td>...</td>\n      <td>...</td>\n      <td>...</td>\n      <td>...</td>\n      <td>...</td>\n      <td>...</td>\n      <td>...</td>\n    </tr>\n    <tr>\n      <th>425</th>\n      <td>10</td>\n      <td>4</td>\n      <td>3</td>\n      <td>10</td>\n      <td>4</td>\n      <td>10</td>\n      <td>10</td>\n      <td>1</td>\n      <td>1</td>\n      <td>1</td>\n      <td>1</td>\n      <td>0.006201</td>\n      <td>0.993799</td>\n    </tr>\n    <tr>\n      <th>314</th>\n      <td>8</td>\n      <td>10</td>\n      <td>3</td>\n      <td>2</td>\n      <td>6</td>\n      <td>4</td>\n      <td>3</td>\n      <td>10</td>\n      <td>1</td>\n      <td>1</td>\n      <td>1</td>\n      <td>0.067440</td>\n      <td>0.932560</td>\n    </tr>\n    <tr>\n      <th>15</th>\n      <td>7</td>\n      <td>4</td>\n      <td>6</td>\n      <td>4</td>\n      <td>6</td>\n      <td>1</td>\n      <td>4</td>\n      <td>3</td>\n      <td>1</td>\n      <td>1</td>\n      <td>1</td>\n      <td>0.436887</td>\n      <td>0.563113</td>\n    </tr>\n    <tr>\n      <th>510</th>\n      <td>3</td>\n      <td>1</td>\n      <td>1</td>\n      <td>2</td>\n      <td>2</td>\n      <td>1</td>\n      <td>1</td>\n      <td>1</td>\n      <td>1</td>\n      <td>0</td>\n      <td>0</td>\n      <td>0.983410</td>\n      <td>0.016590</td>\n    </tr>\n    <tr>\n      <th>351</th>\n      <td>2</td>\n      <td>1</td>\n      <td>1</td>\n      <td>1</td>\n      <td>2</td>\n      <td>1</td>\n      <td>2</td>\n      <td>1</td>\n      <td>1</td>\n      <td>0</td>\n      <td>0</td>\n      <td>0.987405</td>\n      <td>0.012595</td>\n    </tr>\n  </tbody>\n</table>\n<p>171 rows × 13 columns</p>\n</div>"
     },
     "execution_count": 156,
     "metadata": {},
     "output_type": "execute_result"
    }
   ],
   "source": [
    "# 테스트 데이터의 특성치(X_test)와 레이블 및 예측치(y_test)를 병합\n",
    "Total_test=pd.concat([X_test, y_test], axis=1)\n",
    "Total_test\n"
   ],
   "metadata": {
    "collapsed": false,
    "pycharm": {
     "name": "#%%\n"
    }
   }
  },
  {
   "cell_type": "code",
   "execution_count": 162,
   "outputs": [],
   "source": [
    "# csv파일로 내보내기 및 저장\n",
    "Total_test.to_csv(\"수험번호_3부_맛보기_분류문제.csv\", index = False)"
   ],
   "metadata": {
    "collapsed": false,
    "pycharm": {
     "name": "#%%\n"
    }
   }
  },
  {
   "cell_type": "code",
   "execution_count": null,
   "outputs": [],
   "source": [],
   "metadata": {
    "collapsed": false,
    "pycharm": {
     "name": "#%%\n"
    }
   }
  }
 ],
 "metadata": {
  "kernelspec": {
   "display_name": "Python 3",
   "language": "python",
   "name": "python3"
  },
  "language_info": {
   "codemirror_mode": {
    "name": "ipython",
    "version": 2
   },
   "file_extension": ".py",
   "mimetype": "text/x-python",
   "name": "python",
   "nbconvert_exporter": "python",
   "pygments_lexer": "ipython2",
   "version": "2.7.6"
  }
 },
 "nbformat": 4,
 "nbformat_minor": 0
}