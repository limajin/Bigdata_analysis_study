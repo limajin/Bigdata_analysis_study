{
 "cells": [
  {
   "cell_type": "markdown",
   "metadata": {
    "collapsed": true,
    "pycharm": {
     "name": "#%% md\n"
    }
   },
   "source": [
    "# 8. 머신러닝 프로세스5: 모델평가"
   ]
  },
  {
   "cell_type": "markdown",
   "source": [
    "## 8-1. 데이터 불러오기 및 데이터셋 분할"
   ],
   "metadata": {
    "collapsed": false
   }
  },
  {
   "cell_type": "code",
   "execution_count": 5,
   "outputs": [],
   "source": [
    "# 데이터로드\n",
    "import warnings\n",
    "warnings.filterwarnings('ignore')\n",
    "import pandas as pd\n",
    "pd.set_option('max_columns', None)\n",
    "data = pd.read_csv('../제공자료/Fvote.csv', encoding='utf-8')"
   ],
   "metadata": {
    "collapsed": false,
    "pycharm": {
     "name": "#%%\n"
    }
   }
  },
  {
   "cell_type": "code",
   "execution_count": 6,
   "outputs": [
    {
     "data": {
      "text/plain": "     gender_female  gender_male  region_Chungcheung  region_Honam  \\\n0                0            1                   0             0   \n1                0            1                   0             0   \n2                0            1                   0             1   \n3                1            0                   0             0   \n4                0            1                   0             0   \n..             ...          ...                 ...           ...   \n206              0            1                   0             0   \n207              0            1                   0             0   \n208              0            1                   1             0   \n209              0            1                   0             0   \n210              1            0                   0             0   \n\n     region_Others  region_Sudo  region_Youngnam  edu  income  age  score_gov  \\\n0                0            0                1    3       3    3          2   \n1                1            0                0    2       3    3          2   \n2                0            0                0    1       2    4          1   \n3                0            1                0    2       1    3          5   \n4                0            1                0    1       2    4          4   \n..             ...          ...              ...  ...     ...  ...        ...   \n206              0            0                1    1       4    4          3   \n207              0            1                0    2       1    2          3   \n208              0            0                0    2       1    2          3   \n209              0            1                0    2       3    4          3   \n210              0            1                0    2       2    2          3   \n\n     score_progress  score_intention  vote  parties  \n0                 2              4.0     1        2  \n1                 4              3.0     0        3  \n2                 3              2.8     1        4  \n3                 4              2.6     1        1  \n4                 3              2.4     1        1  \n..              ...              ...   ...      ...  \n206               3              1.8     1        2  \n207               4              2.6     1        4  \n208               3              2.6     1        2  \n209               2              4.0     1        4  \n210               3              3.8     1        2  \n\n[211 rows x 15 columns]",
      "text/html": "<div>\n<style scoped>\n    .dataframe tbody tr th:only-of-type {\n        vertical-align: middle;\n    }\n\n    .dataframe tbody tr th {\n        vertical-align: top;\n    }\n\n    .dataframe thead th {\n        text-align: right;\n    }\n</style>\n<table border=\"1\" class=\"dataframe\">\n  <thead>\n    <tr style=\"text-align: right;\">\n      <th></th>\n      <th>gender_female</th>\n      <th>gender_male</th>\n      <th>region_Chungcheung</th>\n      <th>region_Honam</th>\n      <th>region_Others</th>\n      <th>region_Sudo</th>\n      <th>region_Youngnam</th>\n      <th>edu</th>\n      <th>income</th>\n      <th>age</th>\n      <th>score_gov</th>\n      <th>score_progress</th>\n      <th>score_intention</th>\n      <th>vote</th>\n      <th>parties</th>\n    </tr>\n  </thead>\n  <tbody>\n    <tr>\n      <th>0</th>\n      <td>0</td>\n      <td>1</td>\n      <td>0</td>\n      <td>0</td>\n      <td>0</td>\n      <td>0</td>\n      <td>1</td>\n      <td>3</td>\n      <td>3</td>\n      <td>3</td>\n      <td>2</td>\n      <td>2</td>\n      <td>4.0</td>\n      <td>1</td>\n      <td>2</td>\n    </tr>\n    <tr>\n      <th>1</th>\n      <td>0</td>\n      <td>1</td>\n      <td>0</td>\n      <td>0</td>\n      <td>1</td>\n      <td>0</td>\n      <td>0</td>\n      <td>2</td>\n      <td>3</td>\n      <td>3</td>\n      <td>2</td>\n      <td>4</td>\n      <td>3.0</td>\n      <td>0</td>\n      <td>3</td>\n    </tr>\n    <tr>\n      <th>2</th>\n      <td>0</td>\n      <td>1</td>\n      <td>0</td>\n      <td>1</td>\n      <td>0</td>\n      <td>0</td>\n      <td>0</td>\n      <td>1</td>\n      <td>2</td>\n      <td>4</td>\n      <td>1</td>\n      <td>3</td>\n      <td>2.8</td>\n      <td>1</td>\n      <td>4</td>\n    </tr>\n    <tr>\n      <th>3</th>\n      <td>1</td>\n      <td>0</td>\n      <td>0</td>\n      <td>0</td>\n      <td>0</td>\n      <td>1</td>\n      <td>0</td>\n      <td>2</td>\n      <td>1</td>\n      <td>3</td>\n      <td>5</td>\n      <td>4</td>\n      <td>2.6</td>\n      <td>1</td>\n      <td>1</td>\n    </tr>\n    <tr>\n      <th>4</th>\n      <td>0</td>\n      <td>1</td>\n      <td>0</td>\n      <td>0</td>\n      <td>0</td>\n      <td>1</td>\n      <td>0</td>\n      <td>1</td>\n      <td>2</td>\n      <td>4</td>\n      <td>4</td>\n      <td>3</td>\n      <td>2.4</td>\n      <td>1</td>\n      <td>1</td>\n    </tr>\n    <tr>\n      <th>...</th>\n      <td>...</td>\n      <td>...</td>\n      <td>...</td>\n      <td>...</td>\n      <td>...</td>\n      <td>...</td>\n      <td>...</td>\n      <td>...</td>\n      <td>...</td>\n      <td>...</td>\n      <td>...</td>\n      <td>...</td>\n      <td>...</td>\n      <td>...</td>\n      <td>...</td>\n    </tr>\n    <tr>\n      <th>206</th>\n      <td>0</td>\n      <td>1</td>\n      <td>0</td>\n      <td>0</td>\n      <td>0</td>\n      <td>0</td>\n      <td>1</td>\n      <td>1</td>\n      <td>4</td>\n      <td>4</td>\n      <td>3</td>\n      <td>3</td>\n      <td>1.8</td>\n      <td>1</td>\n      <td>2</td>\n    </tr>\n    <tr>\n      <th>207</th>\n      <td>0</td>\n      <td>1</td>\n      <td>0</td>\n      <td>0</td>\n      <td>0</td>\n      <td>1</td>\n      <td>0</td>\n      <td>2</td>\n      <td>1</td>\n      <td>2</td>\n      <td>3</td>\n      <td>4</td>\n      <td>2.6</td>\n      <td>1</td>\n      <td>4</td>\n    </tr>\n    <tr>\n      <th>208</th>\n      <td>0</td>\n      <td>1</td>\n      <td>1</td>\n      <td>0</td>\n      <td>0</td>\n      <td>0</td>\n      <td>0</td>\n      <td>2</td>\n      <td>1</td>\n      <td>2</td>\n      <td>3</td>\n      <td>3</td>\n      <td>2.6</td>\n      <td>1</td>\n      <td>2</td>\n    </tr>\n    <tr>\n      <th>209</th>\n      <td>0</td>\n      <td>1</td>\n      <td>0</td>\n      <td>0</td>\n      <td>0</td>\n      <td>1</td>\n      <td>0</td>\n      <td>2</td>\n      <td>3</td>\n      <td>4</td>\n      <td>3</td>\n      <td>2</td>\n      <td>4.0</td>\n      <td>1</td>\n      <td>4</td>\n    </tr>\n    <tr>\n      <th>210</th>\n      <td>1</td>\n      <td>0</td>\n      <td>0</td>\n      <td>0</td>\n      <td>0</td>\n      <td>1</td>\n      <td>0</td>\n      <td>2</td>\n      <td>2</td>\n      <td>2</td>\n      <td>3</td>\n      <td>3</td>\n      <td>3.8</td>\n      <td>1</td>\n      <td>2</td>\n    </tr>\n  </tbody>\n</table>\n<p>211 rows × 15 columns</p>\n</div>"
     },
     "execution_count": 6,
     "metadata": {},
     "output_type": "execute_result"
    }
   ],
   "source": [
    "data"
   ],
   "metadata": {
    "collapsed": false,
    "pycharm": {
     "name": "#%%\n"
    }
   }
  },
  {
   "cell_type": "code",
   "execution_count": 7,
   "outputs": [],
   "source": [
    "X=data[data.columns[1:13]]\n",
    "y=data[['vote']]"
   ],
   "metadata": {
    "collapsed": false,
    "pycharm": {
     "name": "#%%\n"
    }
   }
  },
  {
   "cell_type": "code",
   "execution_count": 8,
   "outputs": [],
   "source": [
    "from sklearn.model_selection import train_test_split\n",
    "X_train, X_test, y_train, y_test=train_test_split(X, y, stratify=y, random_state=42 )"
   ],
   "metadata": {
    "collapsed": false,
    "pycharm": {
     "name": "#%%\n"
    }
   }
  },
  {
   "cell_type": "markdown",
   "source": [
    "## 8-2. Grid Search"
   ],
   "metadata": {
    "collapsed": false
   }
  },
  {
   "cell_type": "code",
   "execution_count": 9,
   "outputs": [],
   "source": [
    "from sklearn.linear_model import LogisticRegression\n",
    "from sklearn.model_selection import GridSearchCV\n",
    "# print(help(LogisticRegression))\n",
    "param_grid ={'C':[0.001, 0.01, 0.1, 1, 10, 100]}"
   ],
   "metadata": {
    "collapsed": false,
    "pycharm": {
     "name": "#%%\n"
    }
   }
  },
  {
   "cell_type": "code",
   "execution_count": 10,
   "outputs": [
    {
     "data": {
      "text/plain": "GridSearchCV(cv=5, estimator=LogisticRegression(),\n             param_grid={'C': [0.001, 0.01, 0.1, 1, 10, 100]},\n             return_train_score=True)"
     },
     "execution_count": 10,
     "metadata": {},
     "output_type": "execute_result"
    }
   ],
   "source": [
    "grid_search =GridSearchCV(LogisticRegression(),param_grid, cv=5, return_train_score= True)\n",
    "grid_search.fit(X_train,y_train)"
   ],
   "metadata": {
    "collapsed": false,
    "pycharm": {
     "name": "#%%\n"
    }
   }
  },
  {
   "cell_type": "code",
   "execution_count": 11,
   "outputs": [
    {
     "data": {
      "text/plain": "   mean_fit_time  std_fit_time  mean_score_time  std_score_time param_C  \\\n0       0.004802      0.001157         0.001594        0.000486   0.001   \n1       0.005010      0.001104         0.001602        0.000493    0.01   \n2       0.007195      0.000744         0.001388        0.000489     0.1   \n3       0.009794      0.001171         0.001408        0.000500       1   \n4       0.011797      0.001722         0.001190        0.000399      10   \n5       0.013803      0.001321         0.001000        0.000002     100   \n\n         params  split0_test_score  split1_test_score  split2_test_score  \\\n0  {'C': 0.001}            0.68750            0.71875            0.71875   \n1   {'C': 0.01}            0.68750            0.71875            0.71875   \n2    {'C': 0.1}            0.71875            0.71875            0.71875   \n3      {'C': 1}            0.71875            0.68750            0.78125   \n4     {'C': 10}            0.75000            0.68750            0.81250   \n5    {'C': 100}            0.75000            0.68750            0.81250   \n\n   split3_test_score  split4_test_score  mean_test_score  std_test_score  \\\n0           0.709677           0.709677         0.708871        0.011430   \n1           0.709677           0.709677         0.708871        0.011430   \n2           0.677419           0.774194         0.721573        0.030797   \n3           0.580645           0.806452         0.714919        0.079466   \n4           0.580645           0.806452         0.727419        0.086175   \n5           0.580645           0.806452         0.727419        0.086175   \n\n   rank_test_score  split0_train_score  split1_train_score  \\\n0                5            0.714286            0.706349   \n1                5            0.714286            0.706349   \n2                3            0.738095            0.746032   \n3                4            0.738095            0.793651   \n4                1            0.746032            0.769841   \n5                1            0.746032            0.769841   \n\n   split2_train_score  split3_train_score  split4_train_score  \\\n0            0.706349            0.708661            0.708661   \n1            0.706349            0.708661            0.708661   \n2            0.738095            0.740157            0.716535   \n3            0.730159            0.763780            0.724409   \n4            0.730159            0.779528            0.724409   \n5            0.730159            0.771654            0.724409   \n\n   mean_train_score  std_train_score  \n0          0.708861         0.002903  \n1          0.708861         0.002903  \n2          0.735783         0.010053  \n3          0.750019         0.025634  \n4          0.749994         0.021586  \n5          0.748419         0.019567  ",
      "text/html": "<div>\n<style scoped>\n    .dataframe tbody tr th:only-of-type {\n        vertical-align: middle;\n    }\n\n    .dataframe tbody tr th {\n        vertical-align: top;\n    }\n\n    .dataframe thead th {\n        text-align: right;\n    }\n</style>\n<table border=\"1\" class=\"dataframe\">\n  <thead>\n    <tr style=\"text-align: right;\">\n      <th></th>\n      <th>mean_fit_time</th>\n      <th>std_fit_time</th>\n      <th>mean_score_time</th>\n      <th>std_score_time</th>\n      <th>param_C</th>\n      <th>params</th>\n      <th>split0_test_score</th>\n      <th>split1_test_score</th>\n      <th>split2_test_score</th>\n      <th>split3_test_score</th>\n      <th>split4_test_score</th>\n      <th>mean_test_score</th>\n      <th>std_test_score</th>\n      <th>rank_test_score</th>\n      <th>split0_train_score</th>\n      <th>split1_train_score</th>\n      <th>split2_train_score</th>\n      <th>split3_train_score</th>\n      <th>split4_train_score</th>\n      <th>mean_train_score</th>\n      <th>std_train_score</th>\n    </tr>\n  </thead>\n  <tbody>\n    <tr>\n      <th>0</th>\n      <td>0.004802</td>\n      <td>0.001157</td>\n      <td>0.001594</td>\n      <td>0.000486</td>\n      <td>0.001</td>\n      <td>{'C': 0.001}</td>\n      <td>0.68750</td>\n      <td>0.71875</td>\n      <td>0.71875</td>\n      <td>0.709677</td>\n      <td>0.709677</td>\n      <td>0.708871</td>\n      <td>0.011430</td>\n      <td>5</td>\n      <td>0.714286</td>\n      <td>0.706349</td>\n      <td>0.706349</td>\n      <td>0.708661</td>\n      <td>0.708661</td>\n      <td>0.708861</td>\n      <td>0.002903</td>\n    </tr>\n    <tr>\n      <th>1</th>\n      <td>0.005010</td>\n      <td>0.001104</td>\n      <td>0.001602</td>\n      <td>0.000493</td>\n      <td>0.01</td>\n      <td>{'C': 0.01}</td>\n      <td>0.68750</td>\n      <td>0.71875</td>\n      <td>0.71875</td>\n      <td>0.709677</td>\n      <td>0.709677</td>\n      <td>0.708871</td>\n      <td>0.011430</td>\n      <td>5</td>\n      <td>0.714286</td>\n      <td>0.706349</td>\n      <td>0.706349</td>\n      <td>0.708661</td>\n      <td>0.708661</td>\n      <td>0.708861</td>\n      <td>0.002903</td>\n    </tr>\n    <tr>\n      <th>2</th>\n      <td>0.007195</td>\n      <td>0.000744</td>\n      <td>0.001388</td>\n      <td>0.000489</td>\n      <td>0.1</td>\n      <td>{'C': 0.1}</td>\n      <td>0.71875</td>\n      <td>0.71875</td>\n      <td>0.71875</td>\n      <td>0.677419</td>\n      <td>0.774194</td>\n      <td>0.721573</td>\n      <td>0.030797</td>\n      <td>3</td>\n      <td>0.738095</td>\n      <td>0.746032</td>\n      <td>0.738095</td>\n      <td>0.740157</td>\n      <td>0.716535</td>\n      <td>0.735783</td>\n      <td>0.010053</td>\n    </tr>\n    <tr>\n      <th>3</th>\n      <td>0.009794</td>\n      <td>0.001171</td>\n      <td>0.001408</td>\n      <td>0.000500</td>\n      <td>1</td>\n      <td>{'C': 1}</td>\n      <td>0.71875</td>\n      <td>0.68750</td>\n      <td>0.78125</td>\n      <td>0.580645</td>\n      <td>0.806452</td>\n      <td>0.714919</td>\n      <td>0.079466</td>\n      <td>4</td>\n      <td>0.738095</td>\n      <td>0.793651</td>\n      <td>0.730159</td>\n      <td>0.763780</td>\n      <td>0.724409</td>\n      <td>0.750019</td>\n      <td>0.025634</td>\n    </tr>\n    <tr>\n      <th>4</th>\n      <td>0.011797</td>\n      <td>0.001722</td>\n      <td>0.001190</td>\n      <td>0.000399</td>\n      <td>10</td>\n      <td>{'C': 10}</td>\n      <td>0.75000</td>\n      <td>0.68750</td>\n      <td>0.81250</td>\n      <td>0.580645</td>\n      <td>0.806452</td>\n      <td>0.727419</td>\n      <td>0.086175</td>\n      <td>1</td>\n      <td>0.746032</td>\n      <td>0.769841</td>\n      <td>0.730159</td>\n      <td>0.779528</td>\n      <td>0.724409</td>\n      <td>0.749994</td>\n      <td>0.021586</td>\n    </tr>\n    <tr>\n      <th>5</th>\n      <td>0.013803</td>\n      <td>0.001321</td>\n      <td>0.001000</td>\n      <td>0.000002</td>\n      <td>100</td>\n      <td>{'C': 100}</td>\n      <td>0.75000</td>\n      <td>0.68750</td>\n      <td>0.81250</td>\n      <td>0.580645</td>\n      <td>0.806452</td>\n      <td>0.727419</td>\n      <td>0.086175</td>\n      <td>1</td>\n      <td>0.746032</td>\n      <td>0.769841</td>\n      <td>0.730159</td>\n      <td>0.771654</td>\n      <td>0.724409</td>\n      <td>0.748419</td>\n      <td>0.019567</td>\n    </tr>\n  </tbody>\n</table>\n</div>"
     },
     "execution_count": 11,
     "metadata": {},
     "output_type": "execute_result"
    }
   ],
   "source": [
    "# 그리드서치 하이퍼파라미터별 상세 결과값\n",
    "# cv_results_\n",
    "result_grid= pd.DataFrame(grid_search.cv_results_)\n",
    "result_grid"
   ],
   "metadata": {
    "collapsed": false,
    "pycharm": {
     "name": "#%%\n"
    }
   }
  },
  {
   "cell_type": "code",
   "execution_count": 12,
   "outputs": [
    {
     "data": {
      "text/plain": "<function matplotlib.pyplot.legend(*args, **kwargs)>"
     },
     "execution_count": 12,
     "metadata": {},
     "output_type": "execute_result"
    },
    {
     "data": {
      "text/plain": "<Figure size 432x288 with 1 Axes>",
      "image/png": "[encoded data removed]"
     },
     "metadata": {
      "needs_background": "light"
     },
     "output_type": "display_data"
    }
   ],
   "source": [
    "# 하이퍼파리미터(C)값에 따른 훈련데이터와 테스트데이터의 정확도(accuracy) 그래프\n",
    "import matplotlib.pyplot as plt\n",
    "plt.plot(result_grid['param_C'], result_grid['mean_train_score'],label ='Train')\n",
    "plt.plot(result_grid['param_C'], result_grid['mean_test_score'],label='Test')\n",
    "plt.legend"
   ],
   "metadata": {
    "collapsed": false,
    "pycharm": {
     "name": "#%%\n"
    }
   }
  },
  {
   "cell_type": "markdown",
   "source": [
    "## 8-3. Random Search"
   ],
   "metadata": {
    "collapsed": false
   }
  },
  {
   "cell_type": "code",
   "execution_count": 13,
   "outputs": [],
   "source": [
    "from sklearn.model_selection import RandomizedSearchCV\n",
    "from scipy.stats import randint\n",
    "param_distrib={'C': randint(low=0.001, high=100)}"
   ],
   "metadata": {
    "collapsed": false,
    "pycharm": {
     "name": "#%%\n"
    }
   }
  },
  {
   "cell_type": "code",
   "execution_count": 14,
   "outputs": [],
   "source": [
    "from sklearn.linear_model import LogisticRegression"
   ],
   "metadata": {
    "collapsed": false,
    "pycharm": {
     "name": "#%%\n"
    }
   }
  },
  {
   "cell_type": "code",
   "execution_count": 16,
   "outputs": [
    {
     "data": {
      "text/plain": "RandomizedSearchCV(cv=5, estimator=LogisticRegression(),\n                   param_distributions={'C': <scipy.stats._distn_infrastructure.rv_frozen object at 0x000002240FA35970>},\n                   return_train_score=True)"
     },
     "execution_count": 16,
     "metadata": {},
     "output_type": "execute_result"
    }
   ],
   "source": [
    "random_search =RandomizedSearchCV(LogisticRegression(),\n",
    "                                  param_distributions=param_distrib,\n",
    "                                  cv =5,\n",
    "                                  return_train_score=True)\n",
    "random_search.fit(X_train,y_train)"
   ],
   "metadata": {
    "collapsed": false,
    "pycharm": {
     "name": "#%%\n"
    }
   }
  },
  {
   "cell_type": "code",
   "execution_count": 24,
   "outputs": [
    {
     "name": "stdout",
     "output_type": "stream",
     "text": [
      "best_hyparam:{'C': 35}\n",
      "best Cross_validity_score:0.727\n"
     ]
    }
   ],
   "source": [
    "print(\"best_hyparam:{}\".format(random_search.best_params_))\n",
    "print(\"best Cross_validity_score:{:.3f}\".format(random_search.best_score_))"
   ],
   "metadata": {
    "collapsed": false,
    "pycharm": {
     "name": "#%%\n"
    }
   }
  },
  {
   "cell_type": "code",
   "execution_count": 18,
   "outputs": [
    {
     "name": "stdout",
     "output_type": "stream",
     "text": [
      "test:0.6792452830188679\n"
     ]
    }
   ],
   "source": [
    "print(\"test:{}\".format(random_search.score(X_test,y_test)))"
   ],
   "metadata": {
    "collapsed": false,
    "pycharm": {
     "name": "#%%\n"
    }
   }
  },
  {
   "cell_type": "code",
   "execution_count": 22,
   "outputs": [],
   "source": [
    "result_random = random_search.cv_results_\n",
    "result_random= pd.DataFrame(result_random)"
   ],
   "metadata": {
    "collapsed": false,
    "pycharm": {
     "name": "#%%\n"
    }
   }
  },
  {
   "cell_type": "code",
   "execution_count": 23,
   "outputs": [
    {
     "data": {
      "text/plain": "<matplotlib.legend.Legend at 0x224120c1be0>"
     },
     "execution_count": 23,
     "metadata": {},
     "output_type": "execute_result"
    },
    {
     "data": {
      "text/plain": "<Figure size 432x288 with 1 Axes>",
      "image/png": "[encoded data removed]"
     },
     "metadata": {
      "needs_background": "light"
     },
     "output_type": "display_data"
    }
   ],
   "source": [
    "import matplotlib.pyplot as plt\n",
    "plt.plot(result_random['param_C'], result_random['mean_train_score'], label='Train')\n",
    "plt.plot(result_random['param_C'], result_random['mean_test_score'], label='Test')\n",
    "plt.legend()"
   ],
   "metadata": {
    "collapsed": false,
    "pycharm": {
     "name": "#%%\n"
    }
   }
  },
  {
   "cell_type": "markdown",
   "source": [
    "## 8-4. 모델평가"
   ],
   "metadata": {
    "collapsed": false,
    "pycharm": {
     "name": "#%% md\n"
    }
   }
  },
  {
   "cell_type": "code",
   "execution_count": 25,
   "outputs": [
    {
     "data": {
      "text/plain": "LogisticRegression(C=35)"
     },
     "execution_count": 25,
     "metadata": {},
     "output_type": "execute_result"
    }
   ],
   "source": [
    "# 모델탐색 결과, 최적의 하이퍼파리미터 결정 및 적용\n",
    "final_model =LogisticRegression(C=35)\n",
    "final_model.fit(X_train,y_train)"
   ],
   "metadata": {
    "collapsed": false,
    "pycharm": {
     "name": "#%%\n"
    }
   }
  },
  {
   "cell_type": "code",
   "execution_count": 26,
   "outputs": [
    {
     "data": {
      "text/plain": "0.740506329113924"
     },
     "execution_count": 26,
     "metadata": {},
     "output_type": "execute_result"
    }
   ],
   "source": [
    "# 훈련데이터의 정확도(accuracy) 결과\n",
    "pred_train = final_model.predict(X_train)\n",
    "final_model.score(X_train,y_train)"
   ],
   "metadata": {
    "collapsed": false,
    "pycharm": {
     "name": "#%%\n"
    }
   }
  },
  {
   "cell_type": "code",
   "execution_count": 28,
   "outputs": [
    {
     "data": {
      "text/plain": "0.6792452830188679"
     },
     "execution_count": 28,
     "metadata": {},
     "output_type": "execute_result"
    }
   ],
   "source": [
    "# 테스트데이터의 정확도(accuracy) 결과\n",
    "pred_test = final_model.predict(X_test)\n",
    "final_model.score(X_test,y_test)"
   ],
   "metadata": {
    "collapsed": false,
    "pycharm": {
     "name": "#%%\n"
    }
   }
  },
  {
   "cell_type": "code",
   "execution_count": 39,
   "outputs": [
    {
     "name": "stdout",
     "output_type": "stream",
     "text": [
      "[[ 12  34]\n",
      " [  7 105]]\n"
     ]
    }
   ],
   "source": [
    "# 훈련데이터의 혼동행렬\n",
    "from sklearn.metrics import confusion_matrix\n",
    "\n",
    "confusion_train =confusion_matrix(y_train, pred_train)\n",
    "# print(help(confusion_matrix))\n",
    "print(confusion_train)\n"
   ],
   "metadata": {
    "collapsed": false,
    "pycharm": {
     "name": "#%%\n"
    }
   }
  },
  {
   "cell_type": "code",
   "execution_count": 40,
   "outputs": [
    {
     "name": "stdout",
     "output_type": "stream",
     "text": [
      "분류예측 레포트: \n",
      "               precision    recall  f1-score   support\n",
      "\n",
      "           0       0.63      0.26      0.37        46\n",
      "           1       0.76      0.94      0.84       112\n",
      "\n",
      "    accuracy                           0.74       158\n",
      "   macro avg       0.69      0.60      0.60       158\n",
      "weighted avg       0.72      0.74      0.70       158\n",
      "\n"
     ]
    }
   ],
   "source": [
    "# 훈련데이터의 분류 모델 평가 결과\n",
    "from sklearn.metrics import classification_report\n",
    "cf_report_train = classification_report(y_train, pred_train)\n",
    "print(\"분류예측 레포트: \\n\", cf_report_train)"
   ],
   "metadata": {
    "collapsed": false,
    "pycharm": {
     "name": "#%%\n"
    }
   }
  },
  {
   "cell_type": "code",
   "execution_count": 41,
   "outputs": [
    {
     "name": "stdout",
     "output_type": "stream",
     "text": [
      "분류예측 레프트: \n",
      "               precision    recall  f1-score   support\n",
      "\n",
      "           0       0.38      0.20      0.26        15\n",
      "           1       0.73      0.87      0.80        38\n",
      "\n",
      "    accuracy                           0.68        53\n",
      "   macro avg       0.55      0.53      0.53        53\n",
      "weighted avg       0.63      0.68      0.64        53\n",
      "\n"
     ]
    }
   ],
   "source": [
    "# 테스트 데이터 분류모델 평가 결과\n",
    "from sklearn.metrics import classification_report\n",
    "cf_report_test = classification_report(y_test, pred_test)\n",
    "print(\"분류예측 레프트: \\n\", cf_report_test)"
   ],
   "metadata": {
    "collapsed": false,
    "pycharm": {
     "name": "#%%\n"
    }
   }
  },
  {
   "cell_type": "code",
   "execution_count": 47,
   "outputs": [],
   "source": [
    "# ROC 계산을 위한 라이브러리 및 산출식\n",
    "from sklearn.metrics import roc_curve, auc\n",
    "from sklearn import metrics\n",
    "false_positive_rate, true_positive_rate, thresholds = roc_curve(y_test, final_model.decision_function(X_test))\n",
    "roc_auc = metrics.roc_auc_score(y_test, final_model.decision_function(X_test))"
   ],
   "metadata": {
    "collapsed": false,
    "pycharm": {
     "name": "#%%\n"
    }
   }
  },
  {
   "cell_type": "code",
   "execution_count": 48,
   "outputs": [
    {
     "name": "stdout",
     "output_type": "stream",
     "text": [
      "0.6350877192982456\n"
     ]
    }
   ],
   "source": [
    "print(roc_auc)"
   ],
   "metadata": {
    "collapsed": false,
    "pycharm": {
     "name": "#%%\n"
    }
   }
  },
  {
   "cell_type": "code",
   "execution_count": null,
   "outputs": [],
   "source": [],
   "metadata": {
    "collapsed": false,
    "pycharm": {
     "name": "#%%\n"
    }
   }
  }
 ],
 "metadata": {
  "kernelspec": {
   "display_name": "Python 3",
   "language": "python",
   "name": "python3"
  },
  "language_info": {
   "codemirror_mode": {
    "name": "ipython",
    "version": 2
   },
   "file_extension": ".py",
   "mimetype": "text/x-python",
   "name": "python",
   "nbconvert_exporter": "python",
   "pygments_lexer": "ipython2",
   "version": "2.7.6"
  }
 },
 "nbformat": 4,
 "nbformat_minor": 0
}