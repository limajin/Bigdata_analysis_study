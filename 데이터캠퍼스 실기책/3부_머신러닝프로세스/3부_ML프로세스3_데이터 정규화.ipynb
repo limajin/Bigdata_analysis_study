{
 "cells": [
  {
   "cell_type": "markdown",
   "metadata": {
    "collapsed": true,
    "pycharm": {
     "name": "#%% md\n"
    }
   },
   "source": [
    "# 6. 머신러닝 프로세스3: 데이터 정규화"
   ]
  },
  {
   "cell_type": "markdown",
   "source": [
    "## 6-1. 데이터 불러오기 및 확인"
   ],
   "metadata": {
    "collapsed": false
   }
  },
  {
   "cell_type": "code",
   "execution_count": 2,
   "outputs": [
    {
     "data": {
      "text/plain": "     gender_female  gender_male  region_Chungcheung  region_Honam  \\\n0                0            1                   0             0   \n1                0            1                   0             0   \n2                0            1                   0             1   \n3                1            0                   0             0   \n4                0            1                   0             0   \n..             ...          ...                 ...           ...   \n206              0            1                   0             0   \n207              0            1                   0             0   \n208              0            1                   1             0   \n209              0            1                   0             0   \n210              1            0                   0             0   \n\n     region_Others  region_Sudo  region_Youngnam  edu  income  age  score_gov  \\\n0                0            0                1    3       3    3          2   \n1                1            0                0    2       3    3          2   \n2                0            0                0    1       2    4          1   \n3                0            1                0    2       1    3          5   \n4                0            1                0    1       2    4          4   \n..             ...          ...              ...  ...     ...  ...        ...   \n206              0            0                1    1       4    4          3   \n207              0            1                0    2       1    2          3   \n208              0            0                0    2       1    2          3   \n209              0            1                0    2       3    4          3   \n210              0            1                0    2       2    2          3   \n\n     score_progress  score_intention  vote  parties  \n0                 2              4.0     1        2  \n1                 4              3.0     0        3  \n2                 3              2.8     1        4  \n3                 4              2.6     1        1  \n4                 3              2.4     1        1  \n..              ...              ...   ...      ...  \n206               3              1.8     1        2  \n207               4              2.6     1        4  \n208               3              2.6     1        2  \n209               2              4.0     1        4  \n210               3              3.8     1        2  \n\n[211 rows x 15 columns]",
      "text/html": "<div>\n<style scoped>\n    .dataframe tbody tr th:only-of-type {\n        vertical-align: middle;\n    }\n\n    .dataframe tbody tr th {\n        vertical-align: top;\n    }\n\n    .dataframe thead th {\n        text-align: right;\n    }\n</style>\n<table border=\"1\" class=\"dataframe\">\n  <thead>\n    <tr style=\"text-align: right;\">\n      <th></th>\n      <th>gender_female</th>\n      <th>gender_male</th>\n      <th>region_Chungcheung</th>\n      <th>region_Honam</th>\n      <th>region_Others</th>\n      <th>region_Sudo</th>\n      <th>region_Youngnam</th>\n      <th>edu</th>\n      <th>income</th>\n      <th>age</th>\n      <th>score_gov</th>\n      <th>score_progress</th>\n      <th>score_intention</th>\n      <th>vote</th>\n      <th>parties</th>\n    </tr>\n  </thead>\n  <tbody>\n    <tr>\n      <th>0</th>\n      <td>0</td>\n      <td>1</td>\n      <td>0</td>\n      <td>0</td>\n      <td>0</td>\n      <td>0</td>\n      <td>1</td>\n      <td>3</td>\n      <td>3</td>\n      <td>3</td>\n      <td>2</td>\n      <td>2</td>\n      <td>4.0</td>\n      <td>1</td>\n      <td>2</td>\n    </tr>\n    <tr>\n      <th>1</th>\n      <td>0</td>\n      <td>1</td>\n      <td>0</td>\n      <td>0</td>\n      <td>1</td>\n      <td>0</td>\n      <td>0</td>\n      <td>2</td>\n      <td>3</td>\n      <td>3</td>\n      <td>2</td>\n      <td>4</td>\n      <td>3.0</td>\n      <td>0</td>\n      <td>3</td>\n    </tr>\n    <tr>\n      <th>2</th>\n      <td>0</td>\n      <td>1</td>\n      <td>0</td>\n      <td>1</td>\n      <td>0</td>\n      <td>0</td>\n      <td>0</td>\n      <td>1</td>\n      <td>2</td>\n      <td>4</td>\n      <td>1</td>\n      <td>3</td>\n      <td>2.8</td>\n      <td>1</td>\n      <td>4</td>\n    </tr>\n    <tr>\n      <th>3</th>\n      <td>1</td>\n      <td>0</td>\n      <td>0</td>\n      <td>0</td>\n      <td>0</td>\n      <td>1</td>\n      <td>0</td>\n      <td>2</td>\n      <td>1</td>\n      <td>3</td>\n      <td>5</td>\n      <td>4</td>\n      <td>2.6</td>\n      <td>1</td>\n      <td>1</td>\n    </tr>\n    <tr>\n      <th>4</th>\n      <td>0</td>\n      <td>1</td>\n      <td>0</td>\n      <td>0</td>\n      <td>0</td>\n      <td>1</td>\n      <td>0</td>\n      <td>1</td>\n      <td>2</td>\n      <td>4</td>\n      <td>4</td>\n      <td>3</td>\n      <td>2.4</td>\n      <td>1</td>\n      <td>1</td>\n    </tr>\n    <tr>\n      <th>...</th>\n      <td>...</td>\n      <td>...</td>\n      <td>...</td>\n      <td>...</td>\n      <td>...</td>\n      <td>...</td>\n      <td>...</td>\n      <td>...</td>\n      <td>...</td>\n      <td>...</td>\n      <td>...</td>\n      <td>...</td>\n      <td>...</td>\n      <td>...</td>\n      <td>...</td>\n    </tr>\n    <tr>\n      <th>206</th>\n      <td>0</td>\n      <td>1</td>\n      <td>0</td>\n      <td>0</td>\n      <td>0</td>\n      <td>0</td>\n      <td>1</td>\n      <td>1</td>\n      <td>4</td>\n      <td>4</td>\n      <td>3</td>\n      <td>3</td>\n      <td>1.8</td>\n      <td>1</td>\n      <td>2</td>\n    </tr>\n    <tr>\n      <th>207</th>\n      <td>0</td>\n      <td>1</td>\n      <td>0</td>\n      <td>0</td>\n      <td>0</td>\n      <td>1</td>\n      <td>0</td>\n      <td>2</td>\n      <td>1</td>\n      <td>2</td>\n      <td>3</td>\n      <td>4</td>\n      <td>2.6</td>\n      <td>1</td>\n      <td>4</td>\n    </tr>\n    <tr>\n      <th>208</th>\n      <td>0</td>\n      <td>1</td>\n      <td>1</td>\n      <td>0</td>\n      <td>0</td>\n      <td>0</td>\n      <td>0</td>\n      <td>2</td>\n      <td>1</td>\n      <td>2</td>\n      <td>3</td>\n      <td>3</td>\n      <td>2.6</td>\n      <td>1</td>\n      <td>2</td>\n    </tr>\n    <tr>\n      <th>209</th>\n      <td>0</td>\n      <td>1</td>\n      <td>0</td>\n      <td>0</td>\n      <td>0</td>\n      <td>1</td>\n      <td>0</td>\n      <td>2</td>\n      <td>3</td>\n      <td>4</td>\n      <td>3</td>\n      <td>2</td>\n      <td>4.0</td>\n      <td>1</td>\n      <td>4</td>\n    </tr>\n    <tr>\n      <th>210</th>\n      <td>1</td>\n      <td>0</td>\n      <td>0</td>\n      <td>0</td>\n      <td>0</td>\n      <td>1</td>\n      <td>0</td>\n      <td>2</td>\n      <td>2</td>\n      <td>2</td>\n      <td>3</td>\n      <td>3</td>\n      <td>3.8</td>\n      <td>1</td>\n      <td>2</td>\n    </tr>\n  </tbody>\n</table>\n<p>211 rows × 15 columns</p>\n</div>"
     },
     "execution_count": 2,
     "metadata": {},
     "output_type": "execute_result"
    }
   ],
   "source": [
    "# 분석데이터(선거행동)을 불러와서 확인\n",
    "import pandas as pd\n",
    "data = pd.read_csv(\"../제공자료/Fvote.csv\",encoding='utf-8')\n",
    "data"
   ],
   "metadata": {
    "collapsed": false,
    "pycharm": {
     "name": "#%%\n"
    }
   }
  },
  {
   "cell_type": "code",
   "execution_count": 3,
   "outputs": [
    {
     "data": {
      "text/plain": "       gender_female  gender_male  region_Chungcheung  region_Honam  \\\ncount     211.000000   211.000000          211.000000    211.000000   \nmean        0.341232     0.658768            0.080569      0.090047   \nstd         0.475251     0.475251            0.272819      0.286930   \nmin         0.000000     0.000000            0.000000      0.000000   \n25%         0.000000     0.000000            0.000000      0.000000   \n50%         0.000000     1.000000            0.000000      0.000000   \n75%         1.000000     1.000000            0.000000      0.000000   \nmax         1.000000     1.000000            1.000000      1.000000   \n\n       region_Others  region_Sudo  region_Youngnam         edu      income  \\\ncount     211.000000   211.000000       211.000000  211.000000  211.000000   \nmean        0.094787     0.597156         0.137441    1.867299    2.208531   \nstd         0.293617     0.491636         0.345131    0.625963    1.066424   \nmin         0.000000     0.000000         0.000000    1.000000    1.000000   \n25%         0.000000     0.000000         0.000000    1.000000    1.000000   \n50%         0.000000     1.000000         0.000000    2.000000    2.000000   \n75%         0.000000     1.000000         0.000000    2.000000    3.000000   \nmax         1.000000     1.000000         1.000000    3.000000    4.000000   \n\n              age   score_gov  score_progress  score_intention        vote  \\\ncount  211.000000  211.000000      211.000000       211.000000  211.000000   \nmean     2.654028    3.056872        3.094787         2.910900    0.710900   \nstd      0.872173    0.944451        0.961408         0.725078    0.454422   \nmin      1.000000    1.000000        1.000000         1.000000    0.000000   \n25%      2.000000    3.000000        2.000000         2.400000    0.000000   \n50%      3.000000    3.000000        3.000000         3.000000    1.000000   \n75%      3.000000    4.000000        4.000000         3.400000    1.000000   \nmax      4.000000    5.000000        5.000000         5.000000    1.000000   \n\n          parties  \ncount  211.000000  \nmean     2.668246  \nstd      1.220416  \nmin      1.000000  \n25%      2.000000  \n50%      3.000000  \n75%      4.000000  \nmax      4.000000  ",
      "text/html": "<div>\n<style scoped>\n    .dataframe tbody tr th:only-of-type {\n        vertical-align: middle;\n    }\n\n    .dataframe tbody tr th {\n        vertical-align: top;\n    }\n\n    .dataframe thead th {\n        text-align: right;\n    }\n</style>\n<table border=\"1\" class=\"dataframe\">\n  <thead>\n    <tr style=\"text-align: right;\">\n      <th></th>\n      <th>gender_female</th>\n      <th>gender_male</th>\n      <th>region_Chungcheung</th>\n      <th>region_Honam</th>\n      <th>region_Others</th>\n      <th>region_Sudo</th>\n      <th>region_Youngnam</th>\n      <th>edu</th>\n      <th>income</th>\n      <th>age</th>\n      <th>score_gov</th>\n      <th>score_progress</th>\n      <th>score_intention</th>\n      <th>vote</th>\n      <th>parties</th>\n    </tr>\n  </thead>\n  <tbody>\n    <tr>\n      <th>count</th>\n      <td>211.000000</td>\n      <td>211.000000</td>\n      <td>211.000000</td>\n      <td>211.000000</td>\n      <td>211.000000</td>\n      <td>211.000000</td>\n      <td>211.000000</td>\n      <td>211.000000</td>\n      <td>211.000000</td>\n      <td>211.000000</td>\n      <td>211.000000</td>\n      <td>211.000000</td>\n      <td>211.000000</td>\n      <td>211.000000</td>\n      <td>211.000000</td>\n    </tr>\n    <tr>\n      <th>mean</th>\n      <td>0.341232</td>\n      <td>0.658768</td>\n      <td>0.080569</td>\n      <td>0.090047</td>\n      <td>0.094787</td>\n      <td>0.597156</td>\n      <td>0.137441</td>\n      <td>1.867299</td>\n      <td>2.208531</td>\n      <td>2.654028</td>\n      <td>3.056872</td>\n      <td>3.094787</td>\n      <td>2.910900</td>\n      <td>0.710900</td>\n      <td>2.668246</td>\n    </tr>\n    <tr>\n      <th>std</th>\n      <td>0.475251</td>\n      <td>0.475251</td>\n      <td>0.272819</td>\n      <td>0.286930</td>\n      <td>0.293617</td>\n      <td>0.491636</td>\n      <td>0.345131</td>\n      <td>0.625963</td>\n      <td>1.066424</td>\n      <td>0.872173</td>\n      <td>0.944451</td>\n      <td>0.961408</td>\n      <td>0.725078</td>\n      <td>0.454422</td>\n      <td>1.220416</td>\n    </tr>\n    <tr>\n      <th>min</th>\n      <td>0.000000</td>\n      <td>0.000000</td>\n      <td>0.000000</td>\n      <td>0.000000</td>\n      <td>0.000000</td>\n      <td>0.000000</td>\n      <td>0.000000</td>\n      <td>1.000000</td>\n      <td>1.000000</td>\n      <td>1.000000</td>\n      <td>1.000000</td>\n      <td>1.000000</td>\n      <td>1.000000</td>\n      <td>0.000000</td>\n      <td>1.000000</td>\n    </tr>\n    <tr>\n      <th>25%</th>\n      <td>0.000000</td>\n      <td>0.000000</td>\n      <td>0.000000</td>\n      <td>0.000000</td>\n      <td>0.000000</td>\n      <td>0.000000</td>\n      <td>0.000000</td>\n      <td>1.000000</td>\n      <td>1.000000</td>\n      <td>2.000000</td>\n      <td>3.000000</td>\n      <td>2.000000</td>\n      <td>2.400000</td>\n      <td>0.000000</td>\n      <td>2.000000</td>\n    </tr>\n    <tr>\n      <th>50%</th>\n      <td>0.000000</td>\n      <td>1.000000</td>\n      <td>0.000000</td>\n      <td>0.000000</td>\n      <td>0.000000</td>\n      <td>1.000000</td>\n      <td>0.000000</td>\n      <td>2.000000</td>\n      <td>2.000000</td>\n      <td>3.000000</td>\n      <td>3.000000</td>\n      <td>3.000000</td>\n      <td>3.000000</td>\n      <td>1.000000</td>\n      <td>3.000000</td>\n    </tr>\n    <tr>\n      <th>75%</th>\n      <td>1.000000</td>\n      <td>1.000000</td>\n      <td>0.000000</td>\n      <td>0.000000</td>\n      <td>0.000000</td>\n      <td>1.000000</td>\n      <td>0.000000</td>\n      <td>2.000000</td>\n      <td>3.000000</td>\n      <td>3.000000</td>\n      <td>4.000000</td>\n      <td>4.000000</td>\n      <td>3.400000</td>\n      <td>1.000000</td>\n      <td>4.000000</td>\n    </tr>\n    <tr>\n      <th>max</th>\n      <td>1.000000</td>\n      <td>1.000000</td>\n      <td>1.000000</td>\n      <td>1.000000</td>\n      <td>1.000000</td>\n      <td>1.000000</td>\n      <td>1.000000</td>\n      <td>3.000000</td>\n      <td>4.000000</td>\n      <td>4.000000</td>\n      <td>5.000000</td>\n      <td>5.000000</td>\n      <td>5.000000</td>\n      <td>1.000000</td>\n      <td>4.000000</td>\n    </tr>\n  </tbody>\n</table>\n</div>"
     },
     "execution_count": 3,
     "metadata": {},
     "output_type": "execute_result"
    }
   ],
   "source": [
    "data.describe()\n",
    "# 평균 편차 수준이 다름"
   ],
   "metadata": {
    "collapsed": false,
    "pycharm": {
     "name": "#%%\n"
    }
   }
  },
  {
   "cell_type": "code",
   "execution_count": 5,
   "outputs": [
    {
     "data": {
      "text/plain": "array([[<AxesSubplot:title={'center':'gender_female'}>,\n        <AxesSubplot:title={'center':'gender_male'}>,\n        <AxesSubplot:title={'center':'region_Chungcheung'}>,\n        <AxesSubplot:title={'center':'region_Honam'}>],\n       [<AxesSubplot:title={'center':'region_Others'}>,\n        <AxesSubplot:title={'center':'region_Sudo'}>,\n        <AxesSubplot:title={'center':'region_Youngnam'}>,\n        <AxesSubplot:title={'center':'edu'}>],\n       [<AxesSubplot:title={'center':'income'}>,\n        <AxesSubplot:title={'center':'age'}>,\n        <AxesSubplot:title={'center':'score_gov'}>,\n        <AxesSubplot:title={'center':'score_progress'}>],\n       [<AxesSubplot:title={'center':'score_intention'}>,\n        <AxesSubplot:title={'center':'vote'}>,\n        <AxesSubplot:title={'center':'parties'}>, <AxesSubplot:>]],\n      dtype=object)"
     },
     "execution_count": 5,
     "metadata": {},
     "output_type": "execute_result"
    },
    {
     "data": {
      "text/plain": "<Figure size 1440x1080 with 16 Axes>",
      "image/png": "[encoded data removed]"
     },
     "metadata": {
      "needs_background": "light"
     },
     "output_type": "display_data"
    }
   ],
   "source": [
    "# 연속성이 떨어지는 변수들이 대부분임\n",
    "data.hist(bins=50, figsize=(20,15))"
   ],
   "metadata": {
    "collapsed": false,
    "pycharm": {
     "name": "#%%\n"
    }
   }
  },
  {
   "cell_type": "markdown",
   "source": [
    "## 6-2. 특성(X)과 레이블(y) 나누기"
   ],
   "metadata": {
    "collapsed": false
   }
  },
  {
   "cell_type": "code",
   "execution_count": 11,
   "outputs": [],
   "source": [
    "X =data.iloc[:,:13]\n",
    "y=data[['vote']]"
   ],
   "metadata": {
    "collapsed": false,
    "pycharm": {
     "name": "#%%\n"
    }
   }
  },
  {
   "cell_type": "code",
   "execution_count": 12,
   "outputs": [
    {
     "name": "stdout",
     "output_type": "stream",
     "text": [
      "(211, 13)\n",
      "(211, 1)\n"
     ]
    }
   ],
   "source": [
    "print(X.shape)\n",
    "print(y.shape)"
   ],
   "metadata": {
    "collapsed": false,
    "pycharm": {
     "name": "#%%\n"
    }
   }
  },
  {
   "cell_type": "markdown",
   "source": [
    "## 6-3. train-test 데이터셋 나누기"
   ],
   "metadata": {
    "collapsed": false,
    "pycharm": {
     "name": "#%% md\n"
    }
   }
  },
  {
   "cell_type": "code",
   "execution_count": 13,
   "outputs": [],
   "source": [
    "# 레이블이 범주형일 경우 straity 옵션 추천\n",
    "from sklearn.model_selection import train_test_split\n",
    "X_train, X_test, y_train, y_test = train_test_split(X, y ,stratify = y, random_state =42)"
   ],
   "metadata": {
    "collapsed": false,
    "pycharm": {
     "name": "#%%\n"
    }
   }
  },
  {
   "cell_type": "code",
   "execution_count": 15,
   "outputs": [
    {
     "name": "stdout",
     "output_type": "stream",
     "text": [
      "vote    0.708861\n",
      "dtype: float64\n",
      "vote    0.716981\n",
      "dtype: float64\n"
     ]
    }
   ],
   "source": [
    "# 학습데이터와 테스트데이터의 0/1 비율이 유사한지 평균으로 확인(stratity 옵션 적용시 유사)\n",
    "print(y_train.mean())\n",
    "print(y_test.mean())"
   ],
   "metadata": {
    "collapsed": false,
    "pycharm": {
     "name": "#%%\n"
    }
   }
  },
  {
   "cell_type": "markdown",
   "source": [
    "## 6-4. 연속형 특성의 정규화"
   ],
   "metadata": {
    "collapsed": false,
    "pycharm": {
     "name": "#%% md\n"
    }
   }
  },
  {
   "cell_type": "markdown",
   "source": [
    "### 가. Min-Max 정규화"
   ],
   "metadata": {
    "collapsed": false
   }
  },
  {
   "cell_type": "code",
   "execution_count": 16,
   "outputs": [],
   "source": [
    "# 특성치(X)의 단위 정규화를 위한 라이브러리 블러오기(min-max)\n",
    "from sklearn.preprocessing import MinMaxScaler\n",
    "scaler_minmax = MinMaxScaler()\n"
   ],
   "metadata": {
    "collapsed": false,
    "pycharm": {
     "name": "#%%\n"
    }
   }
  },
  {
   "cell_type": "code",
   "execution_count": 17,
   "outputs": [],
   "source": [
    "# 주의!: fit은 학습데이터로 해야, 나중에 test 데이터 정규화시 train 데이터의 최대-최소 기준이 적용됨\n",
    "scaler_minmax.fit(X_train)\n",
    "X_scaled_minmax_train = scaler_minmax.transform(X_train)"
   ],
   "metadata": {
    "collapsed": false,
    "pycharm": {
     "name": "#%%\n"
    }
   }
  },
  {
   "cell_type": "code",
   "execution_count": 18,
   "outputs": [
    {
     "data": {
      "text/plain": "               0           1           2           3           4           5   \\\ncount  158.000000  158.000000  158.000000  158.000000  158.000000  158.000000   \nmean     0.322785    0.677215    0.094937    0.056962    0.101266    0.601266   \nstd      0.469028    0.469028    0.294060    0.232507    0.302640    0.491195   \nmin      0.000000    0.000000    0.000000    0.000000    0.000000    0.000000   \n25%      0.000000    0.000000    0.000000    0.000000    0.000000    0.000000   \n50%      0.000000    1.000000    0.000000    0.000000    0.000000    1.000000   \n75%      1.000000    1.000000    0.000000    0.000000    0.000000    1.000000   \nmax      1.000000    1.000000    1.000000    1.000000    1.000000    1.000000   \n\n               6           7           8           9           10          11  \\\ncount  158.000000  158.000000  158.000000  158.000000  158.000000  158.000000   \nmean     0.145570    0.436709    0.392405    0.554852    0.507911    0.518987   \nstd      0.353796    0.312857    0.355960    0.295306    0.235099    0.245248   \nmin      0.000000    0.000000    0.000000    0.000000    0.000000    0.000000   \n25%      0.000000    0.000000    0.000000    0.333333    0.312500    0.250000   \n50%      0.000000    0.500000    0.333333    0.500000    0.500000    0.500000   \n75%      0.000000    0.500000    0.666667    0.666667    0.750000    0.750000   \nmax      1.000000    1.000000    1.000000    1.000000    1.000000    1.000000   \n\n               12  \ncount  158.000000  \nmean     0.477532  \nstd      0.187215  \nmin      0.000000  \n25%      0.350000  \n50%      0.500000  \n75%      0.600000  \nmax      1.000000  ",
      "text/html": "<div>\n<style scoped>\n    .dataframe tbody tr th:only-of-type {\n        vertical-align: middle;\n    }\n\n    .dataframe tbody tr th {\n        vertical-align: top;\n    }\n\n    .dataframe thead th {\n        text-align: right;\n    }\n</style>\n<table border=\"1\" class=\"dataframe\">\n  <thead>\n    <tr style=\"text-align: right;\">\n      <th></th>\n      <th>0</th>\n      <th>1</th>\n      <th>2</th>\n      <th>3</th>\n      <th>4</th>\n      <th>5</th>\n      <th>6</th>\n      <th>7</th>\n      <th>8</th>\n      <th>9</th>\n      <th>10</th>\n      <th>11</th>\n      <th>12</th>\n    </tr>\n  </thead>\n  <tbody>\n    <tr>\n      <th>count</th>\n      <td>158.000000</td>\n      <td>158.000000</td>\n      <td>158.000000</td>\n      <td>158.000000</td>\n      <td>158.000000</td>\n      <td>158.000000</td>\n      <td>158.000000</td>\n      <td>158.000000</td>\n      <td>158.000000</td>\n      <td>158.000000</td>\n      <td>158.000000</td>\n      <td>158.000000</td>\n      <td>158.000000</td>\n    </tr>\n    <tr>\n      <th>mean</th>\n      <td>0.322785</td>\n      <td>0.677215</td>\n      <td>0.094937</td>\n      <td>0.056962</td>\n      <td>0.101266</td>\n      <td>0.601266</td>\n      <td>0.145570</td>\n      <td>0.436709</td>\n      <td>0.392405</td>\n      <td>0.554852</td>\n      <td>0.507911</td>\n      <td>0.518987</td>\n      <td>0.477532</td>\n    </tr>\n    <tr>\n      <th>std</th>\n      <td>0.469028</td>\n      <td>0.469028</td>\n      <td>0.294060</td>\n      <td>0.232507</td>\n      <td>0.302640</td>\n      <td>0.491195</td>\n      <td>0.353796</td>\n      <td>0.312857</td>\n      <td>0.355960</td>\n      <td>0.295306</td>\n      <td>0.235099</td>\n      <td>0.245248</td>\n      <td>0.187215</td>\n    </tr>\n    <tr>\n      <th>min</th>\n      <td>0.000000</td>\n      <td>0.000000</td>\n      <td>0.000000</td>\n      <td>0.000000</td>\n      <td>0.000000</td>\n      <td>0.000000</td>\n      <td>0.000000</td>\n      <td>0.000000</td>\n      <td>0.000000</td>\n      <td>0.000000</td>\n      <td>0.000000</td>\n      <td>0.000000</td>\n      <td>0.000000</td>\n    </tr>\n    <tr>\n      <th>25%</th>\n      <td>0.000000</td>\n      <td>0.000000</td>\n      <td>0.000000</td>\n      <td>0.000000</td>\n      <td>0.000000</td>\n      <td>0.000000</td>\n      <td>0.000000</td>\n      <td>0.000000</td>\n      <td>0.000000</td>\n      <td>0.333333</td>\n      <td>0.312500</td>\n      <td>0.250000</td>\n      <td>0.350000</td>\n    </tr>\n    <tr>\n      <th>50%</th>\n      <td>0.000000</td>\n      <td>1.000000</td>\n      <td>0.000000</td>\n      <td>0.000000</td>\n      <td>0.000000</td>\n      <td>1.000000</td>\n      <td>0.000000</td>\n      <td>0.500000</td>\n      <td>0.333333</td>\n      <td>0.500000</td>\n      <td>0.500000</td>\n      <td>0.500000</td>\n      <td>0.500000</td>\n    </tr>\n    <tr>\n      <th>75%</th>\n      <td>1.000000</td>\n      <td>1.000000</td>\n      <td>0.000000</td>\n      <td>0.000000</td>\n      <td>0.000000</td>\n      <td>1.000000</td>\n      <td>0.000000</td>\n      <td>0.500000</td>\n      <td>0.666667</td>\n      <td>0.666667</td>\n      <td>0.750000</td>\n      <td>0.750000</td>\n      <td>0.600000</td>\n    </tr>\n    <tr>\n      <th>max</th>\n      <td>1.000000</td>\n      <td>1.000000</td>\n      <td>1.000000</td>\n      <td>1.000000</td>\n      <td>1.000000</td>\n      <td>1.000000</td>\n      <td>1.000000</td>\n      <td>1.000000</td>\n      <td>1.000000</td>\n      <td>1.000000</td>\n      <td>1.000000</td>\n      <td>1.000000</td>\n      <td>1.000000</td>\n    </tr>\n  </tbody>\n</table>\n</div>"
     },
     "execution_count": 18,
     "metadata": {},
     "output_type": "execute_result"
    }
   ],
   "source": [
    "# 최소0, 최대1의 값을 가지게 됨\n",
    "pd.DataFrame(X_scaled_minmax_train).describe()"
   ],
   "metadata": {
    "collapsed": false,
    "pycharm": {
     "name": "#%%\n"
    }
   }
  },
  {
   "cell_type": "code",
   "execution_count": 19,
   "outputs": [
    {
     "data": {
      "text/plain": "              0          1          2          3          4          5   \\\ncount  53.000000  53.000000  53.000000  53.000000  53.000000  53.000000   \nmean    0.396226   0.603774   0.037736   0.188679   0.075472   0.584906   \nstd     0.493793   0.493793   0.192380   0.394998   0.266679   0.497454   \nmin     0.000000   0.000000   0.000000   0.000000   0.000000   0.000000   \n25%     0.000000   0.000000   0.000000   0.000000   0.000000   0.000000   \n50%     0.000000   1.000000   0.000000   0.000000   0.000000   1.000000   \n75%     1.000000   1.000000   0.000000   0.000000   0.000000   1.000000   \nmax     1.000000   1.000000   1.000000   1.000000   1.000000   1.000000   \n\n              6          7          8          9          10         11  \\\ncount  53.000000  53.000000  53.000000  53.000000  53.000000  53.000000   \nmean    0.113208   0.424528   0.433962   0.540881   0.533019   0.537736   \nstd     0.319878   0.316170   0.355572   0.279089   0.240381   0.226789   \nmin     0.000000   0.000000   0.000000   0.000000   0.000000   0.000000   \n25%     0.000000   0.000000   0.000000   0.333333   0.500000   0.500000   \n50%     0.000000   0.500000   0.333333   0.666667   0.500000   0.500000   \n75%     0.000000   0.500000   0.666667   0.666667   0.750000   0.750000   \nmax     1.000000   1.000000   1.000000   1.000000   1.000000   1.000000   \n\n              12  \ncount  53.000000  \nmean    0.478302  \nstd     0.163939  \nmin     0.200000  \n25%     0.350000  \n50%     0.500000  \n75%     0.550000  \nmax     0.900000  ",
      "text/html": "<div>\n<style scoped>\n    .dataframe tbody tr th:only-of-type {\n        vertical-align: middle;\n    }\n\n    .dataframe tbody tr th {\n        vertical-align: top;\n    }\n\n    .dataframe thead th {\n        text-align: right;\n    }\n</style>\n<table border=\"1\" class=\"dataframe\">\n  <thead>\n    <tr style=\"text-align: right;\">\n      <th></th>\n      <th>0</th>\n      <th>1</th>\n      <th>2</th>\n      <th>3</th>\n      <th>4</th>\n      <th>5</th>\n      <th>6</th>\n      <th>7</th>\n      <th>8</th>\n      <th>9</th>\n      <th>10</th>\n      <th>11</th>\n      <th>12</th>\n    </tr>\n  </thead>\n  <tbody>\n    <tr>\n      <th>count</th>\n      <td>53.000000</td>\n      <td>53.000000</td>\n      <td>53.000000</td>\n      <td>53.000000</td>\n      <td>53.000000</td>\n      <td>53.000000</td>\n      <td>53.000000</td>\n      <td>53.000000</td>\n      <td>53.000000</td>\n      <td>53.000000</td>\n      <td>53.000000</td>\n      <td>53.000000</td>\n      <td>53.000000</td>\n    </tr>\n    <tr>\n      <th>mean</th>\n      <td>0.396226</td>\n      <td>0.603774</td>\n      <td>0.037736</td>\n      <td>0.188679</td>\n      <td>0.075472</td>\n      <td>0.584906</td>\n      <td>0.113208</td>\n      <td>0.424528</td>\n      <td>0.433962</td>\n      <td>0.540881</td>\n      <td>0.533019</td>\n      <td>0.537736</td>\n      <td>0.478302</td>\n    </tr>\n    <tr>\n      <th>std</th>\n      <td>0.493793</td>\n      <td>0.493793</td>\n      <td>0.192380</td>\n      <td>0.394998</td>\n      <td>0.266679</td>\n      <td>0.497454</td>\n      <td>0.319878</td>\n      <td>0.316170</td>\n      <td>0.355572</td>\n      <td>0.279089</td>\n      <td>0.240381</td>\n      <td>0.226789</td>\n      <td>0.163939</td>\n    </tr>\n    <tr>\n      <th>min</th>\n      <td>0.000000</td>\n      <td>0.000000</td>\n      <td>0.000000</td>\n      <td>0.000000</td>\n      <td>0.000000</td>\n      <td>0.000000</td>\n      <td>0.000000</td>\n      <td>0.000000</td>\n      <td>0.000000</td>\n      <td>0.000000</td>\n      <td>0.000000</td>\n      <td>0.000000</td>\n      <td>0.200000</td>\n    </tr>\n    <tr>\n      <th>25%</th>\n      <td>0.000000</td>\n      <td>0.000000</td>\n      <td>0.000000</td>\n      <td>0.000000</td>\n      <td>0.000000</td>\n      <td>0.000000</td>\n      <td>0.000000</td>\n      <td>0.000000</td>\n      <td>0.000000</td>\n      <td>0.333333</td>\n      <td>0.500000</td>\n      <td>0.500000</td>\n      <td>0.350000</td>\n    </tr>\n    <tr>\n      <th>50%</th>\n      <td>0.000000</td>\n      <td>1.000000</td>\n      <td>0.000000</td>\n      <td>0.000000</td>\n      <td>0.000000</td>\n      <td>1.000000</td>\n      <td>0.000000</td>\n      <td>0.500000</td>\n      <td>0.333333</td>\n      <td>0.666667</td>\n      <td>0.500000</td>\n      <td>0.500000</td>\n      <td>0.500000</td>\n    </tr>\n    <tr>\n      <th>75%</th>\n      <td>1.000000</td>\n      <td>1.000000</td>\n      <td>0.000000</td>\n      <td>0.000000</td>\n      <td>0.000000</td>\n      <td>1.000000</td>\n      <td>0.000000</td>\n      <td>0.500000</td>\n      <td>0.666667</td>\n      <td>0.666667</td>\n      <td>0.750000</td>\n      <td>0.750000</td>\n      <td>0.550000</td>\n    </tr>\n    <tr>\n      <th>max</th>\n      <td>1.000000</td>\n      <td>1.000000</td>\n      <td>1.000000</td>\n      <td>1.000000</td>\n      <td>1.000000</td>\n      <td>1.000000</td>\n      <td>1.000000</td>\n      <td>1.000000</td>\n      <td>1.000000</td>\n      <td>1.000000</td>\n      <td>1.000000</td>\n      <td>1.000000</td>\n      <td>0.900000</td>\n    </tr>\n  </tbody>\n</table>\n</div>"
     },
     "execution_count": 19,
     "metadata": {},
     "output_type": "execute_result"
    }
   ],
   "source": [
    "# test 데이터는 최대 최소가 모두 1과 0은 아님\n",
    "# train기준으로 정규화했기 때문\n",
    "X_scaled_minmax_test = scaler_minmax.transform(X_test)\n",
    "pd.DataFrame(X_scaled_minmax_test).describe()"
   ],
   "metadata": {
    "collapsed": false,
    "pycharm": {
     "name": "#%%\n"
    }
   }
  },
  {
   "cell_type": "markdown",
   "source": [
    "### 나. Standardization 정규화"
   ],
   "metadata": {
    "collapsed": false,
    "pycharm": {
     "name": "#%% md\n"
    }
   }
  },
  {
   "cell_type": "code",
   "execution_count": 24,
   "outputs": [],
   "source": [
    "from sklearn.preprocessing import StandardScaler\n",
    "scaler_standard = StandardScaler()"
   ],
   "metadata": {
    "collapsed": false,
    "pycharm": {
     "name": "#%%\n"
    }
   }
  },
  {
   "cell_type": "code",
   "execution_count": 25,
   "outputs": [],
   "source": [
    "# standard 방법으로 정규화\n",
    "# 주의!: fit은 학습데이터로 해야, 나중에 test 데이터 정규화시 train 데이터의 표준화(평균, 표준편차) 기준이 적용됨\n",
    "scaler_standard.fit(X_train)\n",
    "X_scaled_standard_train=scaler_standard.transform(X_train)"
   ],
   "metadata": {
    "collapsed": false,
    "pycharm": {
     "name": "#%%\n"
    }
   }
  },
  {
   "cell_type": "code",
   "execution_count": 26,
   "outputs": [
    {
     "data": {
      "text/plain": "                 0             1             2             3             4   \\\ncount  1.580000e+02  1.580000e+02  1.580000e+02  1.580000e+02  1.580000e+02   \nmean   5.621382e-18  9.275281e-17 -2.810691e-17  3.653899e-17  2.810691e-18   \nstd    1.003180e+00  1.003180e+00  1.003180e+00  1.003180e+00  1.003180e+00   \nmin   -6.903879e-01 -1.448461e+00 -3.238751e-01 -2.457696e-01 -3.356725e-01   \n25%   -6.903879e-01 -1.448461e+00 -3.238751e-01 -2.457696e-01 -3.356725e-01   \n50%   -6.903879e-01  6.903879e-01 -3.238751e-01 -2.457696e-01 -3.356725e-01   \n75%    1.448461e+00  6.903879e-01 -3.238751e-01 -2.457696e-01 -3.356725e-01   \nmax    1.448461e+00  6.903879e-01  3.087610e+00  4.068852e+00  2.979094e+00   \n\n                 5             6             7             8             9   \\\ncount  1.580000e+02  1.580000e+02  1.580000e+02  1.580000e+02  1.580000e+02   \nmean   3.934968e-17  1.124276e-17  5.621382e-17 -3.372829e-17 -2.810691e-18   \nstd    1.003180e+00  1.003180e+00  1.003180e+00  1.003180e+00  1.003180e+00   \nmin   -1.227981e+00 -4.127595e-01 -1.400312e+00 -1.105890e+00 -1.884881e+00   \n25%   -1.227981e+00 -4.127595e-01 -1.400312e+00 -1.105890e+00 -7.525190e-01   \n50%    8.143451e-01 -4.127595e-01  2.029437e-01 -1.664780e-01 -1.863380e-01   \n75%    8.143451e-01 -4.127595e-01  2.029437e-01  7.729337e-01  3.798429e-01   \nmax    8.143451e-01  2.422719e+00  1.806199e+00  1.712345e+00  1.512205e+00   \n\n                 10            11            12  \ncount  1.580000e+02  1.580000e+02  1.580000e+02  \nmean  -1.573987e-16  3.232295e-17 -5.312206e-16  \nstd    1.003180e+00  1.003180e+00  1.003180e+00  \nmin   -2.167287e+00 -2.122900e+00 -2.558829e+00  \n25%   -8.338316e-01 -1.100283e+00 -6.833719e-01  \n50%   -3.375836e-02 -7.766706e-02  1.203955e-01  \n75%    1.033006e+00  9.449492e-01  6.562405e-01  \nmax    2.099770e+00  1.967565e+00  2.799620e+00  ",
      "text/html": "<div>\n<style scoped>\n    .dataframe tbody tr th:only-of-type {\n        vertical-align: middle;\n    }\n\n    .dataframe tbody tr th {\n        vertical-align: top;\n    }\n\n    .dataframe thead th {\n        text-align: right;\n    }\n</style>\n<table border=\"1\" class=\"dataframe\">\n  <thead>\n    <tr style=\"text-align: right;\">\n      <th></th>\n      <th>0</th>\n      <th>1</th>\n      <th>2</th>\n      <th>3</th>\n      <th>4</th>\n      <th>5</th>\n      <th>6</th>\n      <th>7</th>\n      <th>8</th>\n      <th>9</th>\n      <th>10</th>\n      <th>11</th>\n      <th>12</th>\n    </tr>\n  </thead>\n  <tbody>\n    <tr>\n      <th>count</th>\n      <td>1.580000e+02</td>\n      <td>1.580000e+02</td>\n      <td>1.580000e+02</td>\n      <td>1.580000e+02</td>\n      <td>1.580000e+02</td>\n      <td>1.580000e+02</td>\n      <td>1.580000e+02</td>\n      <td>1.580000e+02</td>\n      <td>1.580000e+02</td>\n      <td>1.580000e+02</td>\n      <td>1.580000e+02</td>\n      <td>1.580000e+02</td>\n      <td>1.580000e+02</td>\n    </tr>\n    <tr>\n      <th>mean</th>\n      <td>5.621382e-18</td>\n      <td>9.275281e-17</td>\n      <td>-2.810691e-17</td>\n      <td>3.653899e-17</td>\n      <td>2.810691e-18</td>\n      <td>3.934968e-17</td>\n      <td>1.124276e-17</td>\n      <td>5.621382e-17</td>\n      <td>-3.372829e-17</td>\n      <td>-2.810691e-18</td>\n      <td>-1.573987e-16</td>\n      <td>3.232295e-17</td>\n      <td>-5.312206e-16</td>\n    </tr>\n    <tr>\n      <th>std</th>\n      <td>1.003180e+00</td>\n      <td>1.003180e+00</td>\n      <td>1.003180e+00</td>\n      <td>1.003180e+00</td>\n      <td>1.003180e+00</td>\n      <td>1.003180e+00</td>\n      <td>1.003180e+00</td>\n      <td>1.003180e+00</td>\n      <td>1.003180e+00</td>\n      <td>1.003180e+00</td>\n      <td>1.003180e+00</td>\n      <td>1.003180e+00</td>\n      <td>1.003180e+00</td>\n    </tr>\n    <tr>\n      <th>min</th>\n      <td>-6.903879e-01</td>\n      <td>-1.448461e+00</td>\n      <td>-3.238751e-01</td>\n      <td>-2.457696e-01</td>\n      <td>-3.356725e-01</td>\n      <td>-1.227981e+00</td>\n      <td>-4.127595e-01</td>\n      <td>-1.400312e+00</td>\n      <td>-1.105890e+00</td>\n      <td>-1.884881e+00</td>\n      <td>-2.167287e+00</td>\n      <td>-2.122900e+00</td>\n      <td>-2.558829e+00</td>\n    </tr>\n    <tr>\n      <th>25%</th>\n      <td>-6.903879e-01</td>\n      <td>-1.448461e+00</td>\n      <td>-3.238751e-01</td>\n      <td>-2.457696e-01</td>\n      <td>-3.356725e-01</td>\n      <td>-1.227981e+00</td>\n      <td>-4.127595e-01</td>\n      <td>-1.400312e+00</td>\n      <td>-1.105890e+00</td>\n      <td>-7.525190e-01</td>\n      <td>-8.338316e-01</td>\n      <td>-1.100283e+00</td>\n      <td>-6.833719e-01</td>\n    </tr>\n    <tr>\n      <th>50%</th>\n      <td>-6.903879e-01</td>\n      <td>6.903879e-01</td>\n      <td>-3.238751e-01</td>\n      <td>-2.457696e-01</td>\n      <td>-3.356725e-01</td>\n      <td>8.143451e-01</td>\n      <td>-4.127595e-01</td>\n      <td>2.029437e-01</td>\n      <td>-1.664780e-01</td>\n      <td>-1.863380e-01</td>\n      <td>-3.375836e-02</td>\n      <td>-7.766706e-02</td>\n      <td>1.203955e-01</td>\n    </tr>\n    <tr>\n      <th>75%</th>\n      <td>1.448461e+00</td>\n      <td>6.903879e-01</td>\n      <td>-3.238751e-01</td>\n      <td>-2.457696e-01</td>\n      <td>-3.356725e-01</td>\n      <td>8.143451e-01</td>\n      <td>-4.127595e-01</td>\n      <td>2.029437e-01</td>\n      <td>7.729337e-01</td>\n      <td>3.798429e-01</td>\n      <td>1.033006e+00</td>\n      <td>9.449492e-01</td>\n      <td>6.562405e-01</td>\n    </tr>\n    <tr>\n      <th>max</th>\n      <td>1.448461e+00</td>\n      <td>6.903879e-01</td>\n      <td>3.087610e+00</td>\n      <td>4.068852e+00</td>\n      <td>2.979094e+00</td>\n      <td>8.143451e-01</td>\n      <td>2.422719e+00</td>\n      <td>1.806199e+00</td>\n      <td>1.712345e+00</td>\n      <td>1.512205e+00</td>\n      <td>2.099770e+00</td>\n      <td>1.967565e+00</td>\n      <td>2.799620e+00</td>\n    </tr>\n  </tbody>\n</table>\n</div>"
     },
     "execution_count": 26,
     "metadata": {},
     "output_type": "execute_result"
    }
   ],
   "source": [
    "# standard 방법으로 정규화한 데이터의 기술통계량 확인\n",
    "pd.DataFrame(X_scaled_standard_train).describe()"
   ],
   "metadata": {
    "collapsed": false,
    "pycharm": {
     "name": "#%%\n"
    }
   }
  },
  {
   "cell_type": "code",
   "execution_count": 36,
   "outputs": [
    {
     "data": {
      "text/plain": "              0          1          2          3          4          5   \\\ncount  53.000000  53.000000  53.000000  53.000000  53.000000  53.000000   \nmean    0.157080  -0.157080  -0.195140   0.568310  -0.085501  -0.033413   \nstd     1.056149   1.056149   0.656302   1.704266   0.883978   1.015962   \nmin    -0.690388  -1.448461  -0.323875  -0.245770  -0.335673  -1.227981   \n25%    -0.690388  -1.448461  -0.323875  -0.245770  -0.335673  -1.227981   \n50%    -0.690388   0.690388  -0.323875  -0.245770  -0.335673   0.814345   \n75%     1.448461   0.690388  -0.323875  -0.245770  -0.335673   0.814345   \nmax     1.448461   0.690388   3.087610   4.068852   2.979094   0.814345   \n\n              6          7          8          9          10         11  \\\ncount  53.000000  53.000000  53.000000  53.000000  53.000000  53.000000   \nmean   -0.091762  -0.039057   0.117118  -0.047463   0.107135   0.076690   \nstd     0.907008   1.013804   1.002085   0.948089   1.025719   0.927672   \nmin    -0.412759  -1.400312  -1.105890  -1.884881  -2.167287  -2.122900   \n25%    -0.412759  -1.400312  -1.105890  -0.752519  -0.033758  -0.077667   \n50%    -0.412759   0.202944  -0.166478   0.379843  -0.033758  -0.077667   \n75%    -0.412759   0.202944   0.772934   0.379843   1.033006   0.944949   \nmax     2.422719   1.806199   1.712345   1.512205   2.099770   1.967565   \n\n              12  \ncount  53.000000  \nmean    0.004127  \nstd     0.878457  \nmin    -1.487139  \n25%    -0.683372  \n50%     0.120396  \n75%     0.388318  \nmax     2.263775  ",
      "text/html": "<div>\n<style scoped>\n    .dataframe tbody tr th:only-of-type {\n        vertical-align: middle;\n    }\n\n    .dataframe tbody tr th {\n        vertical-align: top;\n    }\n\n    .dataframe thead th {\n        text-align: right;\n    }\n</style>\n<table border=\"1\" class=\"dataframe\">\n  <thead>\n    <tr style=\"text-align: right;\">\n      <th></th>\n      <th>0</th>\n      <th>1</th>\n      <th>2</th>\n      <th>3</th>\n      <th>4</th>\n      <th>5</th>\n      <th>6</th>\n      <th>7</th>\n      <th>8</th>\n      <th>9</th>\n      <th>10</th>\n      <th>11</th>\n      <th>12</th>\n    </tr>\n  </thead>\n  <tbody>\n    <tr>\n      <th>count</th>\n      <td>53.000000</td>\n      <td>53.000000</td>\n      <td>53.000000</td>\n      <td>53.000000</td>\n      <td>53.000000</td>\n      <td>53.000000</td>\n      <td>53.000000</td>\n      <td>53.000000</td>\n      <td>53.000000</td>\n      <td>53.000000</td>\n      <td>53.000000</td>\n      <td>53.000000</td>\n      <td>53.000000</td>\n    </tr>\n    <tr>\n      <th>mean</th>\n      <td>0.157080</td>\n      <td>-0.157080</td>\n      <td>-0.195140</td>\n      <td>0.568310</td>\n      <td>-0.085501</td>\n      <td>-0.033413</td>\n      <td>-0.091762</td>\n      <td>-0.039057</td>\n      <td>0.117118</td>\n      <td>-0.047463</td>\n      <td>0.107135</td>\n      <td>0.076690</td>\n      <td>0.004127</td>\n    </tr>\n    <tr>\n      <th>std</th>\n      <td>1.056149</td>\n      <td>1.056149</td>\n      <td>0.656302</td>\n      <td>1.704266</td>\n      <td>0.883978</td>\n      <td>1.015962</td>\n      <td>0.907008</td>\n      <td>1.013804</td>\n      <td>1.002085</td>\n      <td>0.948089</td>\n      <td>1.025719</td>\n      <td>0.927672</td>\n      <td>0.878457</td>\n    </tr>\n    <tr>\n      <th>min</th>\n      <td>-0.690388</td>\n      <td>-1.448461</td>\n      <td>-0.323875</td>\n      <td>-0.245770</td>\n      <td>-0.335673</td>\n      <td>-1.227981</td>\n      <td>-0.412759</td>\n      <td>-1.400312</td>\n      <td>-1.105890</td>\n      <td>-1.884881</td>\n      <td>-2.167287</td>\n      <td>-2.122900</td>\n      <td>-1.487139</td>\n    </tr>\n    <tr>\n      <th>25%</th>\n      <td>-0.690388</td>\n      <td>-1.448461</td>\n      <td>-0.323875</td>\n      <td>-0.245770</td>\n      <td>-0.335673</td>\n      <td>-1.227981</td>\n      <td>-0.412759</td>\n      <td>-1.400312</td>\n      <td>-1.105890</td>\n      <td>-0.752519</td>\n      <td>-0.033758</td>\n      <td>-0.077667</td>\n      <td>-0.683372</td>\n    </tr>\n    <tr>\n      <th>50%</th>\n      <td>-0.690388</td>\n      <td>0.690388</td>\n      <td>-0.323875</td>\n      <td>-0.245770</td>\n      <td>-0.335673</td>\n      <td>0.814345</td>\n      <td>-0.412759</td>\n      <td>0.202944</td>\n      <td>-0.166478</td>\n      <td>0.379843</td>\n      <td>-0.033758</td>\n      <td>-0.077667</td>\n      <td>0.120396</td>\n    </tr>\n    <tr>\n      <th>75%</th>\n      <td>1.448461</td>\n      <td>0.690388</td>\n      <td>-0.323875</td>\n      <td>-0.245770</td>\n      <td>-0.335673</td>\n      <td>0.814345</td>\n      <td>-0.412759</td>\n      <td>0.202944</td>\n      <td>0.772934</td>\n      <td>0.379843</td>\n      <td>1.033006</td>\n      <td>0.944949</td>\n      <td>0.388318</td>\n    </tr>\n    <tr>\n      <th>max</th>\n      <td>1.448461</td>\n      <td>0.690388</td>\n      <td>3.087610</td>\n      <td>4.068852</td>\n      <td>2.979094</td>\n      <td>0.814345</td>\n      <td>2.422719</td>\n      <td>1.806199</td>\n      <td>1.712345</td>\n      <td>1.512205</td>\n      <td>2.099770</td>\n      <td>1.967565</td>\n      <td>2.263775</td>\n    </tr>\n  </tbody>\n</table>\n</div>"
     },
     "execution_count": 36,
     "metadata": {},
     "output_type": "execute_result"
    }
   ],
   "source": [
    "# test 데이터에도 정규화 적용 및 데이터 확인: standard 방법\n",
    "X_scaled_standard_test=scaler_standard.transform(X_test)\n",
    "pd.DataFrame(X_scaled_standard_test).describe()"
   ],
   "metadata": {
    "collapsed": false,
    "pycharm": {
     "name": "#%%\n"
    }
   }
  },
  {
   "cell_type": "markdown",
   "source": [
    "## 6-5. 모델 학습"
   ],
   "metadata": {
    "collapsed": false
   }
  },
  {
   "cell_type": "code",
   "execution_count": 37,
   "outputs": [],
   "source": [
    "from sklearn.linear_model import LogisticRegression\n",
    "model = LogisticRegression()\n"
   ],
   "metadata": {
    "collapsed": false,
    "pycharm": {
     "name": "#%%\n"
    }
   }
  },
  {
   "cell_type": "markdown",
   "source": [
    "### 가. Min-Max 정규화 데이터 적용결과\n"
   ],
   "metadata": {
    "collapsed": false
   }
  },
  {
   "cell_type": "code",
   "execution_count": 38,
   "outputs": [
    {
     "name": "stderr",
     "output_type": "stream",
     "text": [
      "C:\\Users\\aj878\\anaconda3\\envs\\r_web_crawling\\lib\\site-packages\\sklearn\\utils\\validation.py:985: DataConversionWarning: A column-vector y was passed when a 1d array was expected. Please change the shape of y to (n_samples, ), for example using ravel().\n",
      "  y = column_or_1d(y, warn=True)\n"
     ]
    },
    {
     "data": {
      "text/plain": "0.7278481012658228"
     },
     "execution_count": 38,
     "metadata": {},
     "output_type": "execute_result"
    }
   ],
   "source": [
    "# 훈련데이터의 정확도(accuracy) 확인\n",
    "model.fit(X_scaled_minmax_train, y_train)\n",
    "pred_train = model.predict(X_scaled_minmax_train)\n",
    "model.score(X_scaled_minmax_train,y_train)"
   ],
   "metadata": {
    "collapsed": false,
    "pycharm": {
     "name": "#%%\n"
    }
   }
  },
  {
   "cell_type": "code",
   "execution_count": 39,
   "outputs": [
    {
     "data": {
      "text/plain": "0.7169811320754716"
     },
     "execution_count": 39,
     "metadata": {},
     "output_type": "execute_result"
    }
   ],
   "source": [
    "# 테스트 데이터의 정확도\n",
    "pred_test = model.predict(X_scaled_minmax_test)\n",
    "model.score(X_scaled_minmax_test, y_test)"
   ],
   "metadata": {
    "collapsed": false,
    "pycharm": {
     "name": "#%%\n"
    }
   }
  },
  {
   "cell_type": "code",
   "execution_count": 40,
   "outputs": [
    {
     "name": "stdout",
     "output_type": "stream",
     "text": [
      "훈련데이터 오차행렬:\n",
      " [[  9  37]\n",
      " [  6 106]]\n"
     ]
    }
   ],
   "source": [
    "# 학습데이터의 혼동행렬 보기(정분류, 오분류 교차표)\n",
    "from sklearn.metrics import confusion_matrix\n",
    "confusion_train = confusion_matrix(y_train,pred_train)\n",
    "print(\"훈련데이터 오차행렬:\\n\", confusion_train)"
   ],
   "metadata": {
    "collapsed": false,
    "pycharm": {
     "name": "#%%\n"
    }
   }
  },
  {
   "cell_type": "code",
   "execution_count": 41,
   "outputs": [
    {
     "name": "stdout",
     "output_type": "stream",
     "text": [
      "테스트데이터 오차행렬:\n",
      " [[ 2 13]\n",
      " [ 2 36]]\n"
     ]
    }
   ],
   "source": [
    "# 테스트데이터의 혼동행렬 보기(정분류, 오분류 교차표)\n",
    "confusion_test=confusion_matrix(y_test, pred_test)\n",
    "print(\"테스트데이터 오차행렬:\\n\", confusion_test)\n"
   ],
   "metadata": {
    "collapsed": false,
    "pycharm": {
     "name": "#%%\n"
    }
   }
  },
  {
   "cell_type": "markdown",
   "source": [
    "### 나. Standardize 정규화 데이터 적용결과\n"
   ],
   "metadata": {
    "collapsed": false,
    "pycharm": {
     "name": "#%% md\n"
    }
   }
  },
  {
   "cell_type": "code",
   "execution_count": 42,
   "outputs": [
    {
     "name": "stderr",
     "output_type": "stream",
     "text": [
      "C:\\Users\\aj878\\anaconda3\\envs\\r_web_crawling\\lib\\site-packages\\sklearn\\utils\\validation.py:985: DataConversionWarning: A column-vector y was passed when a 1d array was expected. Please change the shape of y to (n_samples, ), for example using ravel().\n",
      "  y = column_or_1d(y, warn=True)\n"
     ]
    },
    {
     "data": {
      "text/plain": "0.740506329113924"
     },
     "execution_count": 42,
     "metadata": {},
     "output_type": "execute_result"
    }
   ],
   "source": [
    "model.fit(X_scaled_standard_train,y_train)\n",
    "pred_train = model.predict(X_scaled_standard_train)\n",
    "model.score(X_scaled_standard_train,y_train)"
   ],
   "metadata": {
    "collapsed": false,
    "pycharm": {
     "name": "#%%\n"
    }
   }
  },
  {
   "cell_type": "code",
   "execution_count": 43,
   "outputs": [
    {
     "data": {
      "text/plain": "0.6792452830188679"
     },
     "execution_count": 43,
     "metadata": {},
     "output_type": "execute_result"
    }
   ],
   "source": [
    "pred_test = model.predict(X_scaled_standard_test)\n",
    "model.score(X_scaled_standard_test,y_test)\n",
    "# 테스트 정확도가더 낮아 훈련데이터에 다소 과대적합된 결과로 보임"
   ],
   "metadata": {
    "collapsed": false,
    "pycharm": {
     "name": "#%%\n"
    }
   }
  },
  {
   "cell_type": "code",
   "execution_count": 47,
   "outputs": [
    {
     "name": "stdout",
     "output_type": "stream",
     "text": [
      "훈련데이터 오차행렬:\n",
      " [[ 12  34]\n",
      " [  7 105]]\n"
     ]
    }
   ],
   "source": [
    "# 학습데이터의 혼동행렬 보기(정분류, 오분류 교차표)\n",
    "from sklearn.metrics import confusion_matrix\n",
    "confusion_train=confusion_matrix(y_train, pred_train)\n",
    "print(\"훈련데이터 오차행렬:\\n\", confusion_train)"
   ],
   "metadata": {
    "collapsed": false,
    "pycharm": {
     "name": "#%%\n"
    }
   }
  },
  {
   "cell_type": "code",
   "execution_count": 48,
   "outputs": [
    {
     "name": "stdout",
     "output_type": "stream",
     "text": [
      "테스트데이터 오차행렬:\n",
      " [[ 3 12]\n",
      " [ 5 33]]\n"
     ]
    }
   ],
   "source": [
    "# 테스트데이터의 혼동행렬 보기(정분류, 오분류 교차표)\n",
    "confusion_test=confusion_matrix(y_test, pred_test)\n",
    "print(\"테스트데이터 오차행렬:\\n\", confusion_test)"
   ],
   "metadata": {
    "collapsed": false,
    "pycharm": {
     "name": "#%%\n"
    }
   }
  },
  {
   "cell_type": "code",
   "execution_count": null,
   "outputs": [],
   "source": [],
   "metadata": {
    "collapsed": false,
    "pycharm": {
     "name": "#%%\n"
    }
   }
  }
 ],
 "metadata": {
  "kernelspec": {
   "display_name": "Python 3",
   "language": "python",
   "name": "python3"
  },
  "language_info": {
   "codemirror_mode": {
    "name": "ipython",
    "version": 2
   },
   "file_extension": ".py",
   "mimetype": "text/x-python",
   "name": "python",
   "nbconvert_exporter": "python",
   "pygments_lexer": "ipython2",
   "version": "2.7.6"
  }
 },
 "nbformat": 4,
 "nbformat_minor": 0
}