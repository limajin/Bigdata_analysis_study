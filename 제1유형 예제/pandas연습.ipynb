{
 "cells": [
  {
   "cell_type": "markdown",
   "source": [
    "# 판다스 연습 튜토리얼"
   ],
   "metadata": {
    "collapsed": false
   }
  },
  {
   "cell_type": "markdown",
   "source": [
    "\n",
    "목차 및 구성 출처 : [원본 깃헙주소](https://github.com/guipsamora/pandas_exercises)"
   ],
   "metadata": {
    "collapsed": false
   }
  },
  {
   "cell_type": "code",
   "execution_count": 34,
   "outputs": [],
   "source": [
    "import pandas as pd"
   ],
   "metadata": {
    "collapsed": false,
    "pycharm": {
     "name": "#%%\n"
    }
   }
  },
  {
   "cell_type": "markdown",
   "source": [
    "\n",
    "- [롤 랭킹 데이터] (https://www.kaggle.com/datasnaek/league-of-legends)\n",
    "- DataUrl : 'https://raw.githubusercontent.com/Datamanim/pandas/main/lol.csv'\n"
   ],
   "metadata": {
    "collapsed": false
   }
  },
  {
   "cell_type": "markdown",
   "source": [
    "## 1. \\t로 구분된 데이터 로드하기\n"
   ],
   "metadata": {
    "collapsed": false
   }
  },
  {
   "cell_type": "code",
   "execution_count": 35,
   "outputs": [],
   "source": [
    "# sep 구분자\n",
    "DataUrl = 'https://raw.githubusercontent.com/Datamanim/pandas/main/lol.csv'\n",
    "df = pd.read_csv(DataUrl,sep='\\t')"
   ],
   "metadata": {
    "collapsed": false,
    "pycharm": {
     "name": "#%%\n"
    }
   }
  },
  {
   "cell_type": "code",
   "execution_count": 36,
   "outputs": [
    {
     "data": {
      "text/plain": "           gameId   creationTime  gameDuration  seasonId  winner  firstBlood  \\\n0      3326086514  1504279457970          1949         9       1           2   \n1      3229566029  1497848803862          1851         9       1           1   \n2      3327363504  1504360103310          1493         9       1           2   \n3      3326856598  1504348503996          1758         9       1           1   \n4      3330080762  1504554410899          2094         9       1           2   \n...           ...            ...           ...       ...     ...         ...   \n51485  3308904636  1503076540231          1944         9       2           1   \n51486  3215685759  1496957179355          3304         9       2           1   \n51487  3322765040  1504029863961          2156         9       2           2   \n51488  3256675373  1499562036246          1475         9       2           2   \n51489  3317333020  1503612754059          1445         9       1           1   \n\n       firstTower  firstInhibitor  firstBaron  firstDragon  ...  \\\n0               1               1           1            1  ...   \n1               1               1           0            1  ...   \n2               1               1           1            2  ...   \n3               1               1           1            1  ...   \n4               1               1           1            1  ...   \n...           ...             ...         ...          ...  ...   \n51485           2               2           0            2  ...   \n51486           1               2           2            2  ...   \n51487           2               2           0            1  ...   \n51488           2               2           0            2  ...   \n51489           1               1           1            2  ...   \n\n       t2_towerKills  t2_inhibitorKills  t2_baronKills  t2_dragonKills  \\\n0                  5                  0              0               1   \n1                  2                  0              0               0   \n2                  2                  0              0               1   \n3                  0                  0              0               0   \n4                  3                  0              0               1   \n...              ...                ...            ...             ...   \n51485             10                  2              0               4   \n51486             11                  7              4               4   \n51487             10                  2              0               2   \n51488             11                  3              0               1   \n51489              1                  0              0               1   \n\n       t2_riftHeraldKills  t2_ban1  t2_ban2  t2_ban3  t2_ban4  t2_ban5  \n0                       1      114       67       43       16       51  \n1                       0       11       67      238       51      420  \n2                       0      157      238      121       57       28  \n3                       0      164       18      141       40       51  \n4                       0       86       11      201      122       18  \n...                   ...      ...      ...      ...      ...      ...  \n51485                   0       55       -1       90      238      157  \n51486                   1      157       55      119      154      105  \n51487                   0      113      122       53       11      157  \n51488                   0      154       39       51       90      114  \n51489                   0       11      157      141       31       18  \n\n[51490 rows x 61 columns]",
      "text/html": "<div>\n<style scoped>\n    .dataframe tbody tr th:only-of-type {\n        vertical-align: middle;\n    }\n\n    .dataframe tbody tr th {\n        vertical-align: top;\n    }\n\n    .dataframe thead th {\n        text-align: right;\n    }\n</style>\n<table border=\"1\" class=\"dataframe\">\n  <thead>\n    <tr style=\"text-align: right;\">\n      <th></th>\n      <th>gameId</th>\n      <th>creationTime</th>\n      <th>gameDuration</th>\n      <th>seasonId</th>\n      <th>winner</th>\n      <th>firstBlood</th>\n      <th>firstTower</th>\n      <th>firstInhibitor</th>\n      <th>firstBaron</th>\n      <th>firstDragon</th>\n      <th>...</th>\n      <th>t2_towerKills</th>\n      <th>t2_inhibitorKills</th>\n      <th>t2_baronKills</th>\n      <th>t2_dragonKills</th>\n      <th>t2_riftHeraldKills</th>\n      <th>t2_ban1</th>\n      <th>t2_ban2</th>\n      <th>t2_ban3</th>\n      <th>t2_ban4</th>\n      <th>t2_ban5</th>\n    </tr>\n  </thead>\n  <tbody>\n    <tr>\n      <th>0</th>\n      <td>3326086514</td>\n      <td>1504279457970</td>\n      <td>1949</td>\n      <td>9</td>\n      <td>1</td>\n      <td>2</td>\n      <td>1</td>\n      <td>1</td>\n      <td>1</td>\n      <td>1</td>\n      <td>...</td>\n      <td>5</td>\n      <td>0</td>\n      <td>0</td>\n      <td>1</td>\n      <td>1</td>\n      <td>114</td>\n      <td>67</td>\n      <td>43</td>\n      <td>16</td>\n      <td>51</td>\n    </tr>\n    <tr>\n      <th>1</th>\n      <td>3229566029</td>\n      <td>1497848803862</td>\n      <td>1851</td>\n      <td>9</td>\n      <td>1</td>\n      <td>1</td>\n      <td>1</td>\n      <td>1</td>\n      <td>0</td>\n      <td>1</td>\n      <td>...</td>\n      <td>2</td>\n      <td>0</td>\n      <td>0</td>\n      <td>0</td>\n      <td>0</td>\n      <td>11</td>\n      <td>67</td>\n      <td>238</td>\n      <td>51</td>\n      <td>420</td>\n    </tr>\n    <tr>\n      <th>2</th>\n      <td>3327363504</td>\n      <td>1504360103310</td>\n      <td>1493</td>\n      <td>9</td>\n      <td>1</td>\n      <td>2</td>\n      <td>1</td>\n      <td>1</td>\n      <td>1</td>\n      <td>2</td>\n      <td>...</td>\n      <td>2</td>\n      <td>0</td>\n      <td>0</td>\n      <td>1</td>\n      <td>0</td>\n      <td>157</td>\n      <td>238</td>\n      <td>121</td>\n      <td>57</td>\n      <td>28</td>\n    </tr>\n    <tr>\n      <th>3</th>\n      <td>3326856598</td>\n      <td>1504348503996</td>\n      <td>1758</td>\n      <td>9</td>\n      <td>1</td>\n      <td>1</td>\n      <td>1</td>\n      <td>1</td>\n      <td>1</td>\n      <td>1</td>\n      <td>...</td>\n      <td>0</td>\n      <td>0</td>\n      <td>0</td>\n      <td>0</td>\n      <td>0</td>\n      <td>164</td>\n      <td>18</td>\n      <td>141</td>\n      <td>40</td>\n      <td>51</td>\n    </tr>\n    <tr>\n      <th>4</th>\n      <td>3330080762</td>\n      <td>1504554410899</td>\n      <td>2094</td>\n      <td>9</td>\n      <td>1</td>\n      <td>2</td>\n      <td>1</td>\n      <td>1</td>\n      <td>1</td>\n      <td>1</td>\n      <td>...</td>\n      <td>3</td>\n      <td>0</td>\n      <td>0</td>\n      <td>1</td>\n      <td>0</td>\n      <td>86</td>\n      <td>11</td>\n      <td>201</td>\n      <td>122</td>\n      <td>18</td>\n    </tr>\n    <tr>\n      <th>...</th>\n      <td>...</td>\n      <td>...</td>\n      <td>...</td>\n      <td>...</td>\n      <td>...</td>\n      <td>...</td>\n      <td>...</td>\n      <td>...</td>\n      <td>...</td>\n      <td>...</td>\n      <td>...</td>\n      <td>...</td>\n      <td>...</td>\n      <td>...</td>\n      <td>...</td>\n      <td>...</td>\n      <td>...</td>\n      <td>...</td>\n      <td>...</td>\n      <td>...</td>\n      <td>...</td>\n    </tr>\n    <tr>\n      <th>51485</th>\n      <td>3308904636</td>\n      <td>1503076540231</td>\n      <td>1944</td>\n      <td>9</td>\n      <td>2</td>\n      <td>1</td>\n      <td>2</td>\n      <td>2</td>\n      <td>0</td>\n      <td>2</td>\n      <td>...</td>\n      <td>10</td>\n      <td>2</td>\n      <td>0</td>\n      <td>4</td>\n      <td>0</td>\n      <td>55</td>\n      <td>-1</td>\n      <td>90</td>\n      <td>238</td>\n      <td>157</td>\n    </tr>\n    <tr>\n      <th>51486</th>\n      <td>3215685759</td>\n      <td>1496957179355</td>\n      <td>3304</td>\n      <td>9</td>\n      <td>2</td>\n      <td>1</td>\n      <td>1</td>\n      <td>2</td>\n      <td>2</td>\n      <td>2</td>\n      <td>...</td>\n      <td>11</td>\n      <td>7</td>\n      <td>4</td>\n      <td>4</td>\n      <td>1</td>\n      <td>157</td>\n      <td>55</td>\n      <td>119</td>\n      <td>154</td>\n      <td>105</td>\n    </tr>\n    <tr>\n      <th>51487</th>\n      <td>3322765040</td>\n      <td>1504029863961</td>\n      <td>2156</td>\n      <td>9</td>\n      <td>2</td>\n      <td>2</td>\n      <td>2</td>\n      <td>2</td>\n      <td>0</td>\n      <td>1</td>\n      <td>...</td>\n      <td>10</td>\n      <td>2</td>\n      <td>0</td>\n      <td>2</td>\n      <td>0</td>\n      <td>113</td>\n      <td>122</td>\n      <td>53</td>\n      <td>11</td>\n      <td>157</td>\n    </tr>\n    <tr>\n      <th>51488</th>\n      <td>3256675373</td>\n      <td>1499562036246</td>\n      <td>1475</td>\n      <td>9</td>\n      <td>2</td>\n      <td>2</td>\n      <td>2</td>\n      <td>2</td>\n      <td>0</td>\n      <td>2</td>\n      <td>...</td>\n      <td>11</td>\n      <td>3</td>\n      <td>0</td>\n      <td>1</td>\n      <td>0</td>\n      <td>154</td>\n      <td>39</td>\n      <td>51</td>\n      <td>90</td>\n      <td>114</td>\n    </tr>\n    <tr>\n      <th>51489</th>\n      <td>3317333020</td>\n      <td>1503612754059</td>\n      <td>1445</td>\n      <td>9</td>\n      <td>1</td>\n      <td>1</td>\n      <td>1</td>\n      <td>1</td>\n      <td>1</td>\n      <td>2</td>\n      <td>...</td>\n      <td>1</td>\n      <td>0</td>\n      <td>0</td>\n      <td>1</td>\n      <td>0</td>\n      <td>11</td>\n      <td>157</td>\n      <td>141</td>\n      <td>31</td>\n      <td>18</td>\n    </tr>\n  </tbody>\n</table>\n<p>51490 rows × 61 columns</p>\n</div>"
     },
     "execution_count": 36,
     "metadata": {},
     "output_type": "execute_result"
    }
   ],
   "source": [
    "df"
   ],
   "metadata": {
    "collapsed": false,
    "pycharm": {
     "name": "#%%\n"
    }
   }
  },
  {
   "cell_type": "code",
   "execution_count": 37,
   "outputs": [
    {
     "data": {
      "text/plain": "pandas.core.frame.DataFrame"
     },
     "execution_count": 37,
     "metadata": {},
     "output_type": "execute_result"
    }
   ],
   "source": [
    "type(df)"
   ],
   "metadata": {
    "collapsed": false,
    "pycharm": {
     "name": "#%%\n"
    }
   }
  },
  {
   "cell_type": "markdown",
   "source": [
    "## 2. 데이터의 상위 10개 행을 출력\n"
   ],
   "metadata": {
    "collapsed": false
   }
  },
  {
   "cell_type": "code",
   "execution_count": 38,
   "outputs": [],
   "source": [
    "df_10 = df.head(10)"
   ],
   "metadata": {
    "collapsed": false,
    "pycharm": {
     "name": "#%%\n"
    }
   }
  },
  {
   "cell_type": "code",
   "execution_count": 39,
   "outputs": [
    {
     "data": {
      "text/plain": "       gameId   creationTime  gameDuration  seasonId  winner  firstBlood  \\\n0  3326086514  1504279457970          1949         9       1           2   \n1  3229566029  1497848803862          1851         9       1           1   \n2  3327363504  1504360103310          1493         9       1           2   \n3  3326856598  1504348503996          1758         9       1           1   \n4  3330080762  1504554410899          2094         9       1           2   \n5  3287435705  1501667992132          2059         9       1           2   \n6  3314215542  1503430065724          1993         9       1           1   \n7  3329224025  1504472363684          1334         9       1           1   \n8  3318040883  1503686577549          1387         9       2           2   \n9  3327786881  1504385918871          2681         9       2           2   \n\n   firstTower  firstInhibitor  firstBaron  firstDragon  ...  t2_towerKills  \\\n0           1               1           1            1  ...              5   \n1           1               1           0            1  ...              2   \n2           1               1           1            2  ...              2   \n3           1               1           1            1  ...              0   \n4           1               1           1            1  ...              3   \n5           2               1           1            2  ...              6   \n6           2               1           1            1  ...              2   \n7           1               0           0            2  ...              0   \n8           2               2           0            2  ...              8   \n9           2               2           2            2  ...              8   \n\n   t2_inhibitorKills  t2_baronKills  t2_dragonKills  t2_riftHeraldKills  \\\n0                  0              0               1                   1   \n1                  0              0               0                   0   \n2                  0              0               1                   0   \n3                  0              0               0                   0   \n4                  0              0               1                   0   \n5                  0              0               3                   0   \n6                  0              0               0                   0   \n7                  0              0               2                   0   \n8                  1              0               2                   1   \n9                  3              1               2                   0   \n\n   t2_ban1  t2_ban2  t2_ban3  t2_ban4  t2_ban5  \n0      114       67       43       16       51  \n1       11       67      238       51      420  \n2      157      238      121       57       28  \n3      164       18      141       40       51  \n4       86       11      201      122       18  \n5      119      134      154       63       31  \n6       75       42       31       40      429  \n7      157       38      122       40      238  \n8       28       51       53      157       40  \n9       64      141       84       67       53  \n\n[10 rows x 61 columns]",
      "text/html": "<div>\n<style scoped>\n    .dataframe tbody tr th:only-of-type {\n        vertical-align: middle;\n    }\n\n    .dataframe tbody tr th {\n        vertical-align: top;\n    }\n\n    .dataframe thead th {\n        text-align: right;\n    }\n</style>\n<table border=\"1\" class=\"dataframe\">\n  <thead>\n    <tr style=\"text-align: right;\">\n      <th></th>\n      <th>gameId</th>\n      <th>creationTime</th>\n      <th>gameDuration</th>\n      <th>seasonId</th>\n      <th>winner</th>\n      <th>firstBlood</th>\n      <th>firstTower</th>\n      <th>firstInhibitor</th>\n      <th>firstBaron</th>\n      <th>firstDragon</th>\n      <th>...</th>\n      <th>t2_towerKills</th>\n      <th>t2_inhibitorKills</th>\n      <th>t2_baronKills</th>\n      <th>t2_dragonKills</th>\n      <th>t2_riftHeraldKills</th>\n      <th>t2_ban1</th>\n      <th>t2_ban2</th>\n      <th>t2_ban3</th>\n      <th>t2_ban4</th>\n      <th>t2_ban5</th>\n    </tr>\n  </thead>\n  <tbody>\n    <tr>\n      <th>0</th>\n      <td>3326086514</td>\n      <td>1504279457970</td>\n      <td>1949</td>\n      <td>9</td>\n      <td>1</td>\n      <td>2</td>\n      <td>1</td>\n      <td>1</td>\n      <td>1</td>\n      <td>1</td>\n      <td>...</td>\n      <td>5</td>\n      <td>0</td>\n      <td>0</td>\n      <td>1</td>\n      <td>1</td>\n      <td>114</td>\n      <td>67</td>\n      <td>43</td>\n      <td>16</td>\n      <td>51</td>\n    </tr>\n    <tr>\n      <th>1</th>\n      <td>3229566029</td>\n      <td>1497848803862</td>\n      <td>1851</td>\n      <td>9</td>\n      <td>1</td>\n      <td>1</td>\n      <td>1</td>\n      <td>1</td>\n      <td>0</td>\n      <td>1</td>\n      <td>...</td>\n      <td>2</td>\n      <td>0</td>\n      <td>0</td>\n      <td>0</td>\n      <td>0</td>\n      <td>11</td>\n      <td>67</td>\n      <td>238</td>\n      <td>51</td>\n      <td>420</td>\n    </tr>\n    <tr>\n      <th>2</th>\n      <td>3327363504</td>\n      <td>1504360103310</td>\n      <td>1493</td>\n      <td>9</td>\n      <td>1</td>\n      <td>2</td>\n      <td>1</td>\n      <td>1</td>\n      <td>1</td>\n      <td>2</td>\n      <td>...</td>\n      <td>2</td>\n      <td>0</td>\n      <td>0</td>\n      <td>1</td>\n      <td>0</td>\n      <td>157</td>\n      <td>238</td>\n      <td>121</td>\n      <td>57</td>\n      <td>28</td>\n    </tr>\n    <tr>\n      <th>3</th>\n      <td>3326856598</td>\n      <td>1504348503996</td>\n      <td>1758</td>\n      <td>9</td>\n      <td>1</td>\n      <td>1</td>\n      <td>1</td>\n      <td>1</td>\n      <td>1</td>\n      <td>1</td>\n      <td>...</td>\n      <td>0</td>\n      <td>0</td>\n      <td>0</td>\n      <td>0</td>\n      <td>0</td>\n      <td>164</td>\n      <td>18</td>\n      <td>141</td>\n      <td>40</td>\n      <td>51</td>\n    </tr>\n    <tr>\n      <th>4</th>\n      <td>3330080762</td>\n      <td>1504554410899</td>\n      <td>2094</td>\n      <td>9</td>\n      <td>1</td>\n      <td>2</td>\n      <td>1</td>\n      <td>1</td>\n      <td>1</td>\n      <td>1</td>\n      <td>...</td>\n      <td>3</td>\n      <td>0</td>\n      <td>0</td>\n      <td>1</td>\n      <td>0</td>\n      <td>86</td>\n      <td>11</td>\n      <td>201</td>\n      <td>122</td>\n      <td>18</td>\n    </tr>\n    <tr>\n      <th>5</th>\n      <td>3287435705</td>\n      <td>1501667992132</td>\n      <td>2059</td>\n      <td>9</td>\n      <td>1</td>\n      <td>2</td>\n      <td>2</td>\n      <td>1</td>\n      <td>1</td>\n      <td>2</td>\n      <td>...</td>\n      <td>6</td>\n      <td>0</td>\n      <td>0</td>\n      <td>3</td>\n      <td>0</td>\n      <td>119</td>\n      <td>134</td>\n      <td>154</td>\n      <td>63</td>\n      <td>31</td>\n    </tr>\n    <tr>\n      <th>6</th>\n      <td>3314215542</td>\n      <td>1503430065724</td>\n      <td>1993</td>\n      <td>9</td>\n      <td>1</td>\n      <td>1</td>\n      <td>2</td>\n      <td>1</td>\n      <td>1</td>\n      <td>1</td>\n      <td>...</td>\n      <td>2</td>\n      <td>0</td>\n      <td>0</td>\n      <td>0</td>\n      <td>0</td>\n      <td>75</td>\n      <td>42</td>\n      <td>31</td>\n      <td>40</td>\n      <td>429</td>\n    </tr>\n    <tr>\n      <th>7</th>\n      <td>3329224025</td>\n      <td>1504472363684</td>\n      <td>1334</td>\n      <td>9</td>\n      <td>1</td>\n      <td>1</td>\n      <td>1</td>\n      <td>0</td>\n      <td>0</td>\n      <td>2</td>\n      <td>...</td>\n      <td>0</td>\n      <td>0</td>\n      <td>0</td>\n      <td>2</td>\n      <td>0</td>\n      <td>157</td>\n      <td>38</td>\n      <td>122</td>\n      <td>40</td>\n      <td>238</td>\n    </tr>\n    <tr>\n      <th>8</th>\n      <td>3318040883</td>\n      <td>1503686577549</td>\n      <td>1387</td>\n      <td>9</td>\n      <td>2</td>\n      <td>2</td>\n      <td>2</td>\n      <td>2</td>\n      <td>0</td>\n      <td>2</td>\n      <td>...</td>\n      <td>8</td>\n      <td>1</td>\n      <td>0</td>\n      <td>2</td>\n      <td>1</td>\n      <td>28</td>\n      <td>51</td>\n      <td>53</td>\n      <td>157</td>\n      <td>40</td>\n    </tr>\n    <tr>\n      <th>9</th>\n      <td>3327786881</td>\n      <td>1504385918871</td>\n      <td>2681</td>\n      <td>9</td>\n      <td>2</td>\n      <td>2</td>\n      <td>2</td>\n      <td>2</td>\n      <td>2</td>\n      <td>2</td>\n      <td>...</td>\n      <td>8</td>\n      <td>3</td>\n      <td>1</td>\n      <td>2</td>\n      <td>0</td>\n      <td>64</td>\n      <td>141</td>\n      <td>84</td>\n      <td>67</td>\n      <td>53</td>\n    </tr>\n  </tbody>\n</table>\n<p>10 rows × 61 columns</p>\n</div>"
     },
     "execution_count": 39,
     "metadata": {},
     "output_type": "execute_result"
    }
   ],
   "source": [
    "df_10"
   ],
   "metadata": {
    "collapsed": false,
    "pycharm": {
     "name": "#%%\n"
    }
   }
  },
  {
   "cell_type": "markdown",
   "source": [
    "## 3. 데이터의 행과 열의 갯수 확인하기"
   ],
   "metadata": {
    "collapsed": false
   }
  },
  {
   "cell_type": "code",
   "execution_count": 40,
   "outputs": [
    {
     "name": "stdout",
     "output_type": "stream",
     "text": [
      "(51490, 61)\n",
      "행: 51490\n",
      "열: 61\n"
     ]
    }
   ],
   "source": [
    "print(df.shape)\n",
    "print('행:',df.shape[0])\n",
    "print('열:',df.shape[1])"
   ],
   "metadata": {
    "collapsed": false,
    "pycharm": {
     "name": "#%%\n"
    }
   }
  },
  {
   "cell_type": "markdown",
   "source": [
    "## 4. df가 가진 컬럼명 출력하기"
   ],
   "metadata": {
    "collapsed": false
   }
  },
  {
   "cell_type": "code",
   "execution_count": 41,
   "outputs": [],
   "source": [
    "df_columns = df.columns"
   ],
   "metadata": {
    "collapsed": false,
    "pycharm": {
     "name": "#%%\n"
    }
   }
  },
  {
   "cell_type": "code",
   "execution_count": 42,
   "outputs": [
    {
     "data": {
      "text/plain": "Index(['gameId', 'creationTime', 'gameDuration', 'seasonId', 'winner',\n       'firstBlood', 'firstTower', 'firstInhibitor', 'firstBaron',\n       'firstDragon', 'firstRiftHerald', 't1_champ1id', 't1_champ1_sum1',\n       't1_champ1_sum2', 't1_champ2id', 't1_champ2_sum1', 't1_champ2_sum2',\n       't1_champ3id', 't1_champ3_sum1', 't1_champ3_sum2', 't1_champ4id',\n       't1_champ4_sum1', 't1_champ4_sum2', 't1_champ5id', 't1_champ5_sum1',\n       't1_champ5_sum2', 't1_towerKills', 't1_inhibitorKills', 't1_baronKills',\n       't1_dragonKills', 't1_riftHeraldKills', 't1_ban1', 't1_ban2', 't1_ban3',\n       't1_ban4', 't1_ban5', 't2_champ1id', 't2_champ1_sum1', 't2_champ1_sum2',\n       't2_champ2id', 't2_champ2_sum1', 't2_champ2_sum2', 't2_champ3id',\n       't2_champ3_sum1', 't2_champ3_sum2', 't2_champ4id', 't2_champ4_sum1',\n       't2_champ4_sum2', 't2_champ5id', 't2_champ5_sum1', 't2_champ5_sum2',\n       't2_towerKills', 't2_inhibitorKills', 't2_baronKills', 't2_dragonKills',\n       't2_riftHeraldKills', 't2_ban1', 't2_ban2', 't2_ban3', 't2_ban4',\n       't2_ban5'],\n      dtype='object')"
     },
     "execution_count": 42,
     "metadata": {},
     "output_type": "execute_result"
    }
   ],
   "source": [
    "df_columns"
   ],
   "metadata": {
    "collapsed": false,
    "pycharm": {
     "name": "#%%\n"
    }
   }
  },
  {
   "cell_type": "markdown",
   "source": [
    "## 5. 6번째 컬럼명 출력하기"
   ],
   "metadata": {
    "collapsed": false
   }
  },
  {
   "cell_type": "code",
   "execution_count": 43,
   "outputs": [],
   "source": [
    "df_columns_5 = df.columns[5]"
   ],
   "metadata": {
    "collapsed": false,
    "pycharm": {
     "name": "#%%\n"
    }
   }
  },
  {
   "cell_type": "code",
   "execution_count": 44,
   "outputs": [
    {
     "name": "stdout",
     "output_type": "stream",
     "text": [
      "firstBlood\n",
      "firstBlood\n"
     ]
    }
   ],
   "source": [
    "print(df_columns_5)\n",
    "\n",
    "print(df_columns[5])"
   ],
   "metadata": {
    "collapsed": false,
    "pycharm": {
     "name": "#%%\n"
    }
   }
  },
  {
   "cell_type": "markdown",
   "source": [
    "## 6. 6번째 컬럼의 데이터 타입 확인하기\n"
   ],
   "metadata": {
    "collapsed": false
   }
  },
  {
   "cell_type": "code",
   "execution_count": 45,
   "outputs": [],
   "source": [
    "columns_6_dtype = df.iloc[:,5].dtype\n"
   ],
   "metadata": {
    "collapsed": false,
    "pycharm": {
     "name": "#%%\n"
    }
   }
  },
  {
   "cell_type": "code",
   "execution_count": 46,
   "outputs": [
    {
     "data": {
      "text/plain": "dtype('int64')"
     },
     "execution_count": 46,
     "metadata": {},
     "output_type": "execute_result"
    }
   ],
   "source": [
    "columns_6_dtype"
   ],
   "metadata": {
    "collapsed": false,
    "pycharm": {
     "name": "#%%\n"
    }
   }
  },
  {
   "cell_type": "markdown",
   "source": [
    "## 7. 데이터셋의 인덱스 구성 확인\n"
   ],
   "metadata": {
    "collapsed": false
   }
  },
  {
   "cell_type": "code",
   "execution_count": 47,
   "outputs": [],
   "source": [
    "df_index = df.index"
   ],
   "metadata": {
    "collapsed": false,
    "pycharm": {
     "name": "#%%\n"
    }
   }
  },
  {
   "cell_type": "code",
   "execution_count": 48,
   "outputs": [
    {
     "data": {
      "text/plain": "RangeIndex(start=0, stop=51490, step=1)"
     },
     "execution_count": 48,
     "metadata": {},
     "output_type": "execute_result"
    }
   ],
   "source": [
    "df_index"
   ],
   "metadata": {
    "collapsed": false,
    "pycharm": {
     "name": "#%%\n"
    }
   }
  },
  {
   "cell_type": "markdown",
   "source": [
    "## 8. 6번째 컬럼의 2번째 값은 무엇인지 출력\n"
   ],
   "metadata": {
    "collapsed": false
   }
  },
  {
   "cell_type": "code",
   "execution_count": 49,
   "outputs": [],
   "source": [
    "columns_6_value_2 = df.iloc[1,5]"
   ],
   "metadata": {
    "collapsed": false,
    "pycharm": {
     "name": "#%%\n"
    }
   }
  },
  {
   "cell_type": "code",
   "execution_count": 50,
   "outputs": [
    {
     "data": {
      "text/plain": "1"
     },
     "execution_count": 50,
     "metadata": {},
     "output_type": "execute_result"
    }
   ],
   "source": [
    "columns_6_value_2"
   ],
   "metadata": {
    "collapsed": false,
    "pycharm": {
     "name": "#%%\n"
    }
   }
  },
  {
   "cell_type": "markdown",
   "source": [
    "- 제주 날씨,인구에 따른 교통량데이터 : 출처 제주 데이터 허브\n",
    "- DataUrl :'https://raw.githubusercontent.com/Datamanim/pandas/main/Jeju.csv'\n"
   ],
   "metadata": {
    "collapsed": false
   }
  },
  {
   "cell_type": "markdown",
   "source": [
    "```{admonition} Question 9\n",
    "**데이터를 로드하라. 컬럼이 한글임**\n",
    "```"
   ],
   "metadata": {
    "collapsed": false
   }
  },
  {
   "cell_type": "code",
   "execution_count": 58,
   "outputs": [],
   "source": [
    "DataUrl = 'https://raw.githubusercontent.com/Datamanim/pandas/main/Jeju.csv'\n",
    "df = pd.read_csv(DataUrl,encoding='euc-kr')"
   ],
   "metadata": {
    "collapsed": false,
    "pycharm": {
     "name": "#%%\n"
    }
   }
  },
  {
   "cell_type": "code",
   "execution_count": 59,
   "outputs": [
    {
     "data": {
      "text/plain": "pandas.core.frame.DataFrame"
     },
     "execution_count": 59,
     "metadata": {},
     "output_type": "execute_result"
    }
   ],
   "source": [
    "type(df)"
   ],
   "metadata": {
    "collapsed": false,
    "pycharm": {
     "name": "#%%\n"
    }
   }
  },
  {
   "cell_type": "markdown",
   "source": [
    "## 10. 데이터 마지막 4개행을 출력"
   ],
   "metadata": {
    "collapsed": false
   }
  },
  {
   "cell_type": "code",
   "execution_count": 60,
   "outputs": [],
   "source": [
    "dftail_4 = df.tail(4)"
   ],
   "metadata": {
    "collapsed": false,
    "pycharm": {
     "name": "#%%\n"
    }
   }
  },
  {
   "cell_type": "code",
   "execution_count": 61,
   "outputs": [
    {
     "data": {
      "text/plain": "         id          일자   시도명 읍면동명         거주인구       근무인구        방문인구  \\\n9617  32065  2020-04-30   제주시  한림읍   459959.064  26007.122  249700.419   \n9618  32066  2020-04-30   제주시  도두동    28397.481   3144.895   84052.697   \n9619  32067  2020-04-30  서귀포시  안덕면   348037.846  29106.286  251129.660   \n9620  32068  2020-04-30   제주시   연동  1010643.372  65673.477  447622.068   \n\n           총 유동인구   평균 속도  평균 소요 시간  평균 기온  일강수량  평균 풍속  \n9617   735666.605  48.609    61.377   18.0   0.0   4.35  \n9618   115595.073  41.053    29.421   20.3   0.0   3.00  \n9619   628273.792  46.595    49.189   17.6   0.0   3.50  \n9620  1523938.917  40.863    27.765   14.1   0.0   4.80  ",
      "text/html": "<div>\n<style scoped>\n    .dataframe tbody tr th:only-of-type {\n        vertical-align: middle;\n    }\n\n    .dataframe tbody tr th {\n        vertical-align: top;\n    }\n\n    .dataframe thead th {\n        text-align: right;\n    }\n</style>\n<table border=\"1\" class=\"dataframe\">\n  <thead>\n    <tr style=\"text-align: right;\">\n      <th></th>\n      <th>id</th>\n      <th>일자</th>\n      <th>시도명</th>\n      <th>읍면동명</th>\n      <th>거주인구</th>\n      <th>근무인구</th>\n      <th>방문인구</th>\n      <th>총 유동인구</th>\n      <th>평균 속도</th>\n      <th>평균 소요 시간</th>\n      <th>평균 기온</th>\n      <th>일강수량</th>\n      <th>평균 풍속</th>\n    </tr>\n  </thead>\n  <tbody>\n    <tr>\n      <th>9617</th>\n      <td>32065</td>\n      <td>2020-04-30</td>\n      <td>제주시</td>\n      <td>한림읍</td>\n      <td>459959.064</td>\n      <td>26007.122</td>\n      <td>249700.419</td>\n      <td>735666.605</td>\n      <td>48.609</td>\n      <td>61.377</td>\n      <td>18.0</td>\n      <td>0.0</td>\n      <td>4.35</td>\n    </tr>\n    <tr>\n      <th>9618</th>\n      <td>32066</td>\n      <td>2020-04-30</td>\n      <td>제주시</td>\n      <td>도두동</td>\n      <td>28397.481</td>\n      <td>3144.895</td>\n      <td>84052.697</td>\n      <td>115595.073</td>\n      <td>41.053</td>\n      <td>29.421</td>\n      <td>20.3</td>\n      <td>0.0</td>\n      <td>3.00</td>\n    </tr>\n    <tr>\n      <th>9619</th>\n      <td>32067</td>\n      <td>2020-04-30</td>\n      <td>서귀포시</td>\n      <td>안덕면</td>\n      <td>348037.846</td>\n      <td>29106.286</td>\n      <td>251129.660</td>\n      <td>628273.792</td>\n      <td>46.595</td>\n      <td>49.189</td>\n      <td>17.6</td>\n      <td>0.0</td>\n      <td>3.50</td>\n    </tr>\n    <tr>\n      <th>9620</th>\n      <td>32068</td>\n      <td>2020-04-30</td>\n      <td>제주시</td>\n      <td>연동</td>\n      <td>1010643.372</td>\n      <td>65673.477</td>\n      <td>447622.068</td>\n      <td>1523938.917</td>\n      <td>40.863</td>\n      <td>27.765</td>\n      <td>14.1</td>\n      <td>0.0</td>\n      <td>4.80</td>\n    </tr>\n  </tbody>\n</table>\n</div>"
     },
     "execution_count": 61,
     "metadata": {},
     "output_type": "execute_result"
    }
   ],
   "source": [
    "dftail_4"
   ],
   "metadata": {
    "collapsed": false,
    "pycharm": {
     "name": "#%%\n"
    }
   }
  },
  {
   "cell_type": "markdown",
   "source": [
    "## 11. 수치형 변수를 가진 컬럼을 출력\n"
   ],
   "metadata": {
    "collapsed": false
   }
  },
  {
   "cell_type": "code",
   "execution_count": 63,
   "outputs": [],
   "source": [
    "# select_dtypes()\n",
    "#  object형과 숫자형 데이터를 구분해서 호출할 때 주로 사용\n",
    "# include, exclude\n",
    "#포함 / 제외 할 dtype 또는 문자열 선택\n",
    "num_col = df.select_dtypes(exclude=object).columns\n",
    "\n"
   ],
   "metadata": {
    "collapsed": false,
    "pycharm": {
     "name": "#%%\n"
    }
   }
  },
  {
   "cell_type": "code",
   "execution_count": 64,
   "outputs": [
    {
     "data": {
      "text/plain": "Index(['id', '거주인구', '근무인구', '방문인구', '총 유동인구', '평균 속도', '평균 소요 시간', '평균 기온',\n       '일강수량', '평균 풍속'],\n      dtype='object')"
     },
     "execution_count": 64,
     "metadata": {},
     "output_type": "execute_result"
    }
   ],
   "source": [
    "num_col"
   ],
   "metadata": {
    "collapsed": false,
    "pycharm": {
     "name": "#%%\n"
    }
   }
  },
  {
   "cell_type": "markdown",
   "source": [
    "## 12. 범주형 변수를 가진 컬럼을 출력하라\n"
   ],
   "metadata": {
    "collapsed": false
   }
  },
  {
   "cell_type": "code",
   "execution_count": 66,
   "outputs": [],
   "source": [
    "obj_col =df.select_dtypes(include=object).columns"
   ],
   "metadata": {
    "collapsed": false,
    "pycharm": {
     "name": "#%%\n"
    }
   }
  },
  {
   "cell_type": "code",
   "execution_count": 67,
   "outputs": [
    {
     "data": {
      "text/plain": "Index(['일자', '시도명', '읍면동명'], dtype='object')"
     },
     "execution_count": 67,
     "metadata": {},
     "output_type": "execute_result"
    }
   ],
   "source": [
    "obj_col"
   ],
   "metadata": {
    "collapsed": false,
    "pycharm": {
     "name": "#%%\n"
    }
   }
  },
  {
   "cell_type": "markdown",
   "source": [
    "## 13. 각 컬럼의 결측치 숫자를 파악\n"
   ],
   "metadata": {
    "collapsed": false
   }
  },
  {
   "cell_type": "code",
   "execution_count": 68,
   "outputs": [],
   "source": [
    "df_null_sum = df.isnull().sum()\n"
   ],
   "metadata": {
    "collapsed": false,
    "pycharm": {
     "name": "#%%\n"
    }
   }
  },
  {
   "cell_type": "code",
   "execution_count": 69,
   "outputs": [
    {
     "data": {
      "text/plain": "id          0\n일자          0\n시도명         0\n읍면동명        0\n거주인구        0\n근무인구        0\n방문인구        0\n총 유동인구      0\n평균 속도       0\n평균 소요 시간    0\n평균 기온       0\n일강수량        0\n평균 풍속       0\ndtype: int64"
     },
     "execution_count": 69,
     "metadata": {},
     "output_type": "execute_result"
    }
   ],
   "source": [
    "df_null_sum"
   ],
   "metadata": {
    "collapsed": false,
    "pycharm": {
     "name": "#%%\n"
    }
   }
  },
  {
   "cell_type": "markdown",
   "source": [
    "## 14. 각 컬럼의 데이터수, 데이터타입을 한번에 확인\n"
   ],
   "metadata": {
    "collapsed": false
   }
  },
  {
   "cell_type": "code",
   "execution_count": 70,
   "outputs": [
    {
     "name": "stdout",
     "output_type": "stream",
     "text": [
      "<class 'pandas.core.frame.DataFrame'>\n",
      "RangeIndex: 9621 entries, 0 to 9620\n",
      "Data columns (total 13 columns):\n",
      " #   Column    Non-Null Count  Dtype  \n",
      "---  ------    --------------  -----  \n",
      " 0   id        9621 non-null   int64  \n",
      " 1   일자        9621 non-null   object \n",
      " 2   시도명       9621 non-null   object \n",
      " 3   읍면동명      9621 non-null   object \n",
      " 4   거주인구      9621 non-null   float64\n",
      " 5   근무인구      9621 non-null   float64\n",
      " 6   방문인구      9621 non-null   float64\n",
      " 7   총 유동인구    9621 non-null   float64\n",
      " 8   평균 속도     9621 non-null   float64\n",
      " 9   평균 소요 시간  9621 non-null   float64\n",
      " 10  평균 기온     9621 non-null   float64\n",
      " 11  일강수량      9621 non-null   float64\n",
      " 12  평균 풍속     9621 non-null   float64\n",
      "dtypes: float64(9), int64(1), object(3)\n",
      "memory usage: 977.3+ KB\n"
     ]
    }
   ],
   "source": [
    "df.info()"
   ],
   "metadata": {
    "collapsed": false,
    "pycharm": {
     "name": "#%%\n"
    }
   }
  },
  {
   "cell_type": "markdown",
   "source": [
    "##  15. 각 수치형 변수의 분포(사분위, 평균, 표준편차, 최대 , 최소)를 확인\n"
   ],
   "metadata": {
    "collapsed": false
   }
  },
  {
   "cell_type": "code",
   "execution_count": 71,
   "outputs": [],
   "source": [
    "Ans = df.describe()"
   ],
   "metadata": {
    "collapsed": false,
    "pycharm": {
     "name": "#%%\n"
    }
   }
  },
  {
   "cell_type": "code",
   "execution_count": 72,
   "outputs": [
    {
     "data": {
      "text/plain": "                 id          거주인구           근무인구           방문인구        총 유동인구  \\\ncount   9621.000000  9.621000e+03    9621.000000    9621.000000  9.621000e+03   \nmean   27258.000000  3.174315e+05   35471.201510  195889.561802  5.487922e+05   \nstd     2777.487804  2.982079e+05   40381.214775  140706.090325  4.608802e+05   \nmin    22448.000000  9.305552e+03    1407.936000   11538.322000  2.225181e+04   \n25%    24853.000000  9.539939e+04   12074.498000   99632.153000  2.216910e+05   \n50%    27258.000000  2.221105e+05   21960.928000  152805.335000  3.866935e+05   \n75%    29663.000000  4.106671e+05   40192.032000  236325.109000  6.406918e+05   \nmax    32068.000000  1.364504e+06  263476.965000  723459.209000  2.066484e+06   \n\n             평균 속도     평균 소요 시간        평균 기온         일강수량        평균 풍속  \ncount  9621.000000  9621.000000  9621.000000  9621.000000  9621.000000  \nmean     41.109084    37.215873    13.550828     6.972426     2.753171  \nstd       8.758631    12.993786     7.745515    27.617260     1.498538  \nmin      24.333000    12.667000    -9.600000     0.000000     0.000000  \n25%      34.250000    27.889000     7.600000     0.000000     1.700000  \n50%      39.640000    34.500000    13.400000     0.000000     2.400000  \n75%      49.105000    46.176000    19.700000     1.500000     3.400000  \nmax     103.000000   172.200000    30.400000   587.500000    13.333000  ",
      "text/html": "<div>\n<style scoped>\n    .dataframe tbody tr th:only-of-type {\n        vertical-align: middle;\n    }\n\n    .dataframe tbody tr th {\n        vertical-align: top;\n    }\n\n    .dataframe thead th {\n        text-align: right;\n    }\n</style>\n<table border=\"1\" class=\"dataframe\">\n  <thead>\n    <tr style=\"text-align: right;\">\n      <th></th>\n      <th>id</th>\n      <th>거주인구</th>\n      <th>근무인구</th>\n      <th>방문인구</th>\n      <th>총 유동인구</th>\n      <th>평균 속도</th>\n      <th>평균 소요 시간</th>\n      <th>평균 기온</th>\n      <th>일강수량</th>\n      <th>평균 풍속</th>\n    </tr>\n  </thead>\n  <tbody>\n    <tr>\n      <th>count</th>\n      <td>9621.000000</td>\n      <td>9.621000e+03</td>\n      <td>9621.000000</td>\n      <td>9621.000000</td>\n      <td>9.621000e+03</td>\n      <td>9621.000000</td>\n      <td>9621.000000</td>\n      <td>9621.000000</td>\n      <td>9621.000000</td>\n      <td>9621.000000</td>\n    </tr>\n    <tr>\n      <th>mean</th>\n      <td>27258.000000</td>\n      <td>3.174315e+05</td>\n      <td>35471.201510</td>\n      <td>195889.561802</td>\n      <td>5.487922e+05</td>\n      <td>41.109084</td>\n      <td>37.215873</td>\n      <td>13.550828</td>\n      <td>6.972426</td>\n      <td>2.753171</td>\n    </tr>\n    <tr>\n      <th>std</th>\n      <td>2777.487804</td>\n      <td>2.982079e+05</td>\n      <td>40381.214775</td>\n      <td>140706.090325</td>\n      <td>4.608802e+05</td>\n      <td>8.758631</td>\n      <td>12.993786</td>\n      <td>7.745515</td>\n      <td>27.617260</td>\n      <td>1.498538</td>\n    </tr>\n    <tr>\n      <th>min</th>\n      <td>22448.000000</td>\n      <td>9.305552e+03</td>\n      <td>1407.936000</td>\n      <td>11538.322000</td>\n      <td>2.225181e+04</td>\n      <td>24.333000</td>\n      <td>12.667000</td>\n      <td>-9.600000</td>\n      <td>0.000000</td>\n      <td>0.000000</td>\n    </tr>\n    <tr>\n      <th>25%</th>\n      <td>24853.000000</td>\n      <td>9.539939e+04</td>\n      <td>12074.498000</td>\n      <td>99632.153000</td>\n      <td>2.216910e+05</td>\n      <td>34.250000</td>\n      <td>27.889000</td>\n      <td>7.600000</td>\n      <td>0.000000</td>\n      <td>1.700000</td>\n    </tr>\n    <tr>\n      <th>50%</th>\n      <td>27258.000000</td>\n      <td>2.221105e+05</td>\n      <td>21960.928000</td>\n      <td>152805.335000</td>\n      <td>3.866935e+05</td>\n      <td>39.640000</td>\n      <td>34.500000</td>\n      <td>13.400000</td>\n      <td>0.000000</td>\n      <td>2.400000</td>\n    </tr>\n    <tr>\n      <th>75%</th>\n      <td>29663.000000</td>\n      <td>4.106671e+05</td>\n      <td>40192.032000</td>\n      <td>236325.109000</td>\n      <td>6.406918e+05</td>\n      <td>49.105000</td>\n      <td>46.176000</td>\n      <td>19.700000</td>\n      <td>1.500000</td>\n      <td>3.400000</td>\n    </tr>\n    <tr>\n      <th>max</th>\n      <td>32068.000000</td>\n      <td>1.364504e+06</td>\n      <td>263476.965000</td>\n      <td>723459.209000</td>\n      <td>2.066484e+06</td>\n      <td>103.000000</td>\n      <td>172.200000</td>\n      <td>30.400000</td>\n      <td>587.500000</td>\n      <td>13.333000</td>\n    </tr>\n  </tbody>\n</table>\n</div>"
     },
     "execution_count": 72,
     "metadata": {},
     "output_type": "execute_result"
    }
   ],
   "source": [
    "Ans"
   ],
   "metadata": {
    "collapsed": false,
    "pycharm": {
     "name": "#%%\n"
    }
   }
  },
  {
   "cell_type": "markdown",
   "source": [
    "## 16. 거주인구 컬럼의 값들을 출력하라"
   ],
   "metadata": {
    "collapsed": false
   }
  },
  {
   "cell_type": "code",
   "execution_count": 73,
   "outputs": [],
   "source": [
    "df_거주인구 = df['거주인구']"
   ],
   "metadata": {
    "collapsed": false,
    "pycharm": {
     "name": "#%%\n"
    }
   }
  },
  {
   "cell_type": "code",
   "execution_count": 74,
   "outputs": [
    {
     "data": {
      "text/plain": "0         32249.987\n1        213500.997\n2       1212382.218\n3         33991.653\n4        155036.925\n           ...     \n9616     228260.005\n9617     459959.064\n9618      28397.481\n9619     348037.846\n9620    1010643.372\nName: 거주인구, Length: 9621, dtype: float64"
     },
     "execution_count": 74,
     "metadata": {},
     "output_type": "execute_result"
    }
   ],
   "source": [
    "df_거주인구"
   ],
   "metadata": {
    "collapsed": false,
    "pycharm": {
     "name": "#%%\n"
    }
   }
  },
  {
   "cell_type": "markdown",
   "source": [
    "## 17. 평균 속도 컬럼의 4분위 범위(IQR) 값을 구하여라\n"
   ],
   "metadata": {
    "collapsed": false
   }
  },
  {
   "cell_type": "code",
   "execution_count": 75,
   "outputs": [],
   "source": [
    "# IQR = Q3 - Q1\n",
    "\n",
    "평균속도_IQR = df['평균 속도'].quantile(0.75) - df['평균 속도'].quantile(0.25)"
   ],
   "metadata": {
    "collapsed": false,
    "pycharm": {
     "name": "#%%\n"
    }
   }
  },
  {
   "cell_type": "code",
   "execution_count": 76,
   "outputs": [
    {
     "data": {
      "text/plain": "14.854999999999997"
     },
     "execution_count": 76,
     "metadata": {},
     "output_type": "execute_result"
    }
   ],
   "source": [
    "평균속도_IQR"
   ],
   "metadata": {
    "collapsed": false,
    "pycharm": {
     "name": "#%%\n"
    }
   }
  },
  {
   "cell_type": "markdown",
   "source": [
    "## 18. 읍면동명 컬럼의 유일값 갯수를 출력하라"
   ],
   "metadata": {
    "collapsed": false
   }
  },
  {
   "cell_type": "code",
   "execution_count": 77,
   "outputs": [],
   "source": [
    "# 유일값 갯수 nunique()\n",
    "읍면동유일값개수 = df.읍면동명.nunique()"
   ],
   "metadata": {
    "collapsed": false,
    "pycharm": {
     "name": "#%%\n"
    }
   }
  },
  {
   "cell_type": "code",
   "execution_count": 78,
   "outputs": [
    {
     "data": {
      "text/plain": "41"
     },
     "execution_count": 78,
     "metadata": {},
     "output_type": "execute_result"
    }
   ],
   "source": [
    "읍면동유일값개수"
   ],
   "metadata": {
    "collapsed": false,
    "pycharm": {
     "name": "#%%\n"
    }
   }
  },
  {
   "cell_type": "markdown",
   "source": [
    "## 19.읍면동명 컬럼의 유일값을 모두 출력하라\n"
   ],
   "metadata": {
    "collapsed": false
   }
  },
  {
   "cell_type": "code",
   "execution_count": 79,
   "outputs": [],
   "source": [
    "# 유일값의 값들 출력 - unique()\n",
    "읍면동유일값 = df.읍면동명.unique()"
   ],
   "metadata": {
    "collapsed": false,
    "pycharm": {
     "name": "#%%\n"
    }
   }
  },
  {
   "cell_type": "code",
   "execution_count": 80,
   "outputs": [
    {
     "data": {
      "text/plain": "array(['도두동', '외도동', '이도2동', '일도1동', '대천동', '서홍동', '한경면', '송산동', '조천읍',\n       '일도2동', '영천동', '예래동', '대륜동', '삼도1동', '이호동', '건입동', '중앙동', '삼양동',\n       '삼도2동', '이도1동', '남원읍', '대정읍', '정방동', '효돈동', '아라동', '한림읍', '구좌읍',\n       '용담1동', '오라동', '화북동', '연동', '표선면', '중문동', '성산읍', '안덕면', '천지동',\n       '노형동', '동홍동', '용담2동', '봉개동', '애월읍'], dtype=object)"
     },
     "execution_count": 80,
     "metadata": {},
     "output_type": "execute_result"
    }
   ],
   "source": [
    "읍면동유일값\n"
   ],
   "metadata": {
    "collapsed": false,
    "pycharm": {
     "name": "#%%\n"
    }
   }
  },
  {
   "cell_type": "code",
   "execution_count": null,
   "outputs": [],
   "source": [],
   "metadata": {
    "collapsed": false,
    "pycharm": {
     "name": "#%%\n"
    }
   }
  }
 ],
 "metadata": {
  "kernelspec": {
   "display_name": "Python 3",
   "language": "python",
   "name": "python3"
  },
  "language_info": {
   "codemirror_mode": {
    "name": "ipython",
    "version": 2
   },
   "file_extension": ".py",
   "mimetype": "text/x-python",
   "name": "python",
   "nbconvert_exporter": "python",
   "pygments_lexer": "ipython2",
   "version": "2.7.6"
  }
 },
 "nbformat": 4,
 "nbformat_minor": 0
}