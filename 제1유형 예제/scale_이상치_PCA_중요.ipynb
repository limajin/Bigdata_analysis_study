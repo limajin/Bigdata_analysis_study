{
 "cells": [
  {
   "cell_type": "markdown",
   "metadata": {
    "collapsed": true,
    "pycharm": {
     "name": "#%% md\n"
    }
   },
   "source": [
    "[참고원본사이트](https://www.datamanim.com/dataset/03_dataq/main_p1.html)\n",
    "# 작업형 제 1유형 예시문제"
   ]
  },
  {
   "cell_type": "code",
   "execution_count": 1,
   "outputs": [],
   "source": [
    "import pandas as pd\n",
    "import matplotlib.pyplot as plt"
   ],
   "metadata": {
    "collapsed": false,
    "pycharm": {
     "name": "#%%\n"
    }
   }
  },
  {
   "cell_type": "code",
   "execution_count": 10,
   "outputs": [],
   "source": [
    "df = pd.read_csv('https://raw.githubusercontent.com/Datamanim/dataq/main/mtcars.csv', index_col= 0)"
   ],
   "metadata": {
    "collapsed": false,
    "pycharm": {
     "name": "#%%\n"
    }
   }
  },
  {
   "cell_type": "markdown",
   "source": [
    "## 1. **mtcars 데이터셋(mtcars.csv)의 qsec 컬럼을 최소 최대 척도(min-max scale)로 변환한 후 0.5보다 큰 값을 가지는 레코드 수를 구하시오.**"
   ],
   "metadata": {
    "collapsed": false,
    "pycharm": {
     "name": "#%% md\n"
    }
   }
  },
  {
   "cell_type": "code",
   "execution_count": 14,
   "outputs": [
    {
     "name": "stderr",
     "output_type": "stream",
     "text": [
      "C:\\Users\\aj878\\AppData\\Local\\Temp/ipykernel_19748/2477930392.py:5: FutureWarning: Using a non-tuple sequence for multidimensional indexing is deprecated; use `arr[tuple(seq)]` instead of `arr[seq]`. In the future this will be interpreted as an array index, `arr[np.array(seq)]`, which will result either in an error or a different result.\n",
      "  len(scaled[[scaled >0.5]])\n"
     ]
    },
    {
     "data": {
      "text/plain": "9"
     },
     "execution_count": 14,
     "metadata": {},
     "output_type": "execute_result"
    }
   ],
   "source": [
    "#방법 1\n",
    "from sklearn.preprocessing import MinMaxScaler\n",
    "minmax_sc = MinMaxScaler()\n",
    "minmax_sc.fit(df[['qsec']])\n",
    "scaled = minmax_sc.transform(df[['qsec']])\n",
    "len(scaled[[scaled >0.5]])"
   ],
   "metadata": {
    "collapsed": false,
    "pycharm": {
     "name": "#%%\n"
    }
   }
  },
  {
   "cell_type": "code",
   "execution_count": 21,
   "outputs": [
    {
     "data": {
      "text/plain": "9"
     },
     "execution_count": 21,
     "metadata": {},
     "output_type": "execute_result"
    }
   ],
   "source": [
    "# 방법 2\n",
    "X = df['qsec']\n",
    "# X_MinMax =(X - X.min(axis =0))/(X.max(axis=0) - X.min(axis=0))\n",
    "X_MinMax = (X - X.min(axis=0)) / (X.max(axis=0) - X.min(axis=0))\n",
    "\n",
    "len(X_MinMax[X_MinMax>0.5])\n"
   ],
   "metadata": {
    "collapsed": false,
    "pycharm": {
     "name": "#%%\n"
    }
   }
  },
  {
   "cell_type": "markdown",
   "source": [
    "## 2. **mtcars 데이터셋(mtcars.csv)의 qsec 컬럼을 표준정규분포 데이터 표준화 (standardization) 변환 후 최대, 최소값을 각각 구하시오.**\n"
   ],
   "metadata": {
    "collapsed": false,
    "pycharm": {
     "name": "#%% md\n"
    }
   }
  },
  {
   "cell_type": "code",
   "execution_count": 23,
   "outputs": [
    {
     "name": "stdout",
     "output_type": "stream",
     "text": [
      "min: -1.9039963517625231\n",
      "max: 2.8719855384368587\n"
     ]
    }
   ],
   "source": [
    "# 방법 1\n",
    "from sklearn.preprocessing import StandardScaler\n",
    "sts =StandardScaler()\n",
    "sts.fit(df[['qsec']])\n",
    "scaled_sts = sts.transform(df[['qsec']])\n",
    "print('min:',scaled_sts.min())\n",
    "print('max:',scaled_sts.max())"
   ],
   "metadata": {
    "collapsed": false,
    "pycharm": {
     "name": "#%%\n"
    }
   }
  },
  {
   "cell_type": "code",
   "execution_count": 27,
   "outputs": [
    {
     "name": "stdout",
     "output_type": "stream",
     "text": [
      "2.826754592962484 -1.8740102832334835\n"
     ]
    }
   ],
   "source": [
    "# 방법 2\n",
    "mean = df.qsec.mean()\n",
    "std = df.qsec.std()\n",
    "scale = (df.qsec-mean)/std\n",
    "\n",
    "Max = max(scale)\n",
    "Min = min(scale)\n",
    "print(Max,Min)"
   ],
   "metadata": {
    "collapsed": false,
    "pycharm": {
     "name": "#%%\n"
    }
   }
  },
  {
   "cell_type": "markdown",
   "source": [
    "## 3. **mtcars 데이터셋(mtcars.csv)의 wt 컬럼의 이상치(IQR *1.5 외부에 존재하는)값들을 outlier 변수에 저장하라**\n"
   ],
   "metadata": {
    "collapsed": false,
    "pycharm": {
     "name": "#%% md\n"
    }
   }
  },
  {
   "cell_type": "code",
   "execution_count": 30,
   "outputs": [],
   "source": [
    "Q3= df.wt.quantile(0.75)\n",
    "Q1 = df.wt.quantile(0.25)\n",
    "IQR = Q3 - Q1\n",
    "outlier = df.wt[(df.wt >= Q3 + IQR *1.5) |(df.wt <= Q1 - IQR *1.5) ]"
   ],
   "metadata": {
    "collapsed": false,
    "pycharm": {
     "name": "#%%\n"
    }
   }
  },
  {
   "cell_type": "code",
   "execution_count": 31,
   "outputs": [
    {
     "data": {
      "text/plain": "Cadillac Fleetwood     5.250\nLincoln Continental    5.424\nChrysler Imperial      5.345\nName: wt, dtype: float64"
     },
     "execution_count": 31,
     "metadata": {},
     "output_type": "execute_result"
    }
   ],
   "source": [
    "outlier"
   ],
   "metadata": {
    "collapsed": false,
    "pycharm": {
     "name": "#%%\n"
    }
   }
  },
  {
   "cell_type": "markdown",
   "source": [
    "## 4. **mtcars 데이터셋에서 mpg변수와 나머지 변수들의 상관계수를 구하여 내림차순 정렬하여 표현하라**"
   ],
   "metadata": {
    "collapsed": false,
    "pycharm": {
     "name": "#%% md\n"
    }
   }
  },
  {
   "cell_type": "code",
   "execution_count": 36,
   "outputs": [
    {
     "data": {
      "text/plain": "           mpg\ndrat  0.681172\nvs    0.664039\nam    0.599832\ngear  0.480285\nqsec  0.418684\ncarb -0.550925\nhp   -0.776168\ndisp -0.847551\ncyl  -0.852162\nwt   -0.867659",
      "text/html": "<div>\n<style scoped>\n    .dataframe tbody tr th:only-of-type {\n        vertical-align: middle;\n    }\n\n    .dataframe tbody tr th {\n        vertical-align: top;\n    }\n\n    .dataframe thead th {\n        text-align: right;\n    }\n</style>\n<table border=\"1\" class=\"dataframe\">\n  <thead>\n    <tr style=\"text-align: right;\">\n      <th></th>\n      <th>mpg</th>\n    </tr>\n  </thead>\n  <tbody>\n    <tr>\n      <th>drat</th>\n      <td>0.681172</td>\n    </tr>\n    <tr>\n      <th>vs</th>\n      <td>0.664039</td>\n    </tr>\n    <tr>\n      <th>am</th>\n      <td>0.599832</td>\n    </tr>\n    <tr>\n      <th>gear</th>\n      <td>0.480285</td>\n    </tr>\n    <tr>\n      <th>qsec</th>\n      <td>0.418684</td>\n    </tr>\n    <tr>\n      <th>carb</th>\n      <td>-0.550925</td>\n    </tr>\n    <tr>\n      <th>hp</th>\n      <td>-0.776168</td>\n    </tr>\n    <tr>\n      <th>disp</th>\n      <td>-0.847551</td>\n    </tr>\n    <tr>\n      <th>cyl</th>\n      <td>-0.852162</td>\n    </tr>\n    <tr>\n      <th>wt</th>\n      <td>-0.867659</td>\n    </tr>\n  </tbody>\n</table>\n</div>"
     },
     "execution_count": 36,
     "metadata": {},
     "output_type": "execute_result"
    }
   ],
   "source": [
    "df.corr()[['mpg']][1:].sort_values('mpg', ascending = False)"
   ],
   "metadata": {
    "collapsed": false,
    "pycharm": {
     "name": "#%%\n"
    }
   }
  },
  {
   "cell_type": "markdown",
   "source": [
    "## 5. **mtcars 데이터셋에서 mpg변수를 제외하고 데이터 정규화 (standardscaler) 과정을 진행한 이후 PCA를 통해 변수 축소를 하려한다. 누적설명 분산량이 92%를 넘기기 위해서는 몇개의 주성분을 선택해야하는지 설명하라**"
   ],
   "metadata": {
    "collapsed": false,
    "pycharm": {
     "name": "#%% md\n"
    }
   }
  },
  {
   "cell_type": "code",
   "execution_count": 43,
   "outputs": [],
   "source": [
    "df2 = df[df.columns[1:]]\n",
    "sts = StandardScaler()\n",
    "sts.fit(df2)\n",
    "scaled_sts_df2 = sts.transform(df2)\n",
    "# standard 스케일 완료"
   ],
   "metadata": {
    "collapsed": false,
    "pycharm": {
     "name": "#%%\n"
    }
   }
  },
  {
   "cell_type": "code",
   "execution_count": 76,
   "outputs": [],
   "source": [
    "# PCA 진행\n",
    "# PCA에 n_components 지정\n",
    "from sklearn.decomposition import PCA\n",
    "componentNum =10\n",
    "pca = PCA(n_components =componentNum)\n",
    "printcipalComponents = pca.fit_transform(scaled_sts_df2)\n",
    "printcipalDf = pd.DataFrame(data = printcipalComponents, columns = ['component' + str(x) for x in range(componentNum)])"
   ],
   "metadata": {
    "collapsed": false,
    "pycharm": {
     "name": "#%%\n"
    }
   }
  },
  {
   "cell_type": "code",
   "execution_count": 77,
   "outputs": [],
   "source": [
    "componentDf = pd.DataFrame(pca.explained_variance_ratio_, columns =['cumsumVariance']).cumsum().reset_index()\n",
    "componentDf['index'] +=1\n",
    "componentDf = componentDf.rename(columns = {'index':'componentCount'})"
   ],
   "metadata": {
    "collapsed": false,
    "pycharm": {
     "name": "#%%\n"
    }
   }
  },
  {
   "cell_type": "code",
   "execution_count": 78,
   "outputs": [
    {
     "data": {
      "text/plain": "   componentCount  cumsumVariance\n0               1        0.576022\n1               2        0.840986\n2               3        0.900708\n3               4        0.927658\n4               5        0.949883\n5               6        0.970895\n6               7        0.984187\n7               8        0.992255\n8               9        0.997620\n9              10        1.000000",
      "text/html": "<div>\n<style scoped>\n    .dataframe tbody tr th:only-of-type {\n        vertical-align: middle;\n    }\n\n    .dataframe tbody tr th {\n        vertical-align: top;\n    }\n\n    .dataframe thead th {\n        text-align: right;\n    }\n</style>\n<table border=\"1\" class=\"dataframe\">\n  <thead>\n    <tr style=\"text-align: right;\">\n      <th></th>\n      <th>componentCount</th>\n      <th>cumsumVariance</th>\n    </tr>\n  </thead>\n  <tbody>\n    <tr>\n      <th>0</th>\n      <td>1</td>\n      <td>0.576022</td>\n    </tr>\n    <tr>\n      <th>1</th>\n      <td>2</td>\n      <td>0.840986</td>\n    </tr>\n    <tr>\n      <th>2</th>\n      <td>3</td>\n      <td>0.900708</td>\n    </tr>\n    <tr>\n      <th>3</th>\n      <td>4</td>\n      <td>0.927658</td>\n    </tr>\n    <tr>\n      <th>4</th>\n      <td>5</td>\n      <td>0.949883</td>\n    </tr>\n    <tr>\n      <th>5</th>\n      <td>6</td>\n      <td>0.970895</td>\n    </tr>\n    <tr>\n      <th>6</th>\n      <td>7</td>\n      <td>0.984187</td>\n    </tr>\n    <tr>\n      <th>7</th>\n      <td>8</td>\n      <td>0.992255</td>\n    </tr>\n    <tr>\n      <th>8</th>\n      <td>9</td>\n      <td>0.997620</td>\n    </tr>\n    <tr>\n      <th>9</th>\n      <td>10</td>\n      <td>1.000000</td>\n    </tr>\n  </tbody>\n</table>\n</div>"
     },
     "execution_count": 78,
     "metadata": {},
     "output_type": "execute_result"
    }
   ],
   "source": [
    "componentDf"
   ],
   "metadata": {
    "collapsed": false,
    "pycharm": {
     "name": "#%%\n"
    }
   }
  },
  {
   "cell_type": "markdown",
   "source": [
    "### 6. **mtcars 의 index는 (업체명) - (모델명)으로 구성된다. (valiant는 업체명) mtcars에 'brand' 컬럼을 추가하고 value 값으로 업체명을 입력하라**\n"
   ],
   "metadata": {
    "collapsed": false,
    "pycharm": {
     "name": "#%% md\n"
    }
   }
  },
  {
   "cell_type": "code",
   "execution_count": 99,
   "outputs": [],
   "source": [
    "df['brand'] = list(pd.DataFrame(list(df.index.str.split(' ')))[0])\n",
    "# df['brand'] = pd.DataFrame(list(df.index.str.split(\" \")))[0].values"
   ],
   "metadata": {
    "collapsed": false,
    "pycharm": {
     "name": "#%%\n"
    }
   }
  },
  {
   "cell_type": "code",
   "execution_count": 100,
   "outputs": [
    {
     "data": {
      "text/plain": "                mpg  cyl   disp   hp  drat     wt   qsec  vs  am  gear  carb  \\\nMazda RX4      21.0    6  160.0  110  3.90  2.620  16.46   0   1     4     4   \nMazda RX4 Wag  21.0    6  160.0  110  3.90  2.875  17.02   0   1     4     4   \nDatsun 710     22.8    4  108.0   93  3.85  2.320  18.61   1   1     4     1   \n\n                brand  \nMazda RX4       Mazda  \nMazda RX4 Wag   Mazda  \nDatsun 710     Datsun  ",
      "text/html": "<div>\n<style scoped>\n    .dataframe tbody tr th:only-of-type {\n        vertical-align: middle;\n    }\n\n    .dataframe tbody tr th {\n        vertical-align: top;\n    }\n\n    .dataframe thead th {\n        text-align: right;\n    }\n</style>\n<table border=\"1\" class=\"dataframe\">\n  <thead>\n    <tr style=\"text-align: right;\">\n      <th></th>\n      <th>mpg</th>\n      <th>cyl</th>\n      <th>disp</th>\n      <th>hp</th>\n      <th>drat</th>\n      <th>wt</th>\n      <th>qsec</th>\n      <th>vs</th>\n      <th>am</th>\n      <th>gear</th>\n      <th>carb</th>\n      <th>brand</th>\n    </tr>\n  </thead>\n  <tbody>\n    <tr>\n      <th>Mazda RX4</th>\n      <td>21.0</td>\n      <td>6</td>\n      <td>160.0</td>\n      <td>110</td>\n      <td>3.90</td>\n      <td>2.620</td>\n      <td>16.46</td>\n      <td>0</td>\n      <td>1</td>\n      <td>4</td>\n      <td>4</td>\n      <td>Mazda</td>\n    </tr>\n    <tr>\n      <th>Mazda RX4 Wag</th>\n      <td>21.0</td>\n      <td>6</td>\n      <td>160.0</td>\n      <td>110</td>\n      <td>3.90</td>\n      <td>2.875</td>\n      <td>17.02</td>\n      <td>0</td>\n      <td>1</td>\n      <td>4</td>\n      <td>4</td>\n      <td>Mazda</td>\n    </tr>\n    <tr>\n      <th>Datsun 710</th>\n      <td>22.8</td>\n      <td>4</td>\n      <td>108.0</td>\n      <td>93</td>\n      <td>3.85</td>\n      <td>2.320</td>\n      <td>18.61</td>\n      <td>1</td>\n      <td>1</td>\n      <td>4</td>\n      <td>1</td>\n      <td>Datsun</td>\n    </tr>\n  </tbody>\n</table>\n</div>"
     },
     "execution_count": 100,
     "metadata": {},
     "output_type": "execute_result"
    }
   ],
   "source": [
    "df.head(3)"
   ],
   "metadata": {
    "collapsed": false,
    "pycharm": {
     "name": "#%%\n"
    }
   }
  },
  {
   "cell_type": "markdown",
   "source": [
    "### 7. **추가된 brand 컬럼을 제외한 모든 컬럼을 통해 pca를 실시한다. 2개의 주성분과 brand컬럼으로 구성된 새로운 데이터 프레임을 출력하고, brand에 따른 2개 주성분을 시각화하여라 (brand를 구분 할수 있도록 색이다른 scatterplot, legend를 표시한다)**"
   ],
   "metadata": {
    "collapsed": false,
    "pycharm": {
     "name": "#%% md\n"
    }
   }
  },
  {
   "cell_type": "code",
   "execution_count": 106,
   "outputs": [],
   "source": [
    "not_brand = df[df.columns[:-1]]\n",
    "\n",
    "# 2개의 주성분\n",
    "componentnum =2\n",
    "pca =PCA(n_components = componentnum)\n",
    "printcipalComponents = pca.fit_transform(not_brand)\n",
    "nb_pcadf = pd.DataFrame(data=printcipalComponents, columns=['component'+str(x) for x in range(componentnum)])\n",
    "\n",
    "nb_pcadf['brand'] = list(df['brand'])"
   ],
   "metadata": {
    "collapsed": false,
    "pycharm": {
     "name": "#%%\n"
    }
   }
  },
  {
   "cell_type": "code",
   "execution_count": 107,
   "outputs": [
    {
     "data": {
      "text/plain": "   component0  component1   brand\n0  -79.596425   -2.132241   Mazda\n1  -79.598570   -2.147487   Mazda\n2 -133.894096    5.057570  Datsun",
      "text/html": "<div>\n<style scoped>\n    .dataframe tbody tr th:only-of-type {\n        vertical-align: middle;\n    }\n\n    .dataframe tbody tr th {\n        vertical-align: top;\n    }\n\n    .dataframe thead th {\n        text-align: right;\n    }\n</style>\n<table border=\"1\" class=\"dataframe\">\n  <thead>\n    <tr style=\"text-align: right;\">\n      <th></th>\n      <th>component0</th>\n      <th>component1</th>\n      <th>brand</th>\n    </tr>\n  </thead>\n  <tbody>\n    <tr>\n      <th>0</th>\n      <td>-79.596425</td>\n      <td>-2.132241</td>\n      <td>Mazda</td>\n    </tr>\n    <tr>\n      <th>1</th>\n      <td>-79.598570</td>\n      <td>-2.147487</td>\n      <td>Mazda</td>\n    </tr>\n    <tr>\n      <th>2</th>\n      <td>-133.894096</td>\n      <td>5.057570</td>\n      <td>Datsun</td>\n    </tr>\n  </tbody>\n</table>\n</div>"
     },
     "execution_count": 107,
     "metadata": {},
     "output_type": "execute_result"
    }
   ],
   "source": [
    "nb_pcadf.head(3)\n"
   ],
   "metadata": {
    "collapsed": false,
    "pycharm": {
     "name": "#%%\n"
    }
   }
  },
  {
   "cell_type": "code",
   "execution_count": 118,
   "outputs": [
    {
     "data": {
      "text/plain": "<Figure size 720x720 with 1 Axes>",
      "image/png": "[encoded data removed]"
     },
     "metadata": {
      "needs_background": "light"
     },
     "output_type": "display_data"
    }
   ],
   "source": [
    "import seaborn as sns\n",
    "plt.figure(figsize=(10,10))\n",
    "sns.scatterplot(x='component0', y='component1', hue = 'brand',data=nb_pcadf)\n",
    "plt.legend()\n",
    "plt.show()"
   ],
   "metadata": {
    "collapsed": false,
    "pycharm": {
     "name": "#%%\n"
    }
   }
  },
  {
   "cell_type": "code",
   "execution_count": null,
   "outputs": [],
   "source": [],
   "metadata": {
    "collapsed": false,
    "pycharm": {
     "name": "#%%\n"
    }
   }
  }
 ],
 "metadata": {
  "kernelspec": {
   "display_name": "Python 3",
   "language": "python",
   "name": "python3"
  },
  "language_info": {
   "codemirror_mode": {
    "name": "ipython",
    "version": 2
   },
   "file_extension": ".py",
   "mimetype": "text/x-python",
   "name": "python",
   "nbconvert_exporter": "python",
   "pygments_lexer": "ipython2",
   "version": "2.7.6"
  }
 },
 "nbformat": 4,
 "nbformat_minor": 0
}